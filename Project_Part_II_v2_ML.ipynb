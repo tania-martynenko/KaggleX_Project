{
  "nbformat": 4,
  "nbformat_minor": 0,
  "metadata": {
    "colab": {
      "provenance": [],
      "authorship_tag": "ABX9TyNRX/3Tr/gjrVtNaBXTGEn8",
      "include_colab_link": true
    },
    "kernelspec": {
      "name": "python3",
      "display_name": "Python 3"
    },
    "language_info": {
      "name": "python"
    }
  },
  "cells": [
    {
      "cell_type": "markdown",
      "metadata": {
        "id": "view-in-github",
        "colab_type": "text"
      },
      "source": [
        "<a href=\"https://colab.research.google.com/github/tania-martynenko/KaggleX_Project/blob/main/Project_Part_II_v2_ML.ipynb\" target=\"_parent\"><img src=\"https://colab.research.google.com/assets/colab-badge.svg\" alt=\"Open In Colab\"/></a>"
      ]
    },
    {
      "cell_type": "code",
      "execution_count": null,
      "metadata": {
        "colab": {
          "base_uri": "https://localhost:8080/"
        },
        "id": "AI5VI4xrdulU",
        "outputId": "0b99fb45-e4ba-43d6-fe9d-66d6b9456ebf"
      },
      "outputs": [
        {
          "output_type": "stream",
          "name": "stdout",
          "text": [
            "Drive already mounted at /content/drive; to attempt to forcibly remount, call drive.mount(\"/content/drive\", force_remount=True).\n"
          ]
        }
      ],
      "source": [
        "from google.colab import drive\n",
        "drive.mount('/content/drive')"
      ]
    },
    {
      "cell_type": "code",
      "source": [
        "import pandas as pd\n",
        "import numpy as np\n"
      ],
      "metadata": {
        "id": "2HSW7M6wdxue"
      },
      "execution_count": null,
      "outputs": []
    },
    {
      "cell_type": "code",
      "source": [
        "import warnings                                 # Used to ignore the warning given as output of the code\n",
        "warnings.filterwarnings('ignore')\n",
        "from sklearn.metrics import mean_squared_error  # A performance metrics in sklearn"
      ],
      "metadata": {
        "id": "hCUfCx1YeQTJ"
      },
      "execution_count": null,
      "outputs": []
    },
    {
      "cell_type": "code",
      "source": [
        "from sklearn.model_selection import train_test_split\n",
        "from sklearn.preprocessing import StandardScaler\n",
        "from sklearn.preprocessing import LabelEncoder"
      ],
      "metadata": {
        "id": "H3u9AxT3ef2A"
      },
      "execution_count": null,
      "outputs": []
    },
    {
      "cell_type": "code",
      "source": [
        "from sklearn.metrics import precision_score, recall_score, f1_score, roc_auc_score, precision_recall_curve, roc_curve\n",
        "from sklearn.model_selection import train_test_split, cross_val_score\n",
        "from sklearn.ensemble import RandomForestClassifier\n",
        "import matplotlib\n",
        "import matplotlib.pyplot as plt\n",
        "from matplotlib import cm"
      ],
      "metadata": {
        "id": "p8HLbsFYehmD"
      },
      "execution_count": null,
      "outputs": []
    },
    {
      "cell_type": "code",
      "source": [
        "df = pd.read_csv('/content/drive/MyDrive/KaggleX_Project/Data/car_accident_preprecced_df.csv')"
      ],
      "metadata": {
        "id": "o_dDh2MmelSx"
      },
      "execution_count": null,
      "outputs": []
    },
    {
      "cell_type": "code",
      "source": [
        "pd.set_option('display.max_columns', None) #Show all columns"
      ],
      "metadata": {
        "id": "TkPK7AWhemLf"
      },
      "execution_count": null,
      "outputs": []
    },
    {
      "cell_type": "code",
      "source": [
        "df.head()"
      ],
      "metadata": {
        "colab": {
          "base_uri": "https://localhost:8080/",
          "height": 538
        },
        "id": "d6GLTt7eeo3T",
        "outputId": "72a058fe-df3b-404c-d6ed-d8f5e7bc2c38"
      },
      "execution_count": null,
      "outputs": [
        {
          "output_type": "execute_result",
          "data": {
            "text/plain": [
              "  Report Number Local Case Number                Agency Name  \\\n",
              "0   MCP3040003N         190026050   Montgomery County Police   \n",
              "1   MCP1307000K         190024786   Montgomery County Police   \n",
              "2   MCP2846008X         230034260   Montgomery County Police   \n",
              "3   MCP32610017         230034668   Montgomery County Police   \n",
              "4    EJ78520081         230033429  Gaithersburg Police Depar   \n",
              "\n",
              "        ACRS Report Type        Route Type          Road Name  \\\n",
              "0  Property Damage Crash           Unknown            Unknown   \n",
              "1  Property Damage Crash           Unknown            Unknown   \n",
              "2  Property Damage Crash            County       SELFRIDGE RD   \n",
              "3  Property Damage Crash  Maryland (State)  MUNCASTER MILL RD   \n",
              "4  Property Damage Crash      Municipality         PERRY PKWY   \n",
              "\n",
              "  Cross-Street Type       Cross-Street Name     Collision Type  Weather  \\\n",
              "0           Unknown                 Unknown              OTHER    CLEAR   \n",
              "1           Unknown                 Unknown            UNKNOWN    CLEAR   \n",
              "2            County             RANDOLPH RD              OTHER    CLEAR   \n",
              "3            County          SHADY GROVE RD              OTHER  UNKNOWN   \n",
              "4           Unknown  ENT TO SHOPPING CENTER  SAME DIR REAR END  UNKNOWN   \n",
              "\n",
              "  Surface Condition           Light Traffic Control Driver Substance Abuse  \\\n",
              "0           UNKNOWN        DAYLIGHT         UNKNOWN                Unknown   \n",
              "1           UNKNOWN        DAYLIGHT         UNKNOWN                Unknown   \n",
              "2               DRY  DARK LIGHTS ON  TRAFFIC SIGNAL                Unknown   \n",
              "3               DRY  DARK LIGHTS ON  TRAFFIC SIGNAL                Unknown   \n",
              "4               DRY        DAYLIGHT     NO CONTROLS                Unknown   \n",
              "\n",
              "                              Person ID Driver At Fault     Injury Severity  \\\n",
              "0  DE2A24CD-7919-4F8D-BABF-5B75CE12D21E             Yes  NO APPARENT INJURY   \n",
              "1  6208FA7B-5DC4-4B54-AD60-0C06DFE2AE81             Yes  NO APPARENT INJURY   \n",
              "2  9ACC5A7E-47A1-438F-BF0E-40B0A8632055             Yes  NO APPARENT INJURY   \n",
              "3  E611A3F8-5F7D-465B-8DE0-3814027998F1              No  NO APPARENT INJURY   \n",
              "4  3C7F6951-1701-44DC-9824-88DF4E32352E             Yes  NO APPARENT INJURY   \n",
              "\n",
              "  Drivers License State                            Vehicle ID  \\\n",
              "0               Unknown  165AD539-A8C8-4004-AF73-B7DCAAA8B3CC   \n",
              "1                    XX  10239493-D667-42F9-A3D2-820FE184CB6C   \n",
              "2                    MD  8B61B8E0-5473-4C78-A654-6029684ABD03   \n",
              "3                    MD  1A592482-AF1F-49CE-8554-77EF7C55966B   \n",
              "4                    MD  C2EF337E-5881-48ED-9B06-36D0BE00557C   \n",
              "\n",
              "  Vehicle Damage Extent Vehicle First Impact Location  \\\n",
              "0           SUPERFICIAL                    ONE OCLOCK   \n",
              "1            FUNCTIONAL                    ONE OCLOCK   \n",
              "2           SUPERFICIAL                  SEVEN OCLOCK   \n",
              "3           SUPERFICIAL                 ELEVEN OCLOCK   \n",
              "4           SUPERFICIAL                 TWELVE OCLOCK   \n",
              "\n",
              "  Vehicle Second Impact Location  \\\n",
              "0                     ONE OCLOCK   \n",
              "1                     ONE OCLOCK   \n",
              "2                   SEVEN OCLOCK   \n",
              "3                  ELEVEN OCLOCK   \n",
              "4                  TWELVE OCLOCK   \n",
              "\n",
              "                                   Vehicle Body Type       Vehicle Movement  \\\n",
              "0                                      PASSENGER CAR                PARKING   \n",
              "1                                      PASSENGER CAR                PARKING   \n",
              "2                                      PASSENGER CAR  MOVING CONSTANT SPEED   \n",
              "3                                      PASSENGER CAR      MAKING RIGHT TURN   \n",
              "4  MEDIUM/HEAVY TRUCKS 3 AXLES (OVER 10,000LBS (4...  MOVING CONSTANT SPEED   \n",
              "\n",
              "  Vehicle Continuing Dir Vehicle Going Dir  Speed Limit Driverless Vehicle  \\\n",
              "0                  North             North           15                 No   \n",
              "1                Unknown           Unknown            0                 No   \n",
              "2                   East              East           35                 No   \n",
              "3                  South              East           45                 No   \n",
              "4                Unknown           Unknown           25                 No   \n",
              "\n",
              "  Parked Vehicle  Vehicle Year Vehicle Make Vehicle Model Equipment Problems  \\\n",
              "0             No          2004        HONDA            TK            UNKNOWN   \n",
              "1             No             0          UNK           UNK            UNKNOWN   \n",
              "2             No          2003         FORD            TK          NO MISUSE   \n",
              "3             No          2023         TOYT            CP          NO MISUSE   \n",
              "4             No          2001     KENWORTH         TRUCK            UNKNOWN   \n",
              "\n",
              "    Latitude  Longitude                     Location Weekday? Crash Time  \\\n",
              "0  39.150044 -77.063089  (39.15004368, -77.06308884)  weekday   15:00:00   \n",
              "1  39.199047 -77.250743  (39.19904667, -77.25074333)  weekday   17:00:00   \n",
              "2  39.054588 -77.085974  (39.05458848, -77.08597423)  weekday   10:45:00   \n",
              "3  39.148721 -77.147111  (39.14872076, -77.14711061)  weekday   23:40:00   \n",
              "4  39.149085 -77.210731  (39.14908542, -77.21073135)  weekday   17:40:00   \n",
              "\n",
              "   Crash Date Driver Distracted Group  Year  \n",
              "0  2019-05-31                  Others  2019  \n",
              "1  2019-05-24          NOT DISTRACTED  2019  \n",
              "2  2023-07-17     Mental Distractions  2023  \n",
              "3  2023-07-20          NOT DISTRACTED  2023  \n",
              "4  2023-07-13   External Distractions  2023  "
            ],
            "text/html": [
              "\n",
              "  <div id=\"df-65208eaa-5808-440d-9837-e6fbb49740b7\" class=\"colab-df-container\">\n",
              "    <div>\n",
              "<style scoped>\n",
              "    .dataframe tbody tr th:only-of-type {\n",
              "        vertical-align: middle;\n",
              "    }\n",
              "\n",
              "    .dataframe tbody tr th {\n",
              "        vertical-align: top;\n",
              "    }\n",
              "\n",
              "    .dataframe thead th {\n",
              "        text-align: right;\n",
              "    }\n",
              "</style>\n",
              "<table border=\"1\" class=\"dataframe\">\n",
              "  <thead>\n",
              "    <tr style=\"text-align: right;\">\n",
              "      <th></th>\n",
              "      <th>Report Number</th>\n",
              "      <th>Local Case Number</th>\n",
              "      <th>Agency Name</th>\n",
              "      <th>ACRS Report Type</th>\n",
              "      <th>Route Type</th>\n",
              "      <th>Road Name</th>\n",
              "      <th>Cross-Street Type</th>\n",
              "      <th>Cross-Street Name</th>\n",
              "      <th>Collision Type</th>\n",
              "      <th>Weather</th>\n",
              "      <th>Surface Condition</th>\n",
              "      <th>Light</th>\n",
              "      <th>Traffic Control</th>\n",
              "      <th>Driver Substance Abuse</th>\n",
              "      <th>Person ID</th>\n",
              "      <th>Driver At Fault</th>\n",
              "      <th>Injury Severity</th>\n",
              "      <th>Drivers License State</th>\n",
              "      <th>Vehicle ID</th>\n",
              "      <th>Vehicle Damage Extent</th>\n",
              "      <th>Vehicle First Impact Location</th>\n",
              "      <th>Vehicle Second Impact Location</th>\n",
              "      <th>Vehicle Body Type</th>\n",
              "      <th>Vehicle Movement</th>\n",
              "      <th>Vehicle Continuing Dir</th>\n",
              "      <th>Vehicle Going Dir</th>\n",
              "      <th>Speed Limit</th>\n",
              "      <th>Driverless Vehicle</th>\n",
              "      <th>Parked Vehicle</th>\n",
              "      <th>Vehicle Year</th>\n",
              "      <th>Vehicle Make</th>\n",
              "      <th>Vehicle Model</th>\n",
              "      <th>Equipment Problems</th>\n",
              "      <th>Latitude</th>\n",
              "      <th>Longitude</th>\n",
              "      <th>Location</th>\n",
              "      <th>Weekday?</th>\n",
              "      <th>Crash Time</th>\n",
              "      <th>Crash Date</th>\n",
              "      <th>Driver Distracted Group</th>\n",
              "      <th>Year</th>\n",
              "    </tr>\n",
              "  </thead>\n",
              "  <tbody>\n",
              "    <tr>\n",
              "      <th>0</th>\n",
              "      <td>MCP3040003N</td>\n",
              "      <td>190026050</td>\n",
              "      <td>Montgomery County Police</td>\n",
              "      <td>Property Damage Crash</td>\n",
              "      <td>Unknown</td>\n",
              "      <td>Unknown</td>\n",
              "      <td>Unknown</td>\n",
              "      <td>Unknown</td>\n",
              "      <td>OTHER</td>\n",
              "      <td>CLEAR</td>\n",
              "      <td>UNKNOWN</td>\n",
              "      <td>DAYLIGHT</td>\n",
              "      <td>UNKNOWN</td>\n",
              "      <td>Unknown</td>\n",
              "      <td>DE2A24CD-7919-4F8D-BABF-5B75CE12D21E</td>\n",
              "      <td>Yes</td>\n",
              "      <td>NO APPARENT INJURY</td>\n",
              "      <td>Unknown</td>\n",
              "      <td>165AD539-A8C8-4004-AF73-B7DCAAA8B3CC</td>\n",
              "      <td>SUPERFICIAL</td>\n",
              "      <td>ONE OCLOCK</td>\n",
              "      <td>ONE OCLOCK</td>\n",
              "      <td>PASSENGER CAR</td>\n",
              "      <td>PARKING</td>\n",
              "      <td>North</td>\n",
              "      <td>North</td>\n",
              "      <td>15</td>\n",
              "      <td>No</td>\n",
              "      <td>No</td>\n",
              "      <td>2004</td>\n",
              "      <td>HONDA</td>\n",
              "      <td>TK</td>\n",
              "      <td>UNKNOWN</td>\n",
              "      <td>39.150044</td>\n",
              "      <td>-77.063089</td>\n",
              "      <td>(39.15004368, -77.06308884)</td>\n",
              "      <td>weekday</td>\n",
              "      <td>15:00:00</td>\n",
              "      <td>2019-05-31</td>\n",
              "      <td>Others</td>\n",
              "      <td>2019</td>\n",
              "    </tr>\n",
              "    <tr>\n",
              "      <th>1</th>\n",
              "      <td>MCP1307000K</td>\n",
              "      <td>190024786</td>\n",
              "      <td>Montgomery County Police</td>\n",
              "      <td>Property Damage Crash</td>\n",
              "      <td>Unknown</td>\n",
              "      <td>Unknown</td>\n",
              "      <td>Unknown</td>\n",
              "      <td>Unknown</td>\n",
              "      <td>UNKNOWN</td>\n",
              "      <td>CLEAR</td>\n",
              "      <td>UNKNOWN</td>\n",
              "      <td>DAYLIGHT</td>\n",
              "      <td>UNKNOWN</td>\n",
              "      <td>Unknown</td>\n",
              "      <td>6208FA7B-5DC4-4B54-AD60-0C06DFE2AE81</td>\n",
              "      <td>Yes</td>\n",
              "      <td>NO APPARENT INJURY</td>\n",
              "      <td>XX</td>\n",
              "      <td>10239493-D667-42F9-A3D2-820FE184CB6C</td>\n",
              "      <td>FUNCTIONAL</td>\n",
              "      <td>ONE OCLOCK</td>\n",
              "      <td>ONE OCLOCK</td>\n",
              "      <td>PASSENGER CAR</td>\n",
              "      <td>PARKING</td>\n",
              "      <td>Unknown</td>\n",
              "      <td>Unknown</td>\n",
              "      <td>0</td>\n",
              "      <td>No</td>\n",
              "      <td>No</td>\n",
              "      <td>0</td>\n",
              "      <td>UNK</td>\n",
              "      <td>UNK</td>\n",
              "      <td>UNKNOWN</td>\n",
              "      <td>39.199047</td>\n",
              "      <td>-77.250743</td>\n",
              "      <td>(39.19904667, -77.25074333)</td>\n",
              "      <td>weekday</td>\n",
              "      <td>17:00:00</td>\n",
              "      <td>2019-05-24</td>\n",
              "      <td>NOT DISTRACTED</td>\n",
              "      <td>2019</td>\n",
              "    </tr>\n",
              "    <tr>\n",
              "      <th>2</th>\n",
              "      <td>MCP2846008X</td>\n",
              "      <td>230034260</td>\n",
              "      <td>Montgomery County Police</td>\n",
              "      <td>Property Damage Crash</td>\n",
              "      <td>County</td>\n",
              "      <td>SELFRIDGE RD</td>\n",
              "      <td>County</td>\n",
              "      <td>RANDOLPH RD</td>\n",
              "      <td>OTHER</td>\n",
              "      <td>CLEAR</td>\n",
              "      <td>DRY</td>\n",
              "      <td>DARK LIGHTS ON</td>\n",
              "      <td>TRAFFIC SIGNAL</td>\n",
              "      <td>Unknown</td>\n",
              "      <td>9ACC5A7E-47A1-438F-BF0E-40B0A8632055</td>\n",
              "      <td>Yes</td>\n",
              "      <td>NO APPARENT INJURY</td>\n",
              "      <td>MD</td>\n",
              "      <td>8B61B8E0-5473-4C78-A654-6029684ABD03</td>\n",
              "      <td>SUPERFICIAL</td>\n",
              "      <td>SEVEN OCLOCK</td>\n",
              "      <td>SEVEN OCLOCK</td>\n",
              "      <td>PASSENGER CAR</td>\n",
              "      <td>MOVING CONSTANT SPEED</td>\n",
              "      <td>East</td>\n",
              "      <td>East</td>\n",
              "      <td>35</td>\n",
              "      <td>No</td>\n",
              "      <td>No</td>\n",
              "      <td>2003</td>\n",
              "      <td>FORD</td>\n",
              "      <td>TK</td>\n",
              "      <td>NO MISUSE</td>\n",
              "      <td>39.054588</td>\n",
              "      <td>-77.085974</td>\n",
              "      <td>(39.05458848, -77.08597423)</td>\n",
              "      <td>weekday</td>\n",
              "      <td>10:45:00</td>\n",
              "      <td>2023-07-17</td>\n",
              "      <td>Mental Distractions</td>\n",
              "      <td>2023</td>\n",
              "    </tr>\n",
              "    <tr>\n",
              "      <th>3</th>\n",
              "      <td>MCP32610017</td>\n",
              "      <td>230034668</td>\n",
              "      <td>Montgomery County Police</td>\n",
              "      <td>Property Damage Crash</td>\n",
              "      <td>Maryland (State)</td>\n",
              "      <td>MUNCASTER MILL RD</td>\n",
              "      <td>County</td>\n",
              "      <td>SHADY GROVE RD</td>\n",
              "      <td>OTHER</td>\n",
              "      <td>UNKNOWN</td>\n",
              "      <td>DRY</td>\n",
              "      <td>DARK LIGHTS ON</td>\n",
              "      <td>TRAFFIC SIGNAL</td>\n",
              "      <td>Unknown</td>\n",
              "      <td>E611A3F8-5F7D-465B-8DE0-3814027998F1</td>\n",
              "      <td>No</td>\n",
              "      <td>NO APPARENT INJURY</td>\n",
              "      <td>MD</td>\n",
              "      <td>1A592482-AF1F-49CE-8554-77EF7C55966B</td>\n",
              "      <td>SUPERFICIAL</td>\n",
              "      <td>ELEVEN OCLOCK</td>\n",
              "      <td>ELEVEN OCLOCK</td>\n",
              "      <td>PASSENGER CAR</td>\n",
              "      <td>MAKING RIGHT TURN</td>\n",
              "      <td>South</td>\n",
              "      <td>East</td>\n",
              "      <td>45</td>\n",
              "      <td>No</td>\n",
              "      <td>No</td>\n",
              "      <td>2023</td>\n",
              "      <td>TOYT</td>\n",
              "      <td>CP</td>\n",
              "      <td>NO MISUSE</td>\n",
              "      <td>39.148721</td>\n",
              "      <td>-77.147111</td>\n",
              "      <td>(39.14872076, -77.14711061)</td>\n",
              "      <td>weekday</td>\n",
              "      <td>23:40:00</td>\n",
              "      <td>2023-07-20</td>\n",
              "      <td>NOT DISTRACTED</td>\n",
              "      <td>2023</td>\n",
              "    </tr>\n",
              "    <tr>\n",
              "      <th>4</th>\n",
              "      <td>EJ78520081</td>\n",
              "      <td>230033429</td>\n",
              "      <td>Gaithersburg Police Depar</td>\n",
              "      <td>Property Damage Crash</td>\n",
              "      <td>Municipality</td>\n",
              "      <td>PERRY PKWY</td>\n",
              "      <td>Unknown</td>\n",
              "      <td>ENT TO SHOPPING CENTER</td>\n",
              "      <td>SAME DIR REAR END</td>\n",
              "      <td>UNKNOWN</td>\n",
              "      <td>DRY</td>\n",
              "      <td>DAYLIGHT</td>\n",
              "      <td>NO CONTROLS</td>\n",
              "      <td>Unknown</td>\n",
              "      <td>3C7F6951-1701-44DC-9824-88DF4E32352E</td>\n",
              "      <td>Yes</td>\n",
              "      <td>NO APPARENT INJURY</td>\n",
              "      <td>MD</td>\n",
              "      <td>C2EF337E-5881-48ED-9B06-36D0BE00557C</td>\n",
              "      <td>SUPERFICIAL</td>\n",
              "      <td>TWELVE OCLOCK</td>\n",
              "      <td>TWELVE OCLOCK</td>\n",
              "      <td>MEDIUM/HEAVY TRUCKS 3 AXLES (OVER 10,000LBS (4...</td>\n",
              "      <td>MOVING CONSTANT SPEED</td>\n",
              "      <td>Unknown</td>\n",
              "      <td>Unknown</td>\n",
              "      <td>25</td>\n",
              "      <td>No</td>\n",
              "      <td>No</td>\n",
              "      <td>2001</td>\n",
              "      <td>KENWORTH</td>\n",
              "      <td>TRUCK</td>\n",
              "      <td>UNKNOWN</td>\n",
              "      <td>39.149085</td>\n",
              "      <td>-77.210731</td>\n",
              "      <td>(39.14908542, -77.21073135)</td>\n",
              "      <td>weekday</td>\n",
              "      <td>17:40:00</td>\n",
              "      <td>2023-07-13</td>\n",
              "      <td>External Distractions</td>\n",
              "      <td>2023</td>\n",
              "    </tr>\n",
              "  </tbody>\n",
              "</table>\n",
              "</div>\n",
              "    <div class=\"colab-df-buttons\">\n",
              "\n",
              "  <div class=\"colab-df-container\">\n",
              "    <button class=\"colab-df-convert\" onclick=\"convertToInteractive('df-65208eaa-5808-440d-9837-e6fbb49740b7')\"\n",
              "            title=\"Convert this dataframe to an interactive table.\"\n",
              "            style=\"display:none;\">\n",
              "\n",
              "  <svg xmlns=\"http://www.w3.org/2000/svg\" height=\"24px\" viewBox=\"0 -960 960 960\">\n",
              "    <path d=\"M120-120v-720h720v720H120Zm60-500h600v-160H180v160Zm220 220h160v-160H400v160Zm0 220h160v-160H400v160ZM180-400h160v-160H180v160Zm440 0h160v-160H620v160ZM180-180h160v-160H180v160Zm440 0h160v-160H620v160Z\"/>\n",
              "  </svg>\n",
              "    </button>\n",
              "\n",
              "  <style>\n",
              "    .colab-df-container {\n",
              "      display:flex;\n",
              "      gap: 12px;\n",
              "    }\n",
              "\n",
              "    .colab-df-convert {\n",
              "      background-color: #E8F0FE;\n",
              "      border: none;\n",
              "      border-radius: 50%;\n",
              "      cursor: pointer;\n",
              "      display: none;\n",
              "      fill: #1967D2;\n",
              "      height: 32px;\n",
              "      padding: 0 0 0 0;\n",
              "      width: 32px;\n",
              "    }\n",
              "\n",
              "    .colab-df-convert:hover {\n",
              "      background-color: #E2EBFA;\n",
              "      box-shadow: 0px 1px 2px rgba(60, 64, 67, 0.3), 0px 1px 3px 1px rgba(60, 64, 67, 0.15);\n",
              "      fill: #174EA6;\n",
              "    }\n",
              "\n",
              "    .colab-df-buttons div {\n",
              "      margin-bottom: 4px;\n",
              "    }\n",
              "\n",
              "    [theme=dark] .colab-df-convert {\n",
              "      background-color: #3B4455;\n",
              "      fill: #D2E3FC;\n",
              "    }\n",
              "\n",
              "    [theme=dark] .colab-df-convert:hover {\n",
              "      background-color: #434B5C;\n",
              "      box-shadow: 0px 1px 3px 1px rgba(0, 0, 0, 0.15);\n",
              "      filter: drop-shadow(0px 1px 2px rgba(0, 0, 0, 0.3));\n",
              "      fill: #FFFFFF;\n",
              "    }\n",
              "  </style>\n",
              "\n",
              "    <script>\n",
              "      const buttonEl =\n",
              "        document.querySelector('#df-65208eaa-5808-440d-9837-e6fbb49740b7 button.colab-df-convert');\n",
              "      buttonEl.style.display =\n",
              "        google.colab.kernel.accessAllowed ? 'block' : 'none';\n",
              "\n",
              "      async function convertToInteractive(key) {\n",
              "        const element = document.querySelector('#df-65208eaa-5808-440d-9837-e6fbb49740b7');\n",
              "        const dataTable =\n",
              "          await google.colab.kernel.invokeFunction('convertToInteractive',\n",
              "                                                    [key], {});\n",
              "        if (!dataTable) return;\n",
              "\n",
              "        const docLinkHtml = 'Like what you see? Visit the ' +\n",
              "          '<a target=\"_blank\" href=https://colab.research.google.com/notebooks/data_table.ipynb>data table notebook</a>'\n",
              "          + ' to learn more about interactive tables.';\n",
              "        element.innerHTML = '';\n",
              "        dataTable['output_type'] = 'display_data';\n",
              "        await google.colab.output.renderOutput(dataTable, element);\n",
              "        const docLink = document.createElement('div');\n",
              "        docLink.innerHTML = docLinkHtml;\n",
              "        element.appendChild(docLink);\n",
              "      }\n",
              "    </script>\n",
              "  </div>\n",
              "\n",
              "\n",
              "<div id=\"df-6f31f4a5-0de2-48a9-906a-949f83da5f4c\">\n",
              "  <button class=\"colab-df-quickchart\" onclick=\"quickchart('df-6f31f4a5-0de2-48a9-906a-949f83da5f4c')\"\n",
              "            title=\"Suggest charts.\"\n",
              "            style=\"display:none;\">\n",
              "\n",
              "<svg xmlns=\"http://www.w3.org/2000/svg\" height=\"24px\"viewBox=\"0 0 24 24\"\n",
              "     width=\"24px\">\n",
              "    <g>\n",
              "        <path d=\"M19 3H5c-1.1 0-2 .9-2 2v14c0 1.1.9 2 2 2h14c1.1 0 2-.9 2-2V5c0-1.1-.9-2-2-2zM9 17H7v-7h2v7zm4 0h-2V7h2v10zm4 0h-2v-4h2v4z\"/>\n",
              "    </g>\n",
              "</svg>\n",
              "  </button>\n",
              "\n",
              "<style>\n",
              "  .colab-df-quickchart {\n",
              "      --bg-color: #E8F0FE;\n",
              "      --fill-color: #1967D2;\n",
              "      --hover-bg-color: #E2EBFA;\n",
              "      --hover-fill-color: #174EA6;\n",
              "      --disabled-fill-color: #AAA;\n",
              "      --disabled-bg-color: #DDD;\n",
              "  }\n",
              "\n",
              "  [theme=dark] .colab-df-quickchart {\n",
              "      --bg-color: #3B4455;\n",
              "      --fill-color: #D2E3FC;\n",
              "      --hover-bg-color: #434B5C;\n",
              "      --hover-fill-color: #FFFFFF;\n",
              "      --disabled-bg-color: #3B4455;\n",
              "      --disabled-fill-color: #666;\n",
              "  }\n",
              "\n",
              "  .colab-df-quickchart {\n",
              "    background-color: var(--bg-color);\n",
              "    border: none;\n",
              "    border-radius: 50%;\n",
              "    cursor: pointer;\n",
              "    display: none;\n",
              "    fill: var(--fill-color);\n",
              "    height: 32px;\n",
              "    padding: 0;\n",
              "    width: 32px;\n",
              "  }\n",
              "\n",
              "  .colab-df-quickchart:hover {\n",
              "    background-color: var(--hover-bg-color);\n",
              "    box-shadow: 0 1px 2px rgba(60, 64, 67, 0.3), 0 1px 3px 1px rgba(60, 64, 67, 0.15);\n",
              "    fill: var(--button-hover-fill-color);\n",
              "  }\n",
              "\n",
              "  .colab-df-quickchart-complete:disabled,\n",
              "  .colab-df-quickchart-complete:disabled:hover {\n",
              "    background-color: var(--disabled-bg-color);\n",
              "    fill: var(--disabled-fill-color);\n",
              "    box-shadow: none;\n",
              "  }\n",
              "\n",
              "  .colab-df-spinner {\n",
              "    border: 2px solid var(--fill-color);\n",
              "    border-color: transparent;\n",
              "    border-bottom-color: var(--fill-color);\n",
              "    animation:\n",
              "      spin 1s steps(1) infinite;\n",
              "  }\n",
              "\n",
              "  @keyframes spin {\n",
              "    0% {\n",
              "      border-color: transparent;\n",
              "      border-bottom-color: var(--fill-color);\n",
              "      border-left-color: var(--fill-color);\n",
              "    }\n",
              "    20% {\n",
              "      border-color: transparent;\n",
              "      border-left-color: var(--fill-color);\n",
              "      border-top-color: var(--fill-color);\n",
              "    }\n",
              "    30% {\n",
              "      border-color: transparent;\n",
              "      border-left-color: var(--fill-color);\n",
              "      border-top-color: var(--fill-color);\n",
              "      border-right-color: var(--fill-color);\n",
              "    }\n",
              "    40% {\n",
              "      border-color: transparent;\n",
              "      border-right-color: var(--fill-color);\n",
              "      border-top-color: var(--fill-color);\n",
              "    }\n",
              "    60% {\n",
              "      border-color: transparent;\n",
              "      border-right-color: var(--fill-color);\n",
              "    }\n",
              "    80% {\n",
              "      border-color: transparent;\n",
              "      border-right-color: var(--fill-color);\n",
              "      border-bottom-color: var(--fill-color);\n",
              "    }\n",
              "    90% {\n",
              "      border-color: transparent;\n",
              "      border-bottom-color: var(--fill-color);\n",
              "    }\n",
              "  }\n",
              "</style>\n",
              "\n",
              "  <script>\n",
              "    async function quickchart(key) {\n",
              "      const quickchartButtonEl =\n",
              "        document.querySelector('#' + key + ' button');\n",
              "      quickchartButtonEl.disabled = true;  // To prevent multiple clicks.\n",
              "      quickchartButtonEl.classList.add('colab-df-spinner');\n",
              "      try {\n",
              "        const charts = await google.colab.kernel.invokeFunction(\n",
              "            'suggestCharts', [key], {});\n",
              "      } catch (error) {\n",
              "        console.error('Error during call to suggestCharts:', error);\n",
              "      }\n",
              "      quickchartButtonEl.classList.remove('colab-df-spinner');\n",
              "      quickchartButtonEl.classList.add('colab-df-quickchart-complete');\n",
              "    }\n",
              "    (() => {\n",
              "      let quickchartButtonEl =\n",
              "        document.querySelector('#df-6f31f4a5-0de2-48a9-906a-949f83da5f4c button');\n",
              "      quickchartButtonEl.style.display =\n",
              "        google.colab.kernel.accessAllowed ? 'block' : 'none';\n",
              "    })();\n",
              "  </script>\n",
              "</div>\n",
              "    </div>\n",
              "  </div>\n"
            ]
          },
          "metadata": {},
          "execution_count": 50
        }
      ]
    },
    {
      "cell_type": "code",
      "source": [
        "df.info()"
      ],
      "metadata": {
        "colab": {
          "base_uri": "https://localhost:8080/"
        },
        "id": "br9OZZ6VerZX",
        "outputId": "e88b898b-e273-42f3-eec5-bd76f058e4e7"
      },
      "execution_count": null,
      "outputs": [
        {
          "output_type": "stream",
          "name": "stdout",
          "text": [
            "<class 'pandas.core.frame.DataFrame'>\n",
            "RangeIndex: 161260 entries, 0 to 161259\n",
            "Data columns (total 41 columns):\n",
            " #   Column                          Non-Null Count   Dtype  \n",
            "---  ------                          --------------   -----  \n",
            " 0   Report Number                   161260 non-null  object \n",
            " 1   Local Case Number               161260 non-null  object \n",
            " 2   Agency Name                     161260 non-null  object \n",
            " 3   ACRS Report Type                161260 non-null  object \n",
            " 4   Route Type                      161260 non-null  object \n",
            " 5   Road Name                       161260 non-null  object \n",
            " 6   Cross-Street Type               161260 non-null  object \n",
            " 7   Cross-Street Name               161260 non-null  object \n",
            " 8   Collision Type                  161260 non-null  object \n",
            " 9   Weather                         161260 non-null  object \n",
            " 10  Surface Condition               161260 non-null  object \n",
            " 11  Light                           161260 non-null  object \n",
            " 12  Traffic Control                 161260 non-null  object \n",
            " 13  Driver Substance Abuse          161260 non-null  object \n",
            " 14  Person ID                       161260 non-null  object \n",
            " 15  Driver At Fault                 161260 non-null  object \n",
            " 16  Injury Severity                 161260 non-null  object \n",
            " 17  Drivers License State           161260 non-null  object \n",
            " 18  Vehicle ID                      161260 non-null  object \n",
            " 19  Vehicle Damage Extent           161260 non-null  object \n",
            " 20  Vehicle First Impact Location   161260 non-null  object \n",
            " 21  Vehicle Second Impact Location  161260 non-null  object \n",
            " 22  Vehicle Body Type               161260 non-null  object \n",
            " 23  Vehicle Movement                161260 non-null  object \n",
            " 24  Vehicle Continuing Dir          161260 non-null  object \n",
            " 25  Vehicle Going Dir               161260 non-null  object \n",
            " 26  Speed Limit                     161260 non-null  int64  \n",
            " 27  Driverless Vehicle              161260 non-null  object \n",
            " 28  Parked Vehicle                  161260 non-null  object \n",
            " 29  Vehicle Year                    161260 non-null  int64  \n",
            " 30  Vehicle Make                    161260 non-null  object \n",
            " 31  Vehicle Model                   161260 non-null  object \n",
            " 32  Equipment Problems              161260 non-null  object \n",
            " 33  Latitude                        161260 non-null  float64\n",
            " 34  Longitude                       161260 non-null  float64\n",
            " 35  Location                        161260 non-null  object \n",
            " 36  Weekday?                        161260 non-null  object \n",
            " 37  Crash Time                      161260 non-null  object \n",
            " 38  Crash Date                      161260 non-null  object \n",
            " 39  Driver Distracted Group         161260 non-null  object \n",
            " 40  Year                            161260 non-null  int64  \n",
            "dtypes: float64(2), int64(3), object(36)\n",
            "memory usage: 50.4+ MB\n"
          ]
        }
      ]
    },
    {
      "cell_type": "code",
      "source": [
        "drop_columns = ['Report Number', 'Cross-Street Name', 'Local Case Number','Location', 'Agency Name', 'ACRS Report Type', 'Crash Date','Cross-Street Type', 'Person ID', 'Drivers License State', 'Vehicle ID', 'Vehicle First Impact Location', 'Vehicle Second Impact Location', 'Vehicle Continuing Dir', 'Vehicle Going Dir','Driverless Vehicle', 'Vehicle Year', 'Vehicle Make', 'Vehicle Model', 'Crash Time', 'Year']"
      ],
      "metadata": {
        "id": "KBvNYJ5deuTs"
      },
      "execution_count": null,
      "outputs": []
    },
    {
      "cell_type": "code",
      "source": [
        "df.drop(columns=drop_columns, inplace=True)"
      ],
      "metadata": {
        "id": "Qm9OJSTUfDzi"
      },
      "execution_count": null,
      "outputs": []
    },
    {
      "cell_type": "code",
      "source": [
        "df.info()"
      ],
      "metadata": {
        "colab": {
          "base_uri": "https://localhost:8080/"
        },
        "id": "POjtxSaDfGl4",
        "outputId": "7403cc7a-66cf-4099-ebd2-271d44c28dc6"
      },
      "execution_count": null,
      "outputs": [
        {
          "output_type": "stream",
          "name": "stdout",
          "text": [
            "<class 'pandas.core.frame.DataFrame'>\n",
            "RangeIndex: 161260 entries, 0 to 161259\n",
            "Data columns (total 20 columns):\n",
            " #   Column                   Non-Null Count   Dtype  \n",
            "---  ------                   --------------   -----  \n",
            " 0   Route Type               161260 non-null  object \n",
            " 1   Road Name                161260 non-null  object \n",
            " 2   Collision Type           161260 non-null  object \n",
            " 3   Weather                  161260 non-null  object \n",
            " 4   Surface Condition        161260 non-null  object \n",
            " 5   Light                    161260 non-null  object \n",
            " 6   Traffic Control          161260 non-null  object \n",
            " 7   Driver Substance Abuse   161260 non-null  object \n",
            " 8   Driver At Fault          161260 non-null  object \n",
            " 9   Injury Severity          161260 non-null  object \n",
            " 10  Vehicle Damage Extent    161260 non-null  object \n",
            " 11  Vehicle Body Type        161260 non-null  object \n",
            " 12  Vehicle Movement         161260 non-null  object \n",
            " 13  Speed Limit              161260 non-null  int64  \n",
            " 14  Parked Vehicle           161260 non-null  object \n",
            " 15  Equipment Problems       161260 non-null  object \n",
            " 16  Latitude                 161260 non-null  float64\n",
            " 17  Longitude                161260 non-null  float64\n",
            " 18  Weekday?                 161260 non-null  object \n",
            " 19  Driver Distracted Group  161260 non-null  object \n",
            "dtypes: float64(2), int64(1), object(17)\n",
            "memory usage: 24.6+ MB\n"
          ]
        }
      ]
    },
    {
      "cell_type": "markdown",
      "source": [
        "2. Encoding Categorical Variables"
      ],
      "metadata": {
        "id": "iSJiUAFffLEF"
      }
    },
    {
      "cell_type": "code",
      "source": [
        "category_columns = ['Collision Type', 'Weather', 'Surface Condition', 'Light',\n",
        "                   'Traffic Control', 'Driver Substance Abuse', 'Driver At Fault', 'Vehicle Damage Extent', 'Vehicle Body Type',\n",
        "                   'Vehicle Movement', 'Parked Vehicle', 'Equipment Problems',\n",
        "                    'Driver Distracted Group', 'Route Type', 'Road Name', 'Weekday?']\n",
        "\n",
        "numerical_columns = ['Speed Limit', 'Latitude', 'Longitude']"
      ],
      "metadata": {
        "id": "nVFUuwWqfI4m"
      },
      "execution_count": null,
      "outputs": []
    },
    {
      "cell_type": "code",
      "source": [
        "label_encoder = LabelEncoder()\n",
        "for column in category_columns:\n",
        "    df[column] = label_encoder.fit_transform(df[column])"
      ],
      "metadata": {
        "id": "iqaxCp0Ghbun"
      },
      "execution_count": null,
      "outputs": []
    },
    {
      "cell_type": "code",
      "source": [
        "df.info()"
      ],
      "metadata": {
        "colab": {
          "base_uri": "https://localhost:8080/"
        },
        "id": "vPo3SG0lhe5l",
        "outputId": "2a40fc68-5a29-4bec-e3a2-ddcbf2fd61dd"
      },
      "execution_count": null,
      "outputs": [
        {
          "output_type": "stream",
          "name": "stdout",
          "text": [
            "<class 'pandas.core.frame.DataFrame'>\n",
            "RangeIndex: 161260 entries, 0 to 161259\n",
            "Data columns (total 20 columns):\n",
            " #   Column                   Non-Null Count   Dtype  \n",
            "---  ------                   --------------   -----  \n",
            " 0   Route Type               161260 non-null  int64  \n",
            " 1   Road Name                161260 non-null  int64  \n",
            " 2   Collision Type           161260 non-null  int64  \n",
            " 3   Weather                  161260 non-null  int64  \n",
            " 4   Surface Condition        161260 non-null  int64  \n",
            " 5   Light                    161260 non-null  int64  \n",
            " 6   Traffic Control          161260 non-null  int64  \n",
            " 7   Driver Substance Abuse   161260 non-null  int64  \n",
            " 8   Driver At Fault          161260 non-null  int64  \n",
            " 9   Injury Severity          161260 non-null  object \n",
            " 10  Vehicle Damage Extent    161260 non-null  int64  \n",
            " 11  Vehicle Body Type        161260 non-null  int64  \n",
            " 12  Vehicle Movement         161260 non-null  int64  \n",
            " 13  Speed Limit              161260 non-null  int64  \n",
            " 14  Parked Vehicle           161260 non-null  int64  \n",
            " 15  Equipment Problems       161260 non-null  int64  \n",
            " 16  Latitude                 161260 non-null  float64\n",
            " 17  Longitude                161260 non-null  float64\n",
            " 18  Weekday?                 161260 non-null  int64  \n",
            " 19  Driver Distracted Group  161260 non-null  int64  \n",
            "dtypes: float64(2), int64(17), object(1)\n",
            "memory usage: 24.6+ MB\n"
          ]
        }
      ]
    },
    {
      "cell_type": "code",
      "source": [
        "target_column = df['Injury Severity'].value_counts()\n",
        "target_column"
      ],
      "metadata": {
        "colab": {
          "base_uri": "https://localhost:8080/"
        },
        "id": "PuhYX5rzhim8",
        "outputId": "a049600e-d9e0-4ae2-de9d-e62307926447"
      },
      "execution_count": null,
      "outputs": [
        {
          "output_type": "execute_result",
          "data": {
            "text/plain": [
              "NO APPARENT INJURY          131459\n",
              "POSSIBLE INJURY              16818\n",
              "SUSPECTED MINOR INJURY       11471\n",
              "SUSPECTED SERIOUS INJURY      1362\n",
              "FATAL INJURY                   150\n",
              "Name: Injury Severity, dtype: int64"
            ]
          },
          "metadata": {},
          "execution_count": 59
        }
      ]
    },
    {
      "cell_type": "code",
      "source": [
        "severity_mapping = {\n",
        "    'NO APPARENT INJURY': 0,\n",
        "    'POSSIBLE INJURY': 1,\n",
        "    'SUSPECTED MINOR INJURY': 2,\n",
        "    'SUSPECTED SERIOUS INJURY': 3,\n",
        "    'FATAL INJURY': 4\n",
        "}"
      ],
      "metadata": {
        "id": "7-3dxEnkhnL-"
      },
      "execution_count": null,
      "outputs": []
    },
    {
      "cell_type": "code",
      "source": [
        "df['Injury Severity'] = df['Injury Severity'].map(severity_mapping)"
      ],
      "metadata": {
        "id": "MUaN7-rfhpXk"
      },
      "execution_count": null,
      "outputs": []
    },
    {
      "cell_type": "code",
      "source": [
        "df['Injury Severity'].value_counts()"
      ],
      "metadata": {
        "colab": {
          "base_uri": "https://localhost:8080/"
        },
        "id": "j-yTxQnchrbn",
        "outputId": "a86e93c5-f917-4ec1-f76e-684f6af0c8d5"
      },
      "execution_count": null,
      "outputs": [
        {
          "output_type": "execute_result",
          "data": {
            "text/plain": [
              "0    131459\n",
              "1     16818\n",
              "2     11471\n",
              "3      1362\n",
              "4       150\n",
              "Name: Injury Severity, dtype: int64"
            ]
          },
          "metadata": {},
          "execution_count": 62
        }
      ]
    },
    {
      "cell_type": "code",
      "source": [
        "df.info()\n"
      ],
      "metadata": {
        "colab": {
          "base_uri": "https://localhost:8080/"
        },
        "id": "LS_bv2VmhtUO",
        "outputId": "b61c6829-2206-47ee-b7af-2fdb83479b7f"
      },
      "execution_count": null,
      "outputs": [
        {
          "output_type": "stream",
          "name": "stdout",
          "text": [
            "<class 'pandas.core.frame.DataFrame'>\n",
            "RangeIndex: 161260 entries, 0 to 161259\n",
            "Data columns (total 20 columns):\n",
            " #   Column                   Non-Null Count   Dtype  \n",
            "---  ------                   --------------   -----  \n",
            " 0   Route Type               161260 non-null  int64  \n",
            " 1   Road Name                161260 non-null  int64  \n",
            " 2   Collision Type           161260 non-null  int64  \n",
            " 3   Weather                  161260 non-null  int64  \n",
            " 4   Surface Condition        161260 non-null  int64  \n",
            " 5   Light                    161260 non-null  int64  \n",
            " 6   Traffic Control          161260 non-null  int64  \n",
            " 7   Driver Substance Abuse   161260 non-null  int64  \n",
            " 8   Driver At Fault          161260 non-null  int64  \n",
            " 9   Injury Severity          161260 non-null  int64  \n",
            " 10  Vehicle Damage Extent    161260 non-null  int64  \n",
            " 11  Vehicle Body Type        161260 non-null  int64  \n",
            " 12  Vehicle Movement         161260 non-null  int64  \n",
            " 13  Speed Limit              161260 non-null  int64  \n",
            " 14  Parked Vehicle           161260 non-null  int64  \n",
            " 15  Equipment Problems       161260 non-null  int64  \n",
            " 16  Latitude                 161260 non-null  float64\n",
            " 17  Longitude                161260 non-null  float64\n",
            " 18  Weekday?                 161260 non-null  int64  \n",
            " 19  Driver Distracted Group  161260 non-null  int64  \n",
            "dtypes: float64(2), int64(18)\n",
            "memory usage: 24.6 MB\n"
          ]
        }
      ]
    },
    {
      "cell_type": "markdown",
      "source": [
        "#### 3. Feature Scaling"
      ],
      "metadata": {
        "id": "5AVPS0LRh2b2"
      }
    },
    {
      "cell_type": "code",
      "source": [
        "X = df.drop('Injury Severity', axis=1)\n",
        "y = df['Injury Severity']"
      ],
      "metadata": {
        "id": "od2Mssfwh0K_"
      },
      "execution_count": null,
      "outputs": []
    },
    {
      "cell_type": "code",
      "source": [
        "y.value_counts()"
      ],
      "metadata": {
        "colab": {
          "base_uri": "https://localhost:8080/"
        },
        "id": "GJDiW9wkh5Vz",
        "outputId": "9b00b89a-1bf7-4d20-de59-c655d3ccfcc4"
      },
      "execution_count": null,
      "outputs": [
        {
          "output_type": "execute_result",
          "data": {
            "text/plain": [
              "0    131459\n",
              "1     16818\n",
              "2     11471\n",
              "3      1362\n",
              "4       150\n",
              "Name: Injury Severity, dtype: int64"
            ]
          },
          "metadata": {},
          "execution_count": 65
        }
      ]
    },
    {
      "cell_type": "code",
      "source": [
        "scaler = StandardScaler()\n",
        "X = scaler.fit_transform(X)"
      ],
      "metadata": {
        "id": "v0cvPudCh7SC"
      },
      "execution_count": null,
      "outputs": []
    },
    {
      "cell_type": "code",
      "source": [
        "X_train, X_test, y_train, y_test = train_test_split(X, y, test_size=0.3, random_state=42)"
      ],
      "metadata": {
        "id": "iPlnClSwh_pd"
      },
      "execution_count": null,
      "outputs": []
    },
    {
      "cell_type": "code",
      "source": [
        "y_test.value_counts()"
      ],
      "metadata": {
        "colab": {
          "base_uri": "https://localhost:8080/"
        },
        "id": "8H-Eocm1iCGs",
        "outputId": "1dcb2fea-7d77-4d21-8edc-c92b177c3d0e"
      },
      "execution_count": null,
      "outputs": [
        {
          "output_type": "execute_result",
          "data": {
            "text/plain": [
              "0    39422\n",
              "1     5114\n",
              "2     3407\n",
              "3      389\n",
              "4       46\n",
              "Name: Injury Severity, dtype: int64"
            ]
          },
          "metadata": {},
          "execution_count": 68
        }
      ]
    },
    {
      "cell_type": "markdown",
      "source": [
        "## Modeling"
      ],
      "metadata": {
        "id": "LiC0xegaiGlf"
      }
    },
    {
      "cell_type": "code",
      "source": [
        "from sklearn.model_selection import GridSearchCV, KFold, train_test_split, cross_val_predict\n",
        "from sklearn.metrics import classification_report, confusion_matrix\n",
        "from sklearn.linear_model import LogisticRegression\n",
        "from sklearn.ensemble import AdaBoostClassifier, RandomForestClassifier\n",
        "from imblearn.under_sampling import RandomUnderSampler\n",
        "from collections import Counter"
      ],
      "metadata": {
        "id": "tMQA1yyzigEo"
      },
      "execution_count": null,
      "outputs": []
    },
    {
      "cell_type": "markdown",
      "source": [
        "### Logistic regression with balanced class weights"
      ],
      "metadata": {
        "id": "HGv06TO0iWdJ"
      }
    },
    {
      "cell_type": "code",
      "source": [
        "# Check the distribution of classes in y_train\n",
        "class_distribution = Counter(y_train)\n",
        "class_distribution"
      ],
      "metadata": {
        "colab": {
          "base_uri": "https://localhost:8080/"
        },
        "id": "ry7LqzeVjIl1",
        "outputId": "5ee420c6-064c-4e07-b84c-d95dcb3d0f4e"
      },
      "execution_count": null,
      "outputs": [
        {
          "output_type": "execute_result",
          "data": {
            "text/plain": [
              "Counter({0: 92037, 1: 11704, 2: 8064, 3: 973, 4: 104})"
            ]
          },
          "metadata": {},
          "execution_count": 72
        }
      ]
    },
    {
      "cell_type": "markdown",
      "source": [
        "Class 0 to have 10 times the number of samples of Class 4:"
      ],
      "metadata": {
        "id": "V33lzQuamgn8"
      }
    },
    {
      "cell_type": "code",
      "source": [
        "# Randomly undersample majority class to about 10 times of minority class\n",
        "\n",
        "sampling_strategy = {0: 1040}  # 10 times the size of the minority class\n",
        "rus = RandomUnderSampler(sampling_strategy=sampling_strategy, random_state = 42)\n",
        "\n",
        "X_train_res, y_train_res = rus.fit_resample(X_train, y_train)\n",
        "\n",
        "print (\"Distribution of class labels before resampling {}\".format(Counter(y_train)))\n",
        "print (\"Distribution of class labels after resampling {}\".format(Counter(y_train_res)))"
      ],
      "metadata": {
        "colab": {
          "base_uri": "https://localhost:8080/"
        },
        "id": "i9AU8Q7XiE4V",
        "outputId": "e17fae30-549f-4c8e-81da-386cb25fbc62"
      },
      "execution_count": null,
      "outputs": [
        {
          "output_type": "stream",
          "name": "stdout",
          "text": [
            "Distribution of class labels before resampling Counter({0: 92037, 1: 11704, 2: 8064, 3: 973, 4: 104})\n",
            "Distribution of class labels after resampling Counter({1: 11704, 2: 8064, 0: 1040, 3: 973, 4: 104})\n"
          ]
        }
      ]
    },
    {
      "cell_type": "code",
      "source": [
        "clf_base = LogisticRegression(solver='saga', multi_class='multinomial')\n",
        "\n",
        "grid = {'C': 10.0 ** np.arange(-2, 3),\n",
        "        'penalty': ['l1', 'l2'],\n",
        "        'class_weight': ['balanced']}\n",
        "\n",
        "clf_lr = GridSearchCV(clf_base, grid, cv=5, n_jobs=8, scoring='f1_macro')\n",
        "\n",
        "clf_lr.fit(X_train_res, y_train_res)\n",
        "\n",
        "coef = clf_lr.best_estimator_.coef_\n",
        "\n",
        "intercept = clf_lr.best_estimator_.intercept_\n",
        "\n",
        "print (\"Metrics report on test data: \\n\", classification_report(y_test, clf_lr.predict(X_test)))"
      ],
      "metadata": {
        "colab": {
          "base_uri": "https://localhost:8080/"
        },
        "id": "Me1suKgUoJvt",
        "outputId": "78de0735-695e-4091-93c1-97af10df7e6f"
      },
      "execution_count": null,
      "outputs": [
        {
          "output_type": "stream",
          "name": "stdout",
          "text": [
            "Metrics report on test data: \n",
            "               precision    recall  f1-score   support\n",
            "\n",
            "           0       0.92      0.52      0.67     39422\n",
            "           1       0.16      0.32      0.21      5114\n",
            "           2       0.10      0.15      0.12      3407\n",
            "           3       0.02      0.41      0.04       389\n",
            "           4       0.02      0.78      0.04        46\n",
            "\n",
            "    accuracy                           0.47     48378\n",
            "   macro avg       0.24      0.44      0.21     48378\n",
            "weighted avg       0.77      0.47      0.57     48378\n",
            "\n"
          ]
        }
      ]
    },
    {
      "cell_type": "markdown",
      "source": [
        "## Random Forest"
      ],
      "metadata": {
        "id": "Z6K7Rm-Qq8rw"
      }
    },
    {
      "cell_type": "code",
      "source": [
        "from sklearn.ensemble import RandomForestClassifier"
      ],
      "metadata": {
        "id": "BnJhQlu6kDrO"
      },
      "execution_count": null,
      "outputs": []
    },
    {
      "cell_type": "code",
      "source": [
        "clf_res = RandomForestClassifier(class_weight='balanced')\n",
        "clf_res.fit(X_train_res, y_train_res)"
      ],
      "metadata": {
        "colab": {
          "base_uri": "https://localhost:8080/",
          "height": 74
        },
        "id": "mh93Qll7l2y-",
        "outputId": "05046ceb-9d76-4900-8315-dce05e1e0c47"
      },
      "execution_count": null,
      "outputs": [
        {
          "output_type": "execute_result",
          "data": {
            "text/plain": [
              "RandomForestClassifier(class_weight='balanced')"
            ],
            "text/html": [
              "<style>#sk-container-id-3 {color: black;background-color: white;}#sk-container-id-3 pre{padding: 0;}#sk-container-id-3 div.sk-toggleable {background-color: white;}#sk-container-id-3 label.sk-toggleable__label {cursor: pointer;display: block;width: 100%;margin-bottom: 0;padding: 0.3em;box-sizing: border-box;text-align: center;}#sk-container-id-3 label.sk-toggleable__label-arrow:before {content: \"▸\";float: left;margin-right: 0.25em;color: #696969;}#sk-container-id-3 label.sk-toggleable__label-arrow:hover:before {color: black;}#sk-container-id-3 div.sk-estimator:hover label.sk-toggleable__label-arrow:before {color: black;}#sk-container-id-3 div.sk-toggleable__content {max-height: 0;max-width: 0;overflow: hidden;text-align: left;background-color: #f0f8ff;}#sk-container-id-3 div.sk-toggleable__content pre {margin: 0.2em;color: black;border-radius: 0.25em;background-color: #f0f8ff;}#sk-container-id-3 input.sk-toggleable__control:checked~div.sk-toggleable__content {max-height: 200px;max-width: 100%;overflow: auto;}#sk-container-id-3 input.sk-toggleable__control:checked~label.sk-toggleable__label-arrow:before {content: \"▾\";}#sk-container-id-3 div.sk-estimator input.sk-toggleable__control:checked~label.sk-toggleable__label {background-color: #d4ebff;}#sk-container-id-3 div.sk-label input.sk-toggleable__control:checked~label.sk-toggleable__label {background-color: #d4ebff;}#sk-container-id-3 input.sk-hidden--visually {border: 0;clip: rect(1px 1px 1px 1px);clip: rect(1px, 1px, 1px, 1px);height: 1px;margin: -1px;overflow: hidden;padding: 0;position: absolute;width: 1px;}#sk-container-id-3 div.sk-estimator {font-family: monospace;background-color: #f0f8ff;border: 1px dotted black;border-radius: 0.25em;box-sizing: border-box;margin-bottom: 0.5em;}#sk-container-id-3 div.sk-estimator:hover {background-color: #d4ebff;}#sk-container-id-3 div.sk-parallel-item::after {content: \"\";width: 100%;border-bottom: 1px solid gray;flex-grow: 1;}#sk-container-id-3 div.sk-label:hover label.sk-toggleable__label {background-color: #d4ebff;}#sk-container-id-3 div.sk-serial::before {content: \"\";position: absolute;border-left: 1px solid gray;box-sizing: border-box;top: 0;bottom: 0;left: 50%;z-index: 0;}#sk-container-id-3 div.sk-serial {display: flex;flex-direction: column;align-items: center;background-color: white;padding-right: 0.2em;padding-left: 0.2em;position: relative;}#sk-container-id-3 div.sk-item {position: relative;z-index: 1;}#sk-container-id-3 div.sk-parallel {display: flex;align-items: stretch;justify-content: center;background-color: white;position: relative;}#sk-container-id-3 div.sk-item::before, #sk-container-id-3 div.sk-parallel-item::before {content: \"\";position: absolute;border-left: 1px solid gray;box-sizing: border-box;top: 0;bottom: 0;left: 50%;z-index: -1;}#sk-container-id-3 div.sk-parallel-item {display: flex;flex-direction: column;z-index: 1;position: relative;background-color: white;}#sk-container-id-3 div.sk-parallel-item:first-child::after {align-self: flex-end;width: 50%;}#sk-container-id-3 div.sk-parallel-item:last-child::after {align-self: flex-start;width: 50%;}#sk-container-id-3 div.sk-parallel-item:only-child::after {width: 0;}#sk-container-id-3 div.sk-dashed-wrapped {border: 1px dashed gray;margin: 0 0.4em 0.5em 0.4em;box-sizing: border-box;padding-bottom: 0.4em;background-color: white;}#sk-container-id-3 div.sk-label label {font-family: monospace;font-weight: bold;display: inline-block;line-height: 1.2em;}#sk-container-id-3 div.sk-label-container {text-align: center;}#sk-container-id-3 div.sk-container {/* jupyter's `normalize.less` sets `[hidden] { display: none; }` but bootstrap.min.css set `[hidden] { display: none !important; }` so we also need the `!important` here to be able to override the default hidden behavior on the sphinx rendered scikit-learn.org. See: https://github.com/scikit-learn/scikit-learn/issues/21755 */display: inline-block !important;position: relative;}#sk-container-id-3 div.sk-text-repr-fallback {display: none;}</style><div id=\"sk-container-id-3\" class=\"sk-top-container\"><div class=\"sk-text-repr-fallback\"><pre>RandomForestClassifier(class_weight=&#x27;balanced&#x27;)</pre><b>In a Jupyter environment, please rerun this cell to show the HTML representation or trust the notebook. <br />On GitHub, the HTML representation is unable to render, please try loading this page with nbviewer.org.</b></div><div class=\"sk-container\" hidden><div class=\"sk-item\"><div class=\"sk-estimator sk-toggleable\"><input class=\"sk-toggleable__control sk-hidden--visually\" id=\"sk-estimator-id-3\" type=\"checkbox\" checked><label for=\"sk-estimator-id-3\" class=\"sk-toggleable__label sk-toggleable__label-arrow\">RandomForestClassifier</label><div class=\"sk-toggleable__content\"><pre>RandomForestClassifier(class_weight=&#x27;balanced&#x27;)</pre></div></div></div></div></div>"
            ]
          },
          "metadata": {},
          "execution_count": 94
        }
      ]
    },
    {
      "cell_type": "code",
      "source": [
        "y_pred_train_res = clf_res.predict(X_train_res)"
      ],
      "metadata": {
        "id": "9G6WkvXgm3sU"
      },
      "execution_count": null,
      "outputs": []
    },
    {
      "cell_type": "code",
      "source": [
        "# Evaluate\n",
        "print(\"Metrics report on train data: \\n\", classification_report(y_train_res, y_pred_train_res))"
      ],
      "metadata": {
        "colab": {
          "base_uri": "https://localhost:8080/"
        },
        "id": "Oyd2g8dKnvc9",
        "outputId": "c30a70e8-5c8c-49c6-c54a-cc5dbc65550e"
      },
      "execution_count": null,
      "outputs": [
        {
          "output_type": "stream",
          "name": "stdout",
          "text": [
            "Metrics report on train data: \n",
            "               precision    recall  f1-score   support\n",
            "\n",
            "           0       1.00      1.00      1.00      1040\n",
            "           1       1.00      1.00      1.00     11704\n",
            "           2       1.00      1.00      1.00      8064\n",
            "           3       1.00      1.00      1.00       973\n",
            "           4       1.00      1.00      1.00       104\n",
            "\n",
            "    accuracy                           1.00     21885\n",
            "   macro avg       1.00      1.00      1.00     21885\n",
            "weighted avg       1.00      1.00      1.00     21885\n",
            "\n"
          ]
        }
      ]
    },
    {
      "cell_type": "code",
      "source": [
        "y_pred_test_res = clf_res.predict(X_test)\n",
        "# Evaluate\n",
        "print(\"Metrics report on test data: \\n\", classification_report(y_test, y_pred_test_res ))"
      ],
      "metadata": {
        "colab": {
          "base_uri": "https://localhost:8080/"
        },
        "id": "Ph-gYhhSn1Nq",
        "outputId": "0402f026-8264-4b8a-c631-f996f4f45f8d"
      },
      "execution_count": null,
      "outputs": [
        {
          "output_type": "stream",
          "name": "stdout",
          "text": [
            "Metrics report on test data: \n",
            "               precision    recall  f1-score   support\n",
            "\n",
            "           0       0.99      0.07      0.13     39422\n",
            "           1       0.11      0.81      0.19      5114\n",
            "           2       0.12      0.25      0.16      3407\n",
            "           3       0.11      0.02      0.03       389\n",
            "           4       0.57      0.09      0.15        46\n",
            "\n",
            "    accuracy                           0.16     48378\n",
            "   macro avg       0.38      0.25      0.13     48378\n",
            "weighted avg       0.83      0.16      0.14     48378\n",
            "\n"
          ]
        }
      ]
    },
    {
      "cell_type": "code",
      "source": [
        "import seaborn as sns\n",
        "importances = pd.DataFrame(np.zeros((X_train_res.shape[1], 1)), columns=['importance'], index=df.drop('Injury Severity',axis=1).columns)\n",
        "\n",
        "importances.iloc[:,0] = clf_res.feature_importances_\n",
        "\n",
        "importances.sort_values(by='importance', inplace=True, ascending=False)\n",
        "importances30 = importances.head(30)\n",
        "\n",
        "plt.figure(figsize=(8, 6))\n",
        "sns.barplot(x='importance', y=importances30.index, data=importances30)\n",
        "\n",
        "plt.xlabel('')\n",
        "plt.tick_params(axis='x', labelsize=10)\n",
        "plt.tick_params(axis='y', labelsize=10)\n",
        "plt.title('Random Forest Classifier Feature Importance', size=15)\n",
        "\n",
        "plt.show()"
      ],
      "metadata": {
        "colab": {
          "base_uri": "https://localhost:8080/",
          "height": 547
        },
        "id": "BH65lQy-p-uV",
        "outputId": "693cec0d-62e5-4570-d84f-d32e0a7ef972"
      },
      "execution_count": null,
      "outputs": [
        {
          "output_type": "display_data",
          "data": {
            "text/plain": [
              "<Figure size 800x600 with 1 Axes>"
            ],
            "image/png": "[encoded data removed]"
          },
          "metadata": {}
        }
      ]
    },
    {
      "cell_type": "markdown",
      "source": [
        "Notes: rf.score(X_test,y_test)\n",
        "rf.score(X_train,y_train)"
      ],
      "metadata": {
        "id": "an1dK1Ou5bK1"
      }
    },
    {
      "cell_type": "markdown",
      "source": [
        "### EASYENSEMBLE"
      ],
      "metadata": {
        "id": "F4WZYz3OslBR"
      }
    },
    {
      "cell_type": "code",
      "source": [
        "#sampling_strategy = {\n",
        "#    0: 1040,  # 10 times the size of the minority class\n",
        "#    1: 11704,\n",
        "#    2: 8064,\n",
        "#    3: 973,\n",
        "#    4: 104\n",
        "#}"
      ],
      "metadata": {
        "id": "pbV03ppytnfX"
      },
      "execution_count": null,
      "outputs": []
    },
    {
      "cell_type": "code",
      "source": [
        "sampling_strategy1 = {\n",
        "    0: 1040  # 10 times the size of the minority class\n",
        "}"
      ],
      "metadata": {
        "id": "H_UNyOamuy_4"
      },
      "execution_count": null,
      "outputs": []
    },
    {
      "cell_type": "code",
      "source": [
        "sampling_strategy2 = {\n",
        "    0: 208,   # Twice the size of class 4\n",
        "    1: 156,  # 1.5 times the size of class 4\n",
        "    2: 130  # 1.25 times the size of class 4\n",
        "    # Leave out 3 and 4 so they remain the same size\n",
        "}"
      ],
      "metadata": {
        "id": "NiRsv0xWw40x"
      },
      "execution_count": null,
      "outputs": []
    },
    {
      "cell_type": "code",
      "source": [
        "# n folds random under-sampling\n",
        "\n",
        "def multi_rus(X, y, n_folds, sampling_strategy2):\n",
        "    X_res = [None] * n_folds\n",
        "    y_res = [None] * n_folds\n",
        "    rus = RandomUnderSampler(sampling_strategy=sampling_strategy, random_state=42)\n",
        "    for i in range(n_folds):\n",
        "        X_res[i], y_res[i] = rus.fit_resample(X, y)\n",
        "\n",
        "    return X_res, y_res"
      ],
      "metadata": {
        "id": "9uG9d2FhsqsN"
      },
      "execution_count": null,
      "outputs": []
    },
    {
      "cell_type": "code",
      "source": [
        "X_train_res, y_train_res = multi_rus(X_train, y_train, 3, sampling_strategy2)\n",
        "y_pred_proba = np.zeros(len(y_test))\n",
        "\n",
        "for i in range(len(y_train_res)):\n",
        "\n",
        "    clf = RandomForestClassifier(n_estimators=100, max_features='auto')\n",
        "    clf.fit(X_train_res[i], y_train_res[i])\n",
        "    y_pred_proba += clf.predict(X_test)\n",
        "\n",
        "y_pred_proba = y_pred_proba/len(y_train_res)\n",
        "y_pred = (y_pred_proba > 0.5).astype(int)\n",
        "print (classification_report(y_test, y_pred))"
      ],
      "metadata": {
        "colab": {
          "base_uri": "https://localhost:8080/"
        },
        "id": "07j5Dhhqsslh",
        "outputId": "45a16b7b-651a-4fd1-f8c4-40fb1c7ea3f1"
      },
      "execution_count": null,
      "outputs": [
        {
          "output_type": "stream",
          "name": "stdout",
          "text": [
            "              precision    recall  f1-score   support\n",
            "\n",
            "           0       0.93      0.36      0.52     39422\n",
            "           1       0.13      0.86      0.23      5114\n",
            "           2       0.00      0.00      0.00      3407\n",
            "           3       0.00      0.00      0.00       389\n",
            "           4       0.00      0.00      0.00        46\n",
            "\n",
            "    accuracy                           0.39     48378\n",
            "   macro avg       0.21      0.24      0.15     48378\n",
            "weighted avg       0.77      0.39      0.45     48378\n",
            "\n"
          ]
        }
      ]
    },
    {
      "cell_type": "markdown",
      "source": [
        " ### Balanced Random Forest"
      ],
      "metadata": {
        "id": "2X288Qt-xWXq"
      }
    },
    {
      "cell_type": "code",
      "source": [
        "from imblearn.ensemble import BalancedRandomForestClassifier"
      ],
      "metadata": {
        "id": "RtfZIWLQwX07"
      },
      "execution_count": null,
      "outputs": []
    },
    {
      "cell_type": "code",
      "source": [
        "clf_brf = BalancedRandomForestClassifier()\n",
        "clf_brf.fit(X_train_res, y_train_res)\n",
        "#chaeck score train"
      ],
      "metadata": {
        "colab": {
          "base_uri": "https://localhost:8080/",
          "height": 74
        },
        "id": "frUBFipdxaBc",
        "outputId": "9a93c76e-43c5-4144-a4b3-e2cc1e9e7499"
      },
      "execution_count": null,
      "outputs": [
        {
          "output_type": "execute_result",
          "data": {
            "text/plain": [
              "BalancedRandomForestClassifier()"
            ],
            "text/html": [
              "<style>#sk-container-id-4 {color: black;background-color: white;}#sk-container-id-4 pre{padding: 0;}#sk-container-id-4 div.sk-toggleable {background-color: white;}#sk-container-id-4 label.sk-toggleable__label {cursor: pointer;display: block;width: 100%;margin-bottom: 0;padding: 0.3em;box-sizing: border-box;text-align: center;}#sk-container-id-4 label.sk-toggleable__label-arrow:before {content: \"▸\";float: left;margin-right: 0.25em;color: #696969;}#sk-container-id-4 label.sk-toggleable__label-arrow:hover:before {color: black;}#sk-container-id-4 div.sk-estimator:hover label.sk-toggleable__label-arrow:before {color: black;}#sk-container-id-4 div.sk-toggleable__content {max-height: 0;max-width: 0;overflow: hidden;text-align: left;background-color: #f0f8ff;}#sk-container-id-4 div.sk-toggleable__content pre {margin: 0.2em;color: black;border-radius: 0.25em;background-color: #f0f8ff;}#sk-container-id-4 input.sk-toggleable__control:checked~div.sk-toggleable__content {max-height: 200px;max-width: 100%;overflow: auto;}#sk-container-id-4 input.sk-toggleable__control:checked~label.sk-toggleable__label-arrow:before {content: \"▾\";}#sk-container-id-4 div.sk-estimator input.sk-toggleable__control:checked~label.sk-toggleable__label {background-color: #d4ebff;}#sk-container-id-4 div.sk-label input.sk-toggleable__control:checked~label.sk-toggleable__label {background-color: #d4ebff;}#sk-container-id-4 input.sk-hidden--visually {border: 0;clip: rect(1px 1px 1px 1px);clip: rect(1px, 1px, 1px, 1px);height: 1px;margin: -1px;overflow: hidden;padding: 0;position: absolute;width: 1px;}#sk-container-id-4 div.sk-estimator {font-family: monospace;background-color: #f0f8ff;border: 1px dotted black;border-radius: 0.25em;box-sizing: border-box;margin-bottom: 0.5em;}#sk-container-id-4 div.sk-estimator:hover {background-color: #d4ebff;}#sk-container-id-4 div.sk-parallel-item::after {content: \"\";width: 100%;border-bottom: 1px solid gray;flex-grow: 1;}#sk-container-id-4 div.sk-label:hover label.sk-toggleable__label {background-color: #d4ebff;}#sk-container-id-4 div.sk-serial::before {content: \"\";position: absolute;border-left: 1px solid gray;box-sizing: border-box;top: 0;bottom: 0;left: 50%;z-index: 0;}#sk-container-id-4 div.sk-serial {display: flex;flex-direction: column;align-items: center;background-color: white;padding-right: 0.2em;padding-left: 0.2em;position: relative;}#sk-container-id-4 div.sk-item {position: relative;z-index: 1;}#sk-container-id-4 div.sk-parallel {display: flex;align-items: stretch;justify-content: center;background-color: white;position: relative;}#sk-container-id-4 div.sk-item::before, #sk-container-id-4 div.sk-parallel-item::before {content: \"\";position: absolute;border-left: 1px solid gray;box-sizing: border-box;top: 0;bottom: 0;left: 50%;z-index: -1;}#sk-container-id-4 div.sk-parallel-item {display: flex;flex-direction: column;z-index: 1;position: relative;background-color: white;}#sk-container-id-4 div.sk-parallel-item:first-child::after {align-self: flex-end;width: 50%;}#sk-container-id-4 div.sk-parallel-item:last-child::after {align-self: flex-start;width: 50%;}#sk-container-id-4 div.sk-parallel-item:only-child::after {width: 0;}#sk-container-id-4 div.sk-dashed-wrapped {border: 1px dashed gray;margin: 0 0.4em 0.5em 0.4em;box-sizing: border-box;padding-bottom: 0.4em;background-color: white;}#sk-container-id-4 div.sk-label label {font-family: monospace;font-weight: bold;display: inline-block;line-height: 1.2em;}#sk-container-id-4 div.sk-label-container {text-align: center;}#sk-container-id-4 div.sk-container {/* jupyter's `normalize.less` sets `[hidden] { display: none; }` but bootstrap.min.css set `[hidden] { display: none !important; }` so we also need the `!important` here to be able to override the default hidden behavior on the sphinx rendered scikit-learn.org. See: https://github.com/scikit-learn/scikit-learn/issues/21755 */display: inline-block !important;position: relative;}#sk-container-id-4 div.sk-text-repr-fallback {display: none;}</style><div id=\"sk-container-id-4\" class=\"sk-top-container\"><div class=\"sk-text-repr-fallback\"><pre>BalancedRandomForestClassifier()</pre><b>In a Jupyter environment, please rerun this cell to show the HTML representation or trust the notebook. <br />On GitHub, the HTML representation is unable to render, please try loading this page with nbviewer.org.</b></div><div class=\"sk-container\" hidden><div class=\"sk-item\"><div class=\"sk-estimator sk-toggleable\"><input class=\"sk-toggleable__control sk-hidden--visually\" id=\"sk-estimator-id-4\" type=\"checkbox\" checked><label for=\"sk-estimator-id-4\" class=\"sk-toggleable__label sk-toggleable__label-arrow\">BalancedRandomForestClassifier</label><div class=\"sk-toggleable__content\"><pre>BalancedRandomForestClassifier()</pre></div></div></div></div></div>"
            ]
          },
          "metadata": {},
          "execution_count": 138
        }
      ]
    },
    {
      "cell_type": "code",
      "source": [
        "y_pred = clf_brf.predict(X_test)\n",
        "print(\"Metrics report on test data: \\n\", classification_report(y_test, y_pred))"
      ],
      "metadata": {
        "colab": {
          "base_uri": "https://localhost:8080/"
        },
        "id": "Vo087wnyyHZZ",
        "outputId": "70996c12-8e59-4e0f-e6c6-92b84a01293d"
      },
      "execution_count": null,
      "outputs": [
        {
          "output_type": "stream",
          "name": "stdout",
          "text": [
            "Metrics report on test data: \n",
            "               precision    recall  f1-score   support\n",
            "\n",
            "           0       0.92      0.54      0.68     39422\n",
            "           1       0.15      0.38      0.21      5114\n",
            "           2       0.11      0.21      0.14      3407\n",
            "           3       0.04      0.30      0.06       389\n",
            "           4       0.02      0.89      0.04        46\n",
            "\n",
            "    accuracy                           0.50     48378\n",
            "   macro avg       0.25      0.46      0.23     48378\n",
            "weighted avg       0.77      0.50      0.59     48378\n",
            "\n"
          ]
        }
      ]
    },
    {
      "cell_type": "markdown",
      "source": [
        "### XGBoost"
      ],
      "metadata": {
        "id": "Mc9czSOgzBQM"
      }
    },
    {
      "cell_type": "code",
      "source": [
        "import xgboost as xgb\n",
        "\n",
        "dtrain = xgb.DMatrix(X_train, label=y_train)\n",
        "dtest = xgb.DMatrix(X_test, label=y_test)\n",
        "\n",
        "params = {\n",
        "    'objective': 'multi:softmax',\n",
        "    'num_class': 5,\n",
        "    'max_depth': 6,\n",
        "    'eta': 0.3\n",
        "}\n",
        "\n",
        "bst = xgb.train(params, dtrain, num_boost_round=100)\n",
        "\n",
        "y_pred_xgb = bst.predict(dtest)\n",
        "\n",
        "print(\"Metrics report on test data: \\n\",classification_report(y_test, y_pred_xgb))\n"
      ],
      "metadata": {
        "colab": {
          "base_uri": "https://localhost:8080/"
        },
        "id": "h6WCZHPPyOvY",
        "outputId": "43707b20-dea8-4436-818c-3250f591d61c"
      },
      "execution_count": null,
      "outputs": [
        {
          "output_type": "stream",
          "name": "stdout",
          "text": [
            "Metrics report on test data: \n",
            "               precision    recall  f1-score   support\n",
            "\n",
            "           0       0.82      0.99      0.90     39422\n",
            "           1       0.27      0.01      0.02      5114\n",
            "           2       0.29      0.03      0.05      3407\n",
            "           3       0.25      0.07      0.11       389\n",
            "           4       0.67      0.17      0.28        46\n",
            "\n",
            "    accuracy                           0.81     48378\n",
            "   macro avg       0.46      0.26      0.27     48378\n",
            "weighted avg       0.72      0.81      0.74     48378\n",
            "\n"
          ]
        }
      ]
    },
    {
      "cell_type": "code",
      "source": [
        "dtrain_res = xgb.DMatrix(X_train_res, label=y_train_res)\n",
        "dtest = xgb.DMatrix(X_test, label=y_test)\n",
        "\n",
        "params = {\n",
        "    'objective': 'multi:softmax',\n",
        "    'num_class': 5,\n",
        "    'max_depth': 6,\n",
        "    'eta': 0.3\n",
        "}\n",
        "\n",
        "bst_res = xgb.train(params, dtrain_res, num_boost_round=100)\n",
        "\n",
        "y_pred_xgb_res = bst_res.predict(dtest)\n",
        "\n",
        "print(\"Metrics report on test data: \\n\",classification_report(y_test, y_pred_xgb_res))"
      ],
      "metadata": {
        "colab": {
          "base_uri": "https://localhost:8080/"
        },
        "id": "rPuK7CWRzSd5",
        "outputId": "b2dbd5e3-aae3-49b0-fec8-cd1d93b739f1"
      },
      "execution_count": null,
      "outputs": [
        {
          "output_type": "stream",
          "name": "stdout",
          "text": [
            "Metrics report on test data: \n",
            "               precision    recall  f1-score   support\n",
            "\n",
            "           0       0.99      0.13      0.23     39422\n",
            "           1       0.12      0.79      0.20      5114\n",
            "           2       0.11      0.28      0.16      3407\n",
            "           3       0.17      0.07      0.10       389\n",
            "           4       0.26      0.15      0.19        46\n",
            "\n",
            "    accuracy                           0.21     48378\n",
            "   macro avg       0.33      0.28      0.18     48378\n",
            "weighted avg       0.83      0.21      0.22     48378\n",
            "\n"
          ]
        }
      ]
    },
    {
      "cell_type": "markdown",
      "source": [
        "Smote,random sampling method\n",
        "\n",
        "max_depth = 10,11,etc and criterion = ‘gini’\n",
        "Criterion = ‘entropy’"
      ],
      "metadata": {
        "id": "apWNAnnP432r"
      }
    },
    {
      "cell_type": "code",
      "source": [],
      "metadata": {
        "id": "Bxxw0gVg0GBw"
      },
      "execution_count": null,
      "outputs": []
    }
  ]
}