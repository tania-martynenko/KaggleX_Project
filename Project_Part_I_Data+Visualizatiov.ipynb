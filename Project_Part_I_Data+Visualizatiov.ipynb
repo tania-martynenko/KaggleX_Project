{
  "nbformat": 4,
  "nbformat_minor": 0,
  "metadata": {
    "colab": {
      "provenance": [],
      "authorship_tag": "ABX9TyNfcuO/uf5iK60MZXUIO8go",
      "include_colab_link": true
    },
    "kernelspec": {
      "name": "python3",
      "display_name": "Python 3"
    },
    "language_info": {
      "name": "python"
    }
  },
  "cells": [
    {
      "cell_type": "markdown",
      "metadata": {
        "id": "view-in-github",
        "colab_type": "text"
      },
      "source": [
        "<a href=\"https://colab.research.google.com/github/tania-martynenko/KaggleX_Project/blob/main/Project_Part_I_Data%2BVisualizatiov.ipynb\" target=\"_parent\"><img src=\"https://colab.research.google.com/assets/colab-badge.svg\" alt=\"Open In Colab\"/></a>"
      ]
    },
    {
      "cell_type": "code",
      "execution_count": 28,
      "metadata": {
        "colab": {
          "base_uri": "https://localhost:8080/"
        },
        "id": "oYFrgVv9nidu",
        "outputId": "2a00cc24-ee9d-4484-d8cc-b256192f8ba3"
      },
      "outputs": [
        {
          "output_type": "stream",
          "name": "stdout",
          "text": [
            "Drive already mounted at /content/drive; to attempt to forcibly remount, call drive.mount(\"/content/drive\", force_remount=True).\n"
          ]
        }
      ],
      "source": [
        "from google.colab import drive\n",
        "drive.mount('/content/drive')"
      ]
    },
    {
      "cell_type": "code",
      "source": [
        "import warnings                                 # Used to ignore the warning given as output of the code\n",
        "warnings.filterwarnings('ignore')\n",
        "\n",
        "import numpy as np                              # Basic libraries of python for numeric and dataframe computations\n",
        "import pandas as pd\n",
        "\n",
        "import matplotlib.pyplot as plt                 # Basic library for data visualization\n",
        "import seaborn as sns                           # Slightly advanced library for data visualization\n",
        "\n",
        "from collections import defaultdict             # A dictionary output that does not raise a key error\n",
        "\n",
        "from sklearn.metrics import mean_squared_error  # A performance metrics in sklearn"
      ],
      "metadata": {
        "id": "qrDAM4W8pwUa"
      },
      "execution_count": 29,
      "outputs": []
    },
    {
      "cell_type": "code",
      "source": [
        "!pip install contextily"
      ],
      "metadata": {
        "colab": {
          "base_uri": "https://localhost:8080/"
        },
        "id": "NrhyhXcy6DLI",
        "outputId": "890c6d56-3e53-486d-b2ac-85ac3fed7d34"
      },
      "execution_count": 74,
      "outputs": [
        {
          "output_type": "stream",
          "name": "stdout",
          "text": [
            "Collecting contextily\n",
            "  Downloading contextily-1.4.0-py3-none-any.whl (16 kB)\n",
            "Requirement already satisfied: geopy in /usr/local/lib/python3.10/dist-packages (from contextily) (2.3.0)\n",
            "Requirement already satisfied: matplotlib in /usr/local/lib/python3.10/dist-packages (from contextily) (3.7.1)\n",
            "Collecting mercantile (from contextily)\n",
            "  Downloading mercantile-1.2.1-py3-none-any.whl (14 kB)\n",
            "Requirement already satisfied: pillow in /usr/local/lib/python3.10/dist-packages (from contextily) (9.4.0)\n",
            "Collecting rasterio (from contextily)\n",
            "  Downloading rasterio-1.3.8.post1-cp310-cp310-manylinux2014_x86_64.whl (20.6 MB)\n",
            "\u001b[2K     \u001b[90m━━━━━━━━━━━━━━━━━━━━━━━━━━━━━━━━━━━━━━━━\u001b[0m \u001b[32m20.6/20.6 MB\u001b[0m \u001b[31m40.9 MB/s\u001b[0m eta \u001b[36m0:00:00\u001b[0m\n",
            "\u001b[?25hRequirement already satisfied: requests in /usr/local/lib/python3.10/dist-packages (from contextily) (2.31.0)\n",
            "Requirement already satisfied: joblib in /usr/local/lib/python3.10/dist-packages (from contextily) (1.3.2)\n",
            "Requirement already satisfied: xyzservices in /usr/local/lib/python3.10/dist-packages (from contextily) (2023.10.0)\n",
            "Requirement already satisfied: geographiclib<3,>=1.52 in /usr/local/lib/python3.10/dist-packages (from geopy->contextily) (2.0)\n",
            "Requirement already satisfied: contourpy>=1.0.1 in /usr/local/lib/python3.10/dist-packages (from matplotlib->contextily) (1.1.1)\n",
            "Requirement already satisfied: cycler>=0.10 in /usr/local/lib/python3.10/dist-packages (from matplotlib->contextily) (0.12.0)\n",
            "Requirement already satisfied: fonttools>=4.22.0 in /usr/local/lib/python3.10/dist-packages (from matplotlib->contextily) (4.43.1)\n",
            "Requirement already satisfied: kiwisolver>=1.0.1 in /usr/local/lib/python3.10/dist-packages (from matplotlib->contextily) (1.4.5)\n",
            "Requirement already satisfied: numpy>=1.20 in /usr/local/lib/python3.10/dist-packages (from matplotlib->contextily) (1.23.5)\n",
            "Requirement already satisfied: packaging>=20.0 in /usr/local/lib/python3.10/dist-packages (from matplotlib->contextily) (23.2)\n",
            "Requirement already satisfied: pyparsing>=2.3.1 in /usr/local/lib/python3.10/dist-packages (from matplotlib->contextily) (3.1.1)\n",
            "Requirement already satisfied: python-dateutil>=2.7 in /usr/local/lib/python3.10/dist-packages (from matplotlib->contextily) (2.8.2)\n",
            "Requirement already satisfied: click>=3.0 in /usr/local/lib/python3.10/dist-packages (from mercantile->contextily) (8.1.7)\n",
            "Collecting affine (from rasterio->contextily)\n",
            "  Downloading affine-2.4.0-py3-none-any.whl (15 kB)\n",
            "Requirement already satisfied: attrs in /usr/local/lib/python3.10/dist-packages (from rasterio->contextily) (23.1.0)\n",
            "Requirement already satisfied: certifi in /usr/local/lib/python3.10/dist-packages (from rasterio->contextily) (2023.7.22)\n",
            "Requirement already satisfied: cligj>=0.5 in /usr/local/lib/python3.10/dist-packages (from rasterio->contextily) (0.7.2)\n",
            "Collecting snuggs>=1.4.1 (from rasterio->contextily)\n",
            "  Downloading snuggs-1.4.7-py3-none-any.whl (5.4 kB)\n",
            "Requirement already satisfied: click-plugins in /usr/local/lib/python3.10/dist-packages (from rasterio->contextily) (1.1.1)\n",
            "Requirement already satisfied: setuptools in /usr/local/lib/python3.10/dist-packages (from rasterio->contextily) (67.7.2)\n",
            "Requirement already satisfied: charset-normalizer<4,>=2 in /usr/local/lib/python3.10/dist-packages (from requests->contextily) (3.3.0)\n",
            "Requirement already satisfied: idna<4,>=2.5 in /usr/local/lib/python3.10/dist-packages (from requests->contextily) (3.4)\n",
            "Requirement already satisfied: urllib3<3,>=1.21.1 in /usr/local/lib/python3.10/dist-packages (from requests->contextily) (2.0.6)\n",
            "Requirement already satisfied: six>=1.5 in /usr/local/lib/python3.10/dist-packages (from python-dateutil>=2.7->matplotlib->contextily) (1.16.0)\n",
            "Installing collected packages: snuggs, mercantile, affine, rasterio, contextily\n",
            "Successfully installed affine-2.4.0 contextily-1.4.0 mercantile-1.2.1 rasterio-1.3.8.post1 snuggs-1.4.7\n"
          ]
        }
      ]
    },
    {
      "cell_type": "code",
      "source": [
        "!pip install haversine"
      ],
      "metadata": {
        "colab": {
          "base_uri": "https://localhost:8080/"
        },
        "id": "NPmLWgkl6I-N",
        "outputId": "df1e6c9e-bce6-49ae-fc39-bd0f555a5616"
      },
      "execution_count": 76,
      "outputs": [
        {
          "output_type": "stream",
          "name": "stdout",
          "text": [
            "Collecting haversine\n",
            "  Downloading haversine-2.8.0-py2.py3-none-any.whl (7.7 kB)\n",
            "Installing collected packages: haversine\n",
            "Successfully installed haversine-2.8.0\n"
          ]
        }
      ]
    },
    {
      "cell_type": "code",
      "source": [
        "#Geographical moduls\n",
        "\n",
        "from geopy.distance import geodesic\n",
        "import geopandas as gpd\n",
        "\n",
        "import contextily as ctx\n",
        "\n",
        "from haversine import haversine, Unit\n",
        "import missingno as mn\n",
        "from shapely.geometry import Point\n",
        "import seaborn as sns\n",
        "from wordcloud import WordCloud\n"
      ],
      "metadata": {
        "id": "Lfqqn2Zc5t3t"
      },
      "execution_count": 77,
      "outputs": []
    },
    {
      "cell_type": "code",
      "source": [
        "import os\n",
        "import requests\n",
        "import time"
      ],
      "metadata": {
        "id": "-TUbQNwc61tm"
      },
      "execution_count": 78,
      "outputs": []
    },
    {
      "cell_type": "code",
      "source": [
        "dt_report.shape"
      ],
      "metadata": {
        "colab": {
          "base_uri": "https://localhost:8080/"
        },
        "id": "jSS-lzQYte0L",
        "outputId": "fdd950bd-8212-423e-bde0-55373bea6cb8"
      },
      "execution_count": 30,
      "outputs": [
        {
          "output_type": "execute_result",
          "data": {
            "text/plain": [
              "(166537, 43)"
            ]
          },
          "metadata": {},
          "execution_count": 30
        }
      ]
    },
    {
      "cell_type": "markdown",
      "source": [
        "Dataset has 166 537 rows and 43 columns."
      ],
      "metadata": {
        "id": "wTKwBCKstim5"
      }
    },
    {
      "cell_type": "code",
      "source": [
        "pd.set_option('display.max_columns', None) #Show all columns"
      ],
      "metadata": {
        "id": "sOq3ImXYtqam"
      },
      "execution_count": 31,
      "outputs": []
    },
    {
      "cell_type": "code",
      "source": [
        "dt_report = pd.read_csv (\"/content/drive/MyDrive/KaggleX_Project/Data/Crash_Reporting_-_Drivers_Data.csv\")"
      ],
      "metadata": {
        "id": "w-sTuUbfrfBJ"
      },
      "execution_count": 32,
      "outputs": []
    },
    {
      "cell_type": "code",
      "source": [
        "dt_report.head(2)"
      ],
      "metadata": {
        "colab": {
          "base_uri": "https://localhost:8080/",
          "height": 305
        },
        "id": "1ACzMRpGsQCB",
        "outputId": "81f0bdc8-23a3-40f0-a914-048462f000eb"
      },
      "execution_count": 33,
      "outputs": [
        {
          "output_type": "execute_result",
          "data": {
            "text/plain": [
              "  Report Number Local Case Number               Agency Name  \\\n",
              "0   MCP3040003N         190026050  Montgomery County Police   \n",
              "1   MCP1307000K         190024786  Montgomery County Police   \n",
              "\n",
              "        ACRS Report Type         Crash Date/Time Route Type Road Name  \\\n",
              "0  Property Damage Crash  05/31/2019 03:00:00 PM        NaN       NaN   \n",
              "1  Property Damage Crash  05/24/2019 05:00:00 PM        NaN       NaN   \n",
              "\n",
              "  Cross-Street Type Cross-Street Name            Off-Road Description  \\\n",
              "0               NaN               NaN  PARKING LOT OF 3215 SPARTAN RD   \n",
              "1               NaN               NaN                     PARKING LOT   \n",
              "\n",
              "  Municipality Related Non-Motorist Collision Type Weather Surface Condition  \\\n",
              "0          NaN                  NaN          OTHER   CLEAR               NaN   \n",
              "1          NaN                  NaN            NaN   CLEAR               NaN   \n",
              "\n",
              "      Light Traffic Control Driver Substance Abuse  \\\n",
              "0  DAYLIGHT             NaN                UNKNOWN   \n",
              "1  DAYLIGHT             NaN                    NaN   \n",
              "\n",
              "  Non-Motorist Substance Abuse                             Person ID  \\\n",
              "0                          NaN  DE2A24CD-7919-4F8D-BABF-5B75CE12D21E   \n",
              "1                          NaN  6208FA7B-5DC4-4B54-AD60-0C06DFE2AE81   \n",
              "\n",
              "  Driver At Fault     Injury Severity Circumstance Driver Distracted By  \\\n",
              "0             Yes  NO APPARENT INJURY          NaN              UNKNOWN   \n",
              "1             Yes  NO APPARENT INJURY          NaN       NOT DISTRACTED   \n",
              "\n",
              "  Drivers License State                            Vehicle ID  \\\n",
              "0                   NaN  165AD539-A8C8-4004-AF73-B7DCAAA8B3CC   \n",
              "1                    XX  10239493-D667-42F9-A3D2-820FE184CB6C   \n",
              "\n",
              "  Vehicle Damage Extent Vehicle First Impact Location  \\\n",
              "0           SUPERFICIAL                    ONE OCLOCK   \n",
              "1            FUNCTIONAL                    ONE OCLOCK   \n",
              "\n",
              "  Vehicle Second Impact Location Vehicle Body Type Vehicle Movement  \\\n",
              "0                     ONE OCLOCK     PASSENGER CAR          PARKING   \n",
              "1                     ONE OCLOCK     PASSENGER CAR          PARKING   \n",
              "\n",
              "  Vehicle Continuing Dir Vehicle Going Dir  Speed Limit Driverless Vehicle  \\\n",
              "0                  North             North           15                 No   \n",
              "1                Unknown           Unknown            0                 No   \n",
              "\n",
              "  Parked Vehicle  Vehicle Year Vehicle Make Vehicle Model Equipment Problems  \\\n",
              "0             No          2004        HONDA            TK            UNKNOWN   \n",
              "1             No             0          UNK           UNK                NaN   \n",
              "\n",
              "    Latitude  Longitude                     Location  \n",
              "0  39.150044 -77.063089  (39.15004368, -77.06308884)  \n",
              "1  39.199047 -77.250743  (39.19904667, -77.25074333)  "
            ],
            "text/html": [
              "\n",
              "  <div id=\"df-e36acd67-827d-4394-b0b4-38a677abe819\" class=\"colab-df-container\">\n",
              "    <div>\n",
              "<style scoped>\n",
              "    .dataframe tbody tr th:only-of-type {\n",
              "        vertical-align: middle;\n",
              "    }\n",
              "\n",
              "    .dataframe tbody tr th {\n",
              "        vertical-align: top;\n",
              "    }\n",
              "\n",
              "    .dataframe thead th {\n",
              "        text-align: right;\n",
              "    }\n",
              "</style>\n",
              "<table border=\"1\" class=\"dataframe\">\n",
              "  <thead>\n",
              "    <tr style=\"text-align: right;\">\n",
              "      <th></th>\n",
              "      <th>Report Number</th>\n",
              "      <th>Local Case Number</th>\n",
              "      <th>Agency Name</th>\n",
              "      <th>ACRS Report Type</th>\n",
              "      <th>Crash Date/Time</th>\n",
              "      <th>Route Type</th>\n",
              "      <th>Road Name</th>\n",
              "      <th>Cross-Street Type</th>\n",
              "      <th>Cross-Street Name</th>\n",
              "      <th>Off-Road Description</th>\n",
              "      <th>Municipality</th>\n",
              "      <th>Related Non-Motorist</th>\n",
              "      <th>Collision Type</th>\n",
              "      <th>Weather</th>\n",
              "      <th>Surface Condition</th>\n",
              "      <th>Light</th>\n",
              "      <th>Traffic Control</th>\n",
              "      <th>Driver Substance Abuse</th>\n",
              "      <th>Non-Motorist Substance Abuse</th>\n",
              "      <th>Person ID</th>\n",
              "      <th>Driver At Fault</th>\n",
              "      <th>Injury Severity</th>\n",
              "      <th>Circumstance</th>\n",
              "      <th>Driver Distracted By</th>\n",
              "      <th>Drivers License State</th>\n",
              "      <th>Vehicle ID</th>\n",
              "      <th>Vehicle Damage Extent</th>\n",
              "      <th>Vehicle First Impact Location</th>\n",
              "      <th>Vehicle Second Impact Location</th>\n",
              "      <th>Vehicle Body Type</th>\n",
              "      <th>Vehicle Movement</th>\n",
              "      <th>Vehicle Continuing Dir</th>\n",
              "      <th>Vehicle Going Dir</th>\n",
              "      <th>Speed Limit</th>\n",
              "      <th>Driverless Vehicle</th>\n",
              "      <th>Parked Vehicle</th>\n",
              "      <th>Vehicle Year</th>\n",
              "      <th>Vehicle Make</th>\n",
              "      <th>Vehicle Model</th>\n",
              "      <th>Equipment Problems</th>\n",
              "      <th>Latitude</th>\n",
              "      <th>Longitude</th>\n",
              "      <th>Location</th>\n",
              "    </tr>\n",
              "  </thead>\n",
              "  <tbody>\n",
              "    <tr>\n",
              "      <th>0</th>\n",
              "      <td>MCP3040003N</td>\n",
              "      <td>190026050</td>\n",
              "      <td>Montgomery County Police</td>\n",
              "      <td>Property Damage Crash</td>\n",
              "      <td>05/31/2019 03:00:00 PM</td>\n",
              "      <td>NaN</td>\n",
              "      <td>NaN</td>\n",
              "      <td>NaN</td>\n",
              "      <td>NaN</td>\n",
              "      <td>PARKING LOT OF 3215 SPARTAN RD</td>\n",
              "      <td>NaN</td>\n",
              "      <td>NaN</td>\n",
              "      <td>OTHER</td>\n",
              "      <td>CLEAR</td>\n",
              "      <td>NaN</td>\n",
              "      <td>DAYLIGHT</td>\n",
              "      <td>NaN</td>\n",
              "      <td>UNKNOWN</td>\n",
              "      <td>NaN</td>\n",
              "      <td>DE2A24CD-7919-4F8D-BABF-5B75CE12D21E</td>\n",
              "      <td>Yes</td>\n",
              "      <td>NO APPARENT INJURY</td>\n",
              "      <td>NaN</td>\n",
              "      <td>UNKNOWN</td>\n",
              "      <td>NaN</td>\n",
              "      <td>165AD539-A8C8-4004-AF73-B7DCAAA8B3CC</td>\n",
              "      <td>SUPERFICIAL</td>\n",
              "      <td>ONE OCLOCK</td>\n",
              "      <td>ONE OCLOCK</td>\n",
              "      <td>PASSENGER CAR</td>\n",
              "      <td>PARKING</td>\n",
              "      <td>North</td>\n",
              "      <td>North</td>\n",
              "      <td>15</td>\n",
              "      <td>No</td>\n",
              "      <td>No</td>\n",
              "      <td>2004</td>\n",
              "      <td>HONDA</td>\n",
              "      <td>TK</td>\n",
              "      <td>UNKNOWN</td>\n",
              "      <td>39.150044</td>\n",
              "      <td>-77.063089</td>\n",
              "      <td>(39.15004368, -77.06308884)</td>\n",
              "    </tr>\n",
              "    <tr>\n",
              "      <th>1</th>\n",
              "      <td>MCP1307000K</td>\n",
              "      <td>190024786</td>\n",
              "      <td>Montgomery County Police</td>\n",
              "      <td>Property Damage Crash</td>\n",
              "      <td>05/24/2019 05:00:00 PM</td>\n",
              "      <td>NaN</td>\n",
              "      <td>NaN</td>\n",
              "      <td>NaN</td>\n",
              "      <td>NaN</td>\n",
              "      <td>PARKING LOT</td>\n",
              "      <td>NaN</td>\n",
              "      <td>NaN</td>\n",
              "      <td>NaN</td>\n",
              "      <td>CLEAR</td>\n",
              "      <td>NaN</td>\n",
              "      <td>DAYLIGHT</td>\n",
              "      <td>NaN</td>\n",
              "      <td>NaN</td>\n",
              "      <td>NaN</td>\n",
              "      <td>6208FA7B-5DC4-4B54-AD60-0C06DFE2AE81</td>\n",
              "      <td>Yes</td>\n",
              "      <td>NO APPARENT INJURY</td>\n",
              "      <td>NaN</td>\n",
              "      <td>NOT DISTRACTED</td>\n",
              "      <td>XX</td>\n",
              "      <td>10239493-D667-42F9-A3D2-820FE184CB6C</td>\n",
              "      <td>FUNCTIONAL</td>\n",
              "      <td>ONE OCLOCK</td>\n",
              "      <td>ONE OCLOCK</td>\n",
              "      <td>PASSENGER CAR</td>\n",
              "      <td>PARKING</td>\n",
              "      <td>Unknown</td>\n",
              "      <td>Unknown</td>\n",
              "      <td>0</td>\n",
              "      <td>No</td>\n",
              "      <td>No</td>\n",
              "      <td>0</td>\n",
              "      <td>UNK</td>\n",
              "      <td>UNK</td>\n",
              "      <td>NaN</td>\n",
              "      <td>39.199047</td>\n",
              "      <td>-77.250743</td>\n",
              "      <td>(39.19904667, -77.25074333)</td>\n",
              "    </tr>\n",
              "  </tbody>\n",
              "</table>\n",
              "</div>\n",
              "    <div class=\"colab-df-buttons\">\n",
              "\n",
              "  <div class=\"colab-df-container\">\n",
              "    <button class=\"colab-df-convert\" onclick=\"convertToInteractive('df-e36acd67-827d-4394-b0b4-38a677abe819')\"\n",
              "            title=\"Convert this dataframe to an interactive table.\"\n",
              "            style=\"display:none;\">\n",
              "\n",
              "  <svg xmlns=\"http://www.w3.org/2000/svg\" height=\"24px\" viewBox=\"0 -960 960 960\">\n",
              "    <path d=\"M120-120v-720h720v720H120Zm60-500h600v-160H180v160Zm220 220h160v-160H400v160Zm0 220h160v-160H400v160ZM180-400h160v-160H180v160Zm440 0h160v-160H620v160ZM180-180h160v-160H180v160Zm440 0h160v-160H620v160Z\"/>\n",
              "  </svg>\n",
              "    </button>\n",
              "\n",
              "  <style>\n",
              "    .colab-df-container {\n",
              "      display:flex;\n",
              "      gap: 12px;\n",
              "    }\n",
              "\n",
              "    .colab-df-convert {\n",
              "      background-color: #E8F0FE;\n",
              "      border: none;\n",
              "      border-radius: 50%;\n",
              "      cursor: pointer;\n",
              "      display: none;\n",
              "      fill: #1967D2;\n",
              "      height: 32px;\n",
              "      padding: 0 0 0 0;\n",
              "      width: 32px;\n",
              "    }\n",
              "\n",
              "    .colab-df-convert:hover {\n",
              "      background-color: #E2EBFA;\n",
              "      box-shadow: 0px 1px 2px rgba(60, 64, 67, 0.3), 0px 1px 3px 1px rgba(60, 64, 67, 0.15);\n",
              "      fill: #174EA6;\n",
              "    }\n",
              "\n",
              "    .colab-df-buttons div {\n",
              "      margin-bottom: 4px;\n",
              "    }\n",
              "\n",
              "    [theme=dark] .colab-df-convert {\n",
              "      background-color: #3B4455;\n",
              "      fill: #D2E3FC;\n",
              "    }\n",
              "\n",
              "    [theme=dark] .colab-df-convert:hover {\n",
              "      background-color: #434B5C;\n",
              "      box-shadow: 0px 1px 3px 1px rgba(0, 0, 0, 0.15);\n",
              "      filter: drop-shadow(0px 1px 2px rgba(0, 0, 0, 0.3));\n",
              "      fill: #FFFFFF;\n",
              "    }\n",
              "  </style>\n",
              "\n",
              "    <script>\n",
              "      const buttonEl =\n",
              "        document.querySelector('#df-e36acd67-827d-4394-b0b4-38a677abe819 button.colab-df-convert');\n",
              "      buttonEl.style.display =\n",
              "        google.colab.kernel.accessAllowed ? 'block' : 'none';\n",
              "\n",
              "      async function convertToInteractive(key) {\n",
              "        const element = document.querySelector('#df-e36acd67-827d-4394-b0b4-38a677abe819');\n",
              "        const dataTable =\n",
              "          await google.colab.kernel.invokeFunction('convertToInteractive',\n",
              "                                                    [key], {});\n",
              "        if (!dataTable) return;\n",
              "\n",
              "        const docLinkHtml = 'Like what you see? Visit the ' +\n",
              "          '<a target=\"_blank\" href=https://colab.research.google.com/notebooks/data_table.ipynb>data table notebook</a>'\n",
              "          + ' to learn more about interactive tables.';\n",
              "        element.innerHTML = '';\n",
              "        dataTable['output_type'] = 'display_data';\n",
              "        await google.colab.output.renderOutput(dataTable, element);\n",
              "        const docLink = document.createElement('div');\n",
              "        docLink.innerHTML = docLinkHtml;\n",
              "        element.appendChild(docLink);\n",
              "      }\n",
              "    </script>\n",
              "  </div>\n",
              "\n",
              "\n",
              "<div id=\"df-a30b7275-e4c7-452a-97b0-e623c30d78ea\">\n",
              "  <button class=\"colab-df-quickchart\" onclick=\"quickchart('df-a30b7275-e4c7-452a-97b0-e623c30d78ea')\"\n",
              "            title=\"Suggest charts.\"\n",
              "            style=\"display:none;\">\n",
              "\n",
              "<svg xmlns=\"http://www.w3.org/2000/svg\" height=\"24px\"viewBox=\"0 0 24 24\"\n",
              "     width=\"24px\">\n",
              "    <g>\n",
              "        <path d=\"M19 3H5c-1.1 0-2 .9-2 2v14c0 1.1.9 2 2 2h14c1.1 0 2-.9 2-2V5c0-1.1-.9-2-2-2zM9 17H7v-7h2v7zm4 0h-2V7h2v10zm4 0h-2v-4h2v4z\"/>\n",
              "    </g>\n",
              "</svg>\n",
              "  </button>\n",
              "\n",
              "<style>\n",
              "  .colab-df-quickchart {\n",
              "      --bg-color: #E8F0FE;\n",
              "      --fill-color: #1967D2;\n",
              "      --hover-bg-color: #E2EBFA;\n",
              "      --hover-fill-color: #174EA6;\n",
              "      --disabled-fill-color: #AAA;\n",
              "      --disabled-bg-color: #DDD;\n",
              "  }\n",
              "\n",
              "  [theme=dark] .colab-df-quickchart {\n",
              "      --bg-color: #3B4455;\n",
              "      --fill-color: #D2E3FC;\n",
              "      --hover-bg-color: #434B5C;\n",
              "      --hover-fill-color: #FFFFFF;\n",
              "      --disabled-bg-color: #3B4455;\n",
              "      --disabled-fill-color: #666;\n",
              "  }\n",
              "\n",
              "  .colab-df-quickchart {\n",
              "    background-color: var(--bg-color);\n",
              "    border: none;\n",
              "    border-radius: 50%;\n",
              "    cursor: pointer;\n",
              "    display: none;\n",
              "    fill: var(--fill-color);\n",
              "    height: 32px;\n",
              "    padding: 0;\n",
              "    width: 32px;\n",
              "  }\n",
              "\n",
              "  .colab-df-quickchart:hover {\n",
              "    background-color: var(--hover-bg-color);\n",
              "    box-shadow: 0 1px 2px rgba(60, 64, 67, 0.3), 0 1px 3px 1px rgba(60, 64, 67, 0.15);\n",
              "    fill: var(--button-hover-fill-color);\n",
              "  }\n",
              "\n",
              "  .colab-df-quickchart-complete:disabled,\n",
              "  .colab-df-quickchart-complete:disabled:hover {\n",
              "    background-color: var(--disabled-bg-color);\n",
              "    fill: var(--disabled-fill-color);\n",
              "    box-shadow: none;\n",
              "  }\n",
              "\n",
              "  .colab-df-spinner {\n",
              "    border: 2px solid var(--fill-color);\n",
              "    border-color: transparent;\n",
              "    border-bottom-color: var(--fill-color);\n",
              "    animation:\n",
              "      spin 1s steps(1) infinite;\n",
              "  }\n",
              "\n",
              "  @keyframes spin {\n",
              "    0% {\n",
              "      border-color: transparent;\n",
              "      border-bottom-color: var(--fill-color);\n",
              "      border-left-color: var(--fill-color);\n",
              "    }\n",
              "    20% {\n",
              "      border-color: transparent;\n",
              "      border-left-color: var(--fill-color);\n",
              "      border-top-color: var(--fill-color);\n",
              "    }\n",
              "    30% {\n",
              "      border-color: transparent;\n",
              "      border-left-color: var(--fill-color);\n",
              "      border-top-color: var(--fill-color);\n",
              "      border-right-color: var(--fill-color);\n",
              "    }\n",
              "    40% {\n",
              "      border-color: transparent;\n",
              "      border-right-color: var(--fill-color);\n",
              "      border-top-color: var(--fill-color);\n",
              "    }\n",
              "    60% {\n",
              "      border-color: transparent;\n",
              "      border-right-color: var(--fill-color);\n",
              "    }\n",
              "    80% {\n",
              "      border-color: transparent;\n",
              "      border-right-color: var(--fill-color);\n",
              "      border-bottom-color: var(--fill-color);\n",
              "    }\n",
              "    90% {\n",
              "      border-color: transparent;\n",
              "      border-bottom-color: var(--fill-color);\n",
              "    }\n",
              "  }\n",
              "</style>\n",
              "\n",
              "  <script>\n",
              "    async function quickchart(key) {\n",
              "      const quickchartButtonEl =\n",
              "        document.querySelector('#' + key + ' button');\n",
              "      quickchartButtonEl.disabled = true;  // To prevent multiple clicks.\n",
              "      quickchartButtonEl.classList.add('colab-df-spinner');\n",
              "      try {\n",
              "        const charts = await google.colab.kernel.invokeFunction(\n",
              "            'suggestCharts', [key], {});\n",
              "      } catch (error) {\n",
              "        console.error('Error during call to suggestCharts:', error);\n",
              "      }\n",
              "      quickchartButtonEl.classList.remove('colab-df-spinner');\n",
              "      quickchartButtonEl.classList.add('colab-df-quickchart-complete');\n",
              "    }\n",
              "    (() => {\n",
              "      let quickchartButtonEl =\n",
              "        document.querySelector('#df-a30b7275-e4c7-452a-97b0-e623c30d78ea button');\n",
              "      quickchartButtonEl.style.display =\n",
              "        google.colab.kernel.accessAllowed ? 'block' : 'none';\n",
              "    })();\n",
              "  </script>\n",
              "</div>\n",
              "    </div>\n",
              "  </div>\n"
            ]
          },
          "metadata": {},
          "execution_count": 33
        }
      ]
    },
    {
      "cell_type": "code",
      "source": [
        "dt_report.info()"
      ],
      "metadata": {
        "colab": {
          "base_uri": "https://localhost:8080/"
        },
        "id": "LcaQfPU6sTa_",
        "outputId": "ca007edd-8fcd-48e7-f68e-b919930fa114"
      },
      "execution_count": 34,
      "outputs": [
        {
          "output_type": "stream",
          "name": "stdout",
          "text": [
            "<class 'pandas.core.frame.DataFrame'>\n",
            "RangeIndex: 166537 entries, 0 to 166536\n",
            "Data columns (total 43 columns):\n",
            " #   Column                          Non-Null Count   Dtype  \n",
            "---  ------                          --------------   -----  \n",
            " 0   Report Number                   166537 non-null  object \n",
            " 1   Local Case Number               166537 non-null  object \n",
            " 2   Agency Name                     166537 non-null  object \n",
            " 3   ACRS Report Type                166537 non-null  object \n",
            " 4   Crash Date/Time                 166537 non-null  object \n",
            " 5   Route Type                      150113 non-null  object \n",
            " 6   Road Name                       151081 non-null  object \n",
            " 7   Cross-Street Type               150082 non-null  object \n",
            " 8   Cross-Street Name               151070 non-null  object \n",
            " 9   Off-Road Description            15454 non-null   object \n",
            " 10  Municipality                    18458 non-null   object \n",
            " 11  Related Non-Motorist            5277 non-null    object \n",
            " 12  Collision Type                  165971 non-null  object \n",
            " 13  Weather                         153591 non-null  object \n",
            " 14  Surface Condition               147024 non-null  object \n",
            " 15  Light                           165157 non-null  object \n",
            " 16  Traffic Control                 141764 non-null  object \n",
            " 17  Driver Substance Abuse          136192 non-null  object \n",
            " 18  Non-Motorist Substance Abuse    4170 non-null    object \n",
            " 19  Person ID                       166537 non-null  object \n",
            " 20  Driver At Fault                 166537 non-null  object \n",
            " 21  Injury Severity                 166537 non-null  object \n",
            " 22  Circumstance                    30358 non-null   object \n",
            " 23  Driver Distracted By            166537 non-null  object \n",
            " 24  Drivers License State           157029 non-null  object \n",
            " 25  Vehicle ID                      166537 non-null  object \n",
            " 26  Vehicle Damage Extent           166235 non-null  object \n",
            " 27  Vehicle First Impact Location   166381 non-null  object \n",
            " 28  Vehicle Second Impact Location  166281 non-null  object \n",
            " 29  Vehicle Body Type               163991 non-null  object \n",
            " 30  Vehicle Movement                166170 non-null  object \n",
            " 31  Vehicle Continuing Dir          163952 non-null  object \n",
            " 32  Vehicle Going Dir               163952 non-null  object \n",
            " 33  Speed Limit                     166537 non-null  int64  \n",
            " 34  Driverless Vehicle              166537 non-null  object \n",
            " 35  Parked Vehicle                  166537 non-null  object \n",
            " 36  Vehicle Year                    166537 non-null  int64  \n",
            " 37  Vehicle Make                    166514 non-null  object \n",
            " 38  Vehicle Model                   166472 non-null  object \n",
            " 39  Equipment Problems              133257 non-null  object \n",
            " 40  Latitude                        166537 non-null  float64\n",
            " 41  Longitude                       166537 non-null  float64\n",
            " 42  Location                        166537 non-null  object \n",
            "dtypes: float64(2), int64(2), object(39)\n",
            "memory usage: 54.6+ MB\n"
          ]
        }
      ]
    },
    {
      "cell_type": "markdown",
      "source": [
        "Dataset has different data type, as float64 - 2 columns, int64 - 2 columns, object - 39 columns."
      ],
      "metadata": {
        "id": "fMCbx7PpvSVv"
      }
    },
    {
      "cell_type": "markdown",
      "source": [
        "Checking dublicates and missing value:"
      ],
      "metadata": {
        "id": "V3I3qw_-v7D7"
      }
    },
    {
      "cell_type": "code",
      "source": [
        "#copy original dataset before procced modificatio\n",
        "df = dt_report.copy()"
      ],
      "metadata": {
        "id": "X8mrhCv_wA61"
      },
      "execution_count": 238,
      "outputs": []
    },
    {
      "cell_type": "code",
      "source": [
        "df.shape"
      ],
      "metadata": {
        "colab": {
          "base_uri": "https://localhost:8080/"
        },
        "id": "jXlbMONgwOjd",
        "outputId": "4fc20fbf-b8c6-4c5d-e5f3-c92e3a69e3a2"
      },
      "execution_count": 43,
      "outputs": [
        {
          "output_type": "execute_result",
          "data": {
            "text/plain": [
              "(166537, 43)"
            ]
          },
          "metadata": {},
          "execution_count": 43
        }
      ]
    },
    {
      "cell_type": "code",
      "source": [
        "# Let's check for duplicate values in the data\n",
        "df.duplicated().sum()"
      ],
      "metadata": {
        "colab": {
          "base_uri": "https://localhost:8080/"
        },
        "id": "27wXbzDRvBTa",
        "outputId": "7b946a60-6b5b-4fa8-dc38-cd3680b931e2"
      },
      "execution_count": 62,
      "outputs": [
        {
          "output_type": "execute_result",
          "data": {
            "text/plain": [
              "0"
            ]
          },
          "metadata": {},
          "execution_count": 62
        }
      ]
    },
    {
      "cell_type": "markdown",
      "source": [
        "Dataset has 0 dublicates values."
      ],
      "metadata": {
        "id": "wBGHUIKOwSna"
      }
    },
    {
      "cell_type": "code",
      "source": [
        "#Checking Missing Values Pattern in Dataframe\n",
        "import missingno as mn\n",
        "mn.matrix(df)"
      ],
      "metadata": {
        "colab": {
          "base_uri": "https://localhost:8080/",
          "height": 763
        },
        "id": "GatUzRy3x5Y6",
        "outputId": "f12e3d2f-cf7e-486a-dc50-6641194bbe2d"
      },
      "execution_count": 45,
      "outputs": [
        {
          "output_type": "execute_result",
          "data": {
            "text/plain": [
              "<Axes: >"
            ]
          },
          "metadata": {},
          "execution_count": 45
        },
        {
          "output_type": "display_data",
          "data": {
            "text/plain": [
              "<Figure size 2500x1000 with 2 Axes>"
            ],
            "image/png": "[encoded data removed]"
          },
          "metadata": {}
        }
      ]
    },
    {
      "cell_type": "code",
      "source": [
        "# Let's check for missing values in the data in %\n",
        "print(\"Missing Value                      %: \")\n",
        "round(df.isnull().sum() / df.isnull().count() * 100, 2)"
      ],
      "metadata": {
        "colab": {
          "base_uri": "https://localhost:8080/"
        },
        "id": "bRN_GZT3wVxi",
        "outputId": "e8b83549-75ce-4457-addc-f5d13c12508d"
      },
      "execution_count": 63,
      "outputs": [
        {
          "output_type": "stream",
          "name": "stdout",
          "text": [
            "Missing Value                      %: \n"
          ]
        },
        {
          "output_type": "execute_result",
          "data": {
            "text/plain": [
              "Report Number                      0.00\n",
              "Local Case Number                  0.00\n",
              "Agency Name                        0.00\n",
              "ACRS Report Type                   0.00\n",
              "Crash Date/Time                    0.00\n",
              "Route Type                         9.86\n",
              "Road Name                          9.28\n",
              "Cross-Street Type                  9.88\n",
              "Cross-Street Name                  9.29\n",
              "Off-Road Description              90.72\n",
              "Municipality                      88.92\n",
              "Related Non-Motorist              96.83\n",
              "Collision Type                     0.34\n",
              "Weather                            7.77\n",
              "Surface Condition                 11.72\n",
              "Light                              0.83\n",
              "Traffic Control                   14.88\n",
              "Driver Substance Abuse            18.22\n",
              "Non-Motorist Substance Abuse      97.50\n",
              "Person ID                          0.00\n",
              "Driver At Fault                    0.00\n",
              "Injury Severity                    0.00\n",
              "Circumstance                      81.77\n",
              "Driver Distracted By               0.00\n",
              "Drivers License State              5.71\n",
              "Vehicle ID                         0.00\n",
              "Vehicle Damage Extent              0.18\n",
              "Vehicle First Impact Location      0.09\n",
              "Vehicle Second Impact Location     0.15\n",
              "Vehicle Body Type                  1.53\n",
              "Vehicle Movement                   0.22\n",
              "Vehicle Continuing Dir             1.55\n",
              "Vehicle Going Dir                  1.55\n",
              "Speed Limit                        0.00\n",
              "Driverless Vehicle                 0.00\n",
              "Parked Vehicle                     0.00\n",
              "Vehicle Year                       0.00\n",
              "Vehicle Make                       0.01\n",
              "Vehicle Model                      0.04\n",
              "Equipment Problems                19.98\n",
              "Latitude                           0.00\n",
              "Longitude                          0.00\n",
              "Location                           0.00\n",
              "dtype: float64"
            ]
          },
          "metadata": {},
          "execution_count": 63
        }
      ]
    },
    {
      "cell_type": "code",
      "source": [
        "#Drop rows where is related to NON-Motorist accident\n",
        "#df.dropna(subset=['Related Non-Motorist'], inplace=True)\n"
      ],
      "metadata": {
        "id": "vGVgHeltzCQ1"
      },
      "execution_count": 40,
      "outputs": []
    },
    {
      "cell_type": "code",
      "source": [
        "df.groupby('Related Non-Motorist').size()"
      ],
      "metadata": {
        "colab": {
          "base_uri": "https://localhost:8080/"
        },
        "id": "jaflK7T9Ctep",
        "outputId": "8f518e4e-c8f0-44b8-883f-90a3a97e24cb"
      },
      "execution_count": 150,
      "outputs": [
        {
          "output_type": "execute_result",
          "data": {
            "text/plain": [
              "Related Non-Motorist\n",
              "BICYCLIST                       1134\n",
              "BICYCLIST, OTHER                   4\n",
              "BICYCLIST, PEDESTRIAN              3\n",
              "IN ANIMAL-DRAWN VEH                1\n",
              "MACHINE OPERATOR/RIDER            35\n",
              "OTHER                            236\n",
              "OTHER CONVEYANCE                  83\n",
              "OTHER CONVEYANCE, PEDESTRIAN       1\n",
              "OTHER PEDALCYCLIST                23\n",
              "OTHER, OTHER CONVEYANCE            1\n",
              "OTHER, PEDESTRIAN                  8\n",
              "PEDESTRIAN                      3748\n",
              "dtype: int64"
            ]
          },
          "metadata": {},
          "execution_count": 150
        }
      ]
    },
    {
      "cell_type": "code",
      "source": [
        "df = df[df['Related Non-Motorist'].isnull()] #drop rows related to non-motorist accedent"
      ],
      "metadata": {
        "id": "DzfrI24Vz4df"
      },
      "execution_count": 239,
      "outputs": []
    },
    {
      "cell_type": "code",
      "source": [
        "df.drop('Related Non-Motorist', axis=1, inplace=True)"
      ],
      "metadata": {
        "id": "JuR_A2IA0Ckn"
      },
      "execution_count": 240,
      "outputs": []
    },
    {
      "cell_type": "code",
      "source": [
        "df.drop('Non-Motorist Substance Abuse', axis=1, inplace=True)"
      ],
      "metadata": {
        "id": "Rb0rnRrR0ZeV"
      },
      "execution_count": 241,
      "outputs": []
    },
    {
      "cell_type": "markdown",
      "source": [
        "### Drop columns with missing value 75%"
      ],
      "metadata": {
        "id": "jVpmaNL8C_jO"
      }
    },
    {
      "cell_type": "code",
      "source": [
        "# Persentage of Missing Value:\n",
        "\n",
        "missing_values = df.isna().sum().sort_values(ascending=False)\n",
        "\n",
        "missing_percentage = missing_values[missing_values!=0]/len(df)*100\n",
        "#Dropping Columns with missing value gretter that 75%\n",
        "columns_to_drop = missing_percentage[missing_percentage >= 75].index\n",
        "print(\"Dropping columns with missing value gretter than 75% :\", columns_to_drop)\n",
        "df.drop(columns=columns_to_drop, inplace=True)\n",
        "\n",
        "#print(\"Percentage of Missing Values \\n\", missing_percentage)"
      ],
      "metadata": {
        "colab": {
          "base_uri": "https://localhost:8080/"
        },
        "id": "JVYWK_pZ1Z-6",
        "outputId": "38ccfa00-b5b5-45dc-a385-f8cd93f33fc4"
      },
      "execution_count": 242,
      "outputs": [
        {
          "output_type": "stream",
          "name": "stdout",
          "text": [
            "Dropping columns with missing value gretter than 75% : Index(['Off-Road Description', 'Municipality', 'Circumstance'], dtype='object')\n"
          ]
        }
      ]
    },
    {
      "cell_type": "code",
      "source": [
        "# Let's check for missing values in the data in %\n",
        "print(\"Missing Value                      %: \")\n",
        "round(df.isnull().sum() / df.isnull().count() * 100, 2)"
      ],
      "metadata": {
        "colab": {
          "base_uri": "https://localhost:8080/"
        },
        "id": "owdYZAhW2dXD",
        "outputId": "0b1132aa-a603-44eb-f069-68c84be625d9"
      },
      "execution_count": 179,
      "outputs": [
        {
          "output_type": "stream",
          "name": "stdout",
          "text": [
            "Missing Value                      %: \n"
          ]
        },
        {
          "output_type": "execute_result",
          "data": {
            "text/plain": [
              "Report Number                      0.00\n",
              "Local Case Number                  0.00\n",
              "Agency Name                        0.00\n",
              "ACRS Report Type                   0.00\n",
              "Crash Date/Time                    0.00\n",
              "Route Type                         9.45\n",
              "Road Name                          8.89\n",
              "Cross-Street Type                  9.47\n",
              "Cross-Street Name                  8.90\n",
              "Collision Type                     0.25\n",
              "Weather                            7.75\n",
              "Surface Condition                 11.33\n",
              "Light                              0.83\n",
              "Traffic Control                   14.90\n",
              "Driver Substance Abuse            18.23\n",
              "Person ID                          0.00\n",
              "Driver At Fault                    0.00\n",
              "Injury Severity                    0.00\n",
              "Driver Distracted By               0.00\n",
              "Drivers License State              5.54\n",
              "Vehicle ID                         0.00\n",
              "Vehicle Damage Extent              0.16\n",
              "Vehicle First Impact Location      0.09\n",
              "Vehicle Second Impact Location     0.15\n",
              "Vehicle Body Type                  1.37\n",
              "Vehicle Movement                   0.22\n",
              "Vehicle Continuing Dir             1.58\n",
              "Vehicle Going Dir                  1.58\n",
              "Speed Limit                        0.00\n",
              "Driverless Vehicle                 0.00\n",
              "Parked Vehicle                     0.00\n",
              "Vehicle Year                       0.00\n",
              "Vehicle Make                       0.01\n",
              "Vehicle Model                      0.04\n",
              "Equipment Problems                20.02\n",
              "Latitude                           0.00\n",
              "Longitude                          0.00\n",
              "Location                           0.00\n",
              "dtype: float64"
            ]
          },
          "metadata": {},
          "execution_count": 179
        }
      ]
    },
    {
      "cell_type": "markdown",
      "source": [
        "Observation:\n",
        "Let's address the columns with the highest missing data percentages:\n",
        "- Equipment Problems: 20.02% missing\n",
        "- Driver Substance Abuse: 18.23% missing\n",
        "- Traffic Control: 14.90% missing\n",
        "- Surface Condition: 11.33% missing\n",
        "- Route Type, Road Name, Cross-Street Type, Cross-Street Name: Approximately 9% missing\n",
        "\n",
        "Let's handle these missing values for futher analysis."
      ],
      "metadata": {
        "id": "im7kzRTA3acd"
      }
    },
    {
      "cell_type": "markdown",
      "source": [
        " Categorical Columns\n",
        "categorical_columns = [\n",
        "    'Route Type', 'Road Name', 'Cross-Street Type', 'Cross-Street Name',\n",
        "    'Collision Type', 'Weather', 'Surface Condition', 'Light',\n",
        "    'Traffic Control', 'Driver Substance Abuse', 'Drivers License State',\n",
        "    'Vehicle Damage Extent', 'Vehicle First Impact Location',\n",
        "    'Vehicle Second Impact Location', 'Vehicle Body Type', 'Vehicle Movement',\n",
        "    'Vehicle Continuing Dir', 'Vehicle Going Dir', 'Vehicle Make',\n",
        "    'Vehicle Model', 'Equipment Problems']\n",
        "\n",
        "for col in categorical_columns:\n",
        "    df[col].fillna('Unknown', inplace=True)"
      ],
      "metadata": {
        "id": "nfBwVHZnBB0M"
      }
    },
    {
      "cell_type": "code",
      "source": [
        "df.info()"
      ],
      "metadata": {
        "colab": {
          "base_uri": "https://localhost:8080/"
        },
        "id": "QmQqqZu9zDx8",
        "outputId": "c234840d-900e-42d7-ceba-db5f81aa99e5"
      },
      "execution_count": 180,
      "outputs": [
        {
          "output_type": "stream",
          "name": "stdout",
          "text": [
            "<class 'pandas.core.frame.DataFrame'>\n",
            "Int64Index: 161260 entries, 0 to 166536\n",
            "Data columns (total 38 columns):\n",
            " #   Column                          Non-Null Count   Dtype  \n",
            "---  ------                          --------------   -----  \n",
            " 0   Report Number                   161260 non-null  object \n",
            " 1   Local Case Number               161260 non-null  object \n",
            " 2   Agency Name                     161260 non-null  object \n",
            " 3   ACRS Report Type                161260 non-null  object \n",
            " 4   Crash Date/Time                 161260 non-null  object \n",
            " 5   Route Type                      146016 non-null  object \n",
            " 6   Road Name                       146916 non-null  object \n",
            " 7   Cross-Street Type               145986 non-null  object \n",
            " 8   Cross-Street Name               146906 non-null  object \n",
            " 9   Collision Type                  160859 non-null  object \n",
            " 10  Weather                         148755 non-null  object \n",
            " 11  Surface Condition               142995 non-null  object \n",
            " 12  Light                           159923 non-null  object \n",
            " 13  Traffic Control                 137232 non-null  object \n",
            " 14  Driver Substance Abuse          131863 non-null  object \n",
            " 15  Person ID                       161260 non-null  object \n",
            " 16  Driver At Fault                 161260 non-null  object \n",
            " 17  Injury Severity                 161260 non-null  object \n",
            " 18  Driver Distracted By            161260 non-null  object \n",
            " 19  Drivers License State           152320 non-null  object \n",
            " 20  Vehicle ID                      161260 non-null  object \n",
            " 21  Vehicle Damage Extent           160995 non-null  object \n",
            " 22  Vehicle First Impact Location   161116 non-null  object \n",
            " 23  Vehicle Second Impact Location  161019 non-null  object \n",
            " 24  Vehicle Body Type               159058 non-null  object \n",
            " 25  Vehicle Movement                160909 non-null  object \n",
            " 26  Vehicle Continuing Dir          158711 non-null  object \n",
            " 27  Vehicle Going Dir               158711 non-null  object \n",
            " 28  Speed Limit                     161260 non-null  int64  \n",
            " 29  Driverless Vehicle              161260 non-null  object \n",
            " 30  Parked Vehicle                  161260 non-null  object \n",
            " 31  Vehicle Year                    161260 non-null  int64  \n",
            " 32  Vehicle Make                    161239 non-null  object \n",
            " 33  Vehicle Model                   161197 non-null  object \n",
            " 34  Equipment Problems              128980 non-null  object \n",
            " 35  Latitude                        161260 non-null  float64\n",
            " 36  Longitude                       161260 non-null  float64\n",
            " 37  Location                        161260 non-null  object \n",
            "dtypes: float64(2), int64(2), object(34)\n",
            "memory usage: 48.0+ MB\n"
          ]
        }
      ]
    },
    {
      "cell_type": "markdown",
      "source": [
        "Observation:\n",
        "Afrer data cleaning and handeling missing value dataset has  **____rows** and **___ columns**, data type :  float64 -2 columns, int64 - 2 columns, object type - 34 clumns."
      ],
      "metadata": {
        "id": "6_LpND-d4uyt"
      }
    },
    {
      "cell_type": "markdown",
      "source": [
        "### Modifying data format"
      ],
      "metadata": {
        "id": "ZaH6jFqy7By5"
      }
    },
    {
      "cell_type": "code",
      "source": [
        "df.head(2)"
      ],
      "metadata": {
        "colab": {
          "base_uri": "https://localhost:8080/",
          "height": 288
        },
        "id": "YO4mqO6Q7xKx",
        "outputId": "e9db4491-ee62-4712-e2b9-0f20a3a914d1"
      },
      "execution_count": 181,
      "outputs": [
        {
          "output_type": "execute_result",
          "data": {
            "text/plain": [
              "  Report Number Local Case Number               Agency Name  \\\n",
              "0   MCP3040003N         190026050  Montgomery County Police   \n",
              "1   MCP1307000K         190024786  Montgomery County Police   \n",
              "\n",
              "        ACRS Report Type         Crash Date/Time Route Type Road Name  \\\n",
              "0  Property Damage Crash  05/31/2019 03:00:00 PM        NaN       NaN   \n",
              "1  Property Damage Crash  05/24/2019 05:00:00 PM        NaN       NaN   \n",
              "\n",
              "  Cross-Street Type Cross-Street Name Collision Type Weather  \\\n",
              "0               NaN               NaN          OTHER   CLEAR   \n",
              "1               NaN               NaN            NaN   CLEAR   \n",
              "\n",
              "  Surface Condition     Light Traffic Control Driver Substance Abuse  \\\n",
              "0               NaN  DAYLIGHT             NaN                UNKNOWN   \n",
              "1               NaN  DAYLIGHT             NaN                    NaN   \n",
              "\n",
              "                              Person ID Driver At Fault     Injury Severity  \\\n",
              "0  DE2A24CD-7919-4F8D-BABF-5B75CE12D21E             Yes  NO APPARENT INJURY   \n",
              "1  6208FA7B-5DC4-4B54-AD60-0C06DFE2AE81             Yes  NO APPARENT INJURY   \n",
              "\n",
              "  Driver Distracted By Drivers License State  \\\n",
              "0              UNKNOWN                   NaN   \n",
              "1       NOT DISTRACTED                    XX   \n",
              "\n",
              "                             Vehicle ID Vehicle Damage Extent  \\\n",
              "0  165AD539-A8C8-4004-AF73-B7DCAAA8B3CC           SUPERFICIAL   \n",
              "1  10239493-D667-42F9-A3D2-820FE184CB6C            FUNCTIONAL   \n",
              "\n",
              "  Vehicle First Impact Location Vehicle Second Impact Location  \\\n",
              "0                    ONE OCLOCK                     ONE OCLOCK   \n",
              "1                    ONE OCLOCK                     ONE OCLOCK   \n",
              "\n",
              "  Vehicle Body Type Vehicle Movement Vehicle Continuing Dir Vehicle Going Dir  \\\n",
              "0     PASSENGER CAR          PARKING                  North             North   \n",
              "1     PASSENGER CAR          PARKING                Unknown           Unknown   \n",
              "\n",
              "   Speed Limit Driverless Vehicle Parked Vehicle  Vehicle Year Vehicle Make  \\\n",
              "0           15                 No             No          2004        HONDA   \n",
              "1            0                 No             No             0          UNK   \n",
              "\n",
              "  Vehicle Model Equipment Problems   Latitude  Longitude  \\\n",
              "0            TK            UNKNOWN  39.150044 -77.063089   \n",
              "1           UNK                NaN  39.199047 -77.250743   \n",
              "\n",
              "                      Location  \n",
              "0  (39.15004368, -77.06308884)  \n",
              "1  (39.19904667, -77.25074333)  "
            ],
            "text/html": [
              "\n",
              "  <div id=\"df-cd48739e-26eb-476e-8cfa-a4415e2e30f9\" class=\"colab-df-container\">\n",
              "    <div>\n",
              "<style scoped>\n",
              "    .dataframe tbody tr th:only-of-type {\n",
              "        vertical-align: middle;\n",
              "    }\n",
              "\n",
              "    .dataframe tbody tr th {\n",
              "        vertical-align: top;\n",
              "    }\n",
              "\n",
              "    .dataframe thead th {\n",
              "        text-align: right;\n",
              "    }\n",
              "</style>\n",
              "<table border=\"1\" class=\"dataframe\">\n",
              "  <thead>\n",
              "    <tr style=\"text-align: right;\">\n",
              "      <th></th>\n",
              "      <th>Report Number</th>\n",
              "      <th>Local Case Number</th>\n",
              "      <th>Agency Name</th>\n",
              "      <th>ACRS Report Type</th>\n",
              "      <th>Crash Date/Time</th>\n",
              "      <th>Route Type</th>\n",
              "      <th>Road Name</th>\n",
              "      <th>Cross-Street Type</th>\n",
              "      <th>Cross-Street Name</th>\n",
              "      <th>Collision Type</th>\n",
              "      <th>Weather</th>\n",
              "      <th>Surface Condition</th>\n",
              "      <th>Light</th>\n",
              "      <th>Traffic Control</th>\n",
              "      <th>Driver Substance Abuse</th>\n",
              "      <th>Person ID</th>\n",
              "      <th>Driver At Fault</th>\n",
              "      <th>Injury Severity</th>\n",
              "      <th>Driver Distracted By</th>\n",
              "      <th>Drivers License State</th>\n",
              "      <th>Vehicle ID</th>\n",
              "      <th>Vehicle Damage Extent</th>\n",
              "      <th>Vehicle First Impact Location</th>\n",
              "      <th>Vehicle Second Impact Location</th>\n",
              "      <th>Vehicle Body Type</th>\n",
              "      <th>Vehicle Movement</th>\n",
              "      <th>Vehicle Continuing Dir</th>\n",
              "      <th>Vehicle Going Dir</th>\n",
              "      <th>Speed Limit</th>\n",
              "      <th>Driverless Vehicle</th>\n",
              "      <th>Parked Vehicle</th>\n",
              "      <th>Vehicle Year</th>\n",
              "      <th>Vehicle Make</th>\n",
              "      <th>Vehicle Model</th>\n",
              "      <th>Equipment Problems</th>\n",
              "      <th>Latitude</th>\n",
              "      <th>Longitude</th>\n",
              "      <th>Location</th>\n",
              "    </tr>\n",
              "  </thead>\n",
              "  <tbody>\n",
              "    <tr>\n",
              "      <th>0</th>\n",
              "      <td>MCP3040003N</td>\n",
              "      <td>190026050</td>\n",
              "      <td>Montgomery County Police</td>\n",
              "      <td>Property Damage Crash</td>\n",
              "      <td>05/31/2019 03:00:00 PM</td>\n",
              "      <td>NaN</td>\n",
              "      <td>NaN</td>\n",
              "      <td>NaN</td>\n",
              "      <td>NaN</td>\n",
              "      <td>OTHER</td>\n",
              "      <td>CLEAR</td>\n",
              "      <td>NaN</td>\n",
              "      <td>DAYLIGHT</td>\n",
              "      <td>NaN</td>\n",
              "      <td>UNKNOWN</td>\n",
              "      <td>DE2A24CD-7919-4F8D-BABF-5B75CE12D21E</td>\n",
              "      <td>Yes</td>\n",
              "      <td>NO APPARENT INJURY</td>\n",
              "      <td>UNKNOWN</td>\n",
              "      <td>NaN</td>\n",
              "      <td>165AD539-A8C8-4004-AF73-B7DCAAA8B3CC</td>\n",
              "      <td>SUPERFICIAL</td>\n",
              "      <td>ONE OCLOCK</td>\n",
              "      <td>ONE OCLOCK</td>\n",
              "      <td>PASSENGER CAR</td>\n",
              "      <td>PARKING</td>\n",
              "      <td>North</td>\n",
              "      <td>North</td>\n",
              "      <td>15</td>\n",
              "      <td>No</td>\n",
              "      <td>No</td>\n",
              "      <td>2004</td>\n",
              "      <td>HONDA</td>\n",
              "      <td>TK</td>\n",
              "      <td>UNKNOWN</td>\n",
              "      <td>39.150044</td>\n",
              "      <td>-77.063089</td>\n",
              "      <td>(39.15004368, -77.06308884)</td>\n",
              "    </tr>\n",
              "    <tr>\n",
              "      <th>1</th>\n",
              "      <td>MCP1307000K</td>\n",
              "      <td>190024786</td>\n",
              "      <td>Montgomery County Police</td>\n",
              "      <td>Property Damage Crash</td>\n",
              "      <td>05/24/2019 05:00:00 PM</td>\n",
              "      <td>NaN</td>\n",
              "      <td>NaN</td>\n",
              "      <td>NaN</td>\n",
              "      <td>NaN</td>\n",
              "      <td>NaN</td>\n",
              "      <td>CLEAR</td>\n",
              "      <td>NaN</td>\n",
              "      <td>DAYLIGHT</td>\n",
              "      <td>NaN</td>\n",
              "      <td>NaN</td>\n",
              "      <td>6208FA7B-5DC4-4B54-AD60-0C06DFE2AE81</td>\n",
              "      <td>Yes</td>\n",
              "      <td>NO APPARENT INJURY</td>\n",
              "      <td>NOT DISTRACTED</td>\n",
              "      <td>XX</td>\n",
              "      <td>10239493-D667-42F9-A3D2-820FE184CB6C</td>\n",
              "      <td>FUNCTIONAL</td>\n",
              "      <td>ONE OCLOCK</td>\n",
              "      <td>ONE OCLOCK</td>\n",
              "      <td>PASSENGER CAR</td>\n",
              "      <td>PARKING</td>\n",
              "      <td>Unknown</td>\n",
              "      <td>Unknown</td>\n",
              "      <td>0</td>\n",
              "      <td>No</td>\n",
              "      <td>No</td>\n",
              "      <td>0</td>\n",
              "      <td>UNK</td>\n",
              "      <td>UNK</td>\n",
              "      <td>NaN</td>\n",
              "      <td>39.199047</td>\n",
              "      <td>-77.250743</td>\n",
              "      <td>(39.19904667, -77.25074333)</td>\n",
              "    </tr>\n",
              "  </tbody>\n",
              "</table>\n",
              "</div>\n",
              "    <div class=\"colab-df-buttons\">\n",
              "\n",
              "  <div class=\"colab-df-container\">\n",
              "    <button class=\"colab-df-convert\" onclick=\"convertToInteractive('df-cd48739e-26eb-476e-8cfa-a4415e2e30f9')\"\n",
              "            title=\"Convert this dataframe to an interactive table.\"\n",
              "            style=\"display:none;\">\n",
              "\n",
              "  <svg xmlns=\"http://www.w3.org/2000/svg\" height=\"24px\" viewBox=\"0 -960 960 960\">\n",
              "    <path d=\"M120-120v-720h720v720H120Zm60-500h600v-160H180v160Zm220 220h160v-160H400v160Zm0 220h160v-160H400v160ZM180-400h160v-160H180v160Zm440 0h160v-160H620v160ZM180-180h160v-160H180v160Zm440 0h160v-160H620v160Z\"/>\n",
              "  </svg>\n",
              "    </button>\n",
              "\n",
              "  <style>\n",
              "    .colab-df-container {\n",
              "      display:flex;\n",
              "      gap: 12px;\n",
              "    }\n",
              "\n",
              "    .colab-df-convert {\n",
              "      background-color: #E8F0FE;\n",
              "      border: none;\n",
              "      border-radius: 50%;\n",
              "      cursor: pointer;\n",
              "      display: none;\n",
              "      fill: #1967D2;\n",
              "      height: 32px;\n",
              "      padding: 0 0 0 0;\n",
              "      width: 32px;\n",
              "    }\n",
              "\n",
              "    .colab-df-convert:hover {\n",
              "      background-color: #E2EBFA;\n",
              "      box-shadow: 0px 1px 2px rgba(60, 64, 67, 0.3), 0px 1px 3px 1px rgba(60, 64, 67, 0.15);\n",
              "      fill: #174EA6;\n",
              "    }\n",
              "\n",
              "    .colab-df-buttons div {\n",
              "      margin-bottom: 4px;\n",
              "    }\n",
              "\n",
              "    [theme=dark] .colab-df-convert {\n",
              "      background-color: #3B4455;\n",
              "      fill: #D2E3FC;\n",
              "    }\n",
              "\n",
              "    [theme=dark] .colab-df-convert:hover {\n",
              "      background-color: #434B5C;\n",
              "      box-shadow: 0px 1px 3px 1px rgba(0, 0, 0, 0.15);\n",
              "      filter: drop-shadow(0px 1px 2px rgba(0, 0, 0, 0.3));\n",
              "      fill: #FFFFFF;\n",
              "    }\n",
              "  </style>\n",
              "\n",
              "    <script>\n",
              "      const buttonEl =\n",
              "        document.querySelector('#df-cd48739e-26eb-476e-8cfa-a4415e2e30f9 button.colab-df-convert');\n",
              "      buttonEl.style.display =\n",
              "        google.colab.kernel.accessAllowed ? 'block' : 'none';\n",
              "\n",
              "      async function convertToInteractive(key) {\n",
              "        const element = document.querySelector('#df-cd48739e-26eb-476e-8cfa-a4415e2e30f9');\n",
              "        const dataTable =\n",
              "          await google.colab.kernel.invokeFunction('convertToInteractive',\n",
              "                                                    [key], {});\n",
              "        if (!dataTable) return;\n",
              "\n",
              "        const docLinkHtml = 'Like what you see? Visit the ' +\n",
              "          '<a target=\"_blank\" href=https://colab.research.google.com/notebooks/data_table.ipynb>data table notebook</a>'\n",
              "          + ' to learn more about interactive tables.';\n",
              "        element.innerHTML = '';\n",
              "        dataTable['output_type'] = 'display_data';\n",
              "        await google.colab.output.renderOutput(dataTable, element);\n",
              "        const docLink = document.createElement('div');\n",
              "        docLink.innerHTML = docLinkHtml;\n",
              "        element.appendChild(docLink);\n",
              "      }\n",
              "    </script>\n",
              "  </div>\n",
              "\n",
              "\n",
              "<div id=\"df-3a26ea8b-9020-49e3-ba8e-d7563607301f\">\n",
              "  <button class=\"colab-df-quickchart\" onclick=\"quickchart('df-3a26ea8b-9020-49e3-ba8e-d7563607301f')\"\n",
              "            title=\"Suggest charts.\"\n",
              "            style=\"display:none;\">\n",
              "\n",
              "<svg xmlns=\"http://www.w3.org/2000/svg\" height=\"24px\"viewBox=\"0 0 24 24\"\n",
              "     width=\"24px\">\n",
              "    <g>\n",
              "        <path d=\"M19 3H5c-1.1 0-2 .9-2 2v14c0 1.1.9 2 2 2h14c1.1 0 2-.9 2-2V5c0-1.1-.9-2-2-2zM9 17H7v-7h2v7zm4 0h-2V7h2v10zm4 0h-2v-4h2v4z\"/>\n",
              "    </g>\n",
              "</svg>\n",
              "  </button>\n",
              "\n",
              "<style>\n",
              "  .colab-df-quickchart {\n",
              "      --bg-color: #E8F0FE;\n",
              "      --fill-color: #1967D2;\n",
              "      --hover-bg-color: #E2EBFA;\n",
              "      --hover-fill-color: #174EA6;\n",
              "      --disabled-fill-color: #AAA;\n",
              "      --disabled-bg-color: #DDD;\n",
              "  }\n",
              "\n",
              "  [theme=dark] .colab-df-quickchart {\n",
              "      --bg-color: #3B4455;\n",
              "      --fill-color: #D2E3FC;\n",
              "      --hover-bg-color: #434B5C;\n",
              "      --hover-fill-color: #FFFFFF;\n",
              "      --disabled-bg-color: #3B4455;\n",
              "      --disabled-fill-color: #666;\n",
              "  }\n",
              "\n",
              "  .colab-df-quickchart {\n",
              "    background-color: var(--bg-color);\n",
              "    border: none;\n",
              "    border-radius: 50%;\n",
              "    cursor: pointer;\n",
              "    display: none;\n",
              "    fill: var(--fill-color);\n",
              "    height: 32px;\n",
              "    padding: 0;\n",
              "    width: 32px;\n",
              "  }\n",
              "\n",
              "  .colab-df-quickchart:hover {\n",
              "    background-color: var(--hover-bg-color);\n",
              "    box-shadow: 0 1px 2px rgba(60, 64, 67, 0.3), 0 1px 3px 1px rgba(60, 64, 67, 0.15);\n",
              "    fill: var(--button-hover-fill-color);\n",
              "  }\n",
              "\n",
              "  .colab-df-quickchart-complete:disabled,\n",
              "  .colab-df-quickchart-complete:disabled:hover {\n",
              "    background-color: var(--disabled-bg-color);\n",
              "    fill: var(--disabled-fill-color);\n",
              "    box-shadow: none;\n",
              "  }\n",
              "\n",
              "  .colab-df-spinner {\n",
              "    border: 2px solid var(--fill-color);\n",
              "    border-color: transparent;\n",
              "    border-bottom-color: var(--fill-color);\n",
              "    animation:\n",
              "      spin 1s steps(1) infinite;\n",
              "  }\n",
              "\n",
              "  @keyframes spin {\n",
              "    0% {\n",
              "      border-color: transparent;\n",
              "      border-bottom-color: var(--fill-color);\n",
              "      border-left-color: var(--fill-color);\n",
              "    }\n",
              "    20% {\n",
              "      border-color: transparent;\n",
              "      border-left-color: var(--fill-color);\n",
              "      border-top-color: var(--fill-color);\n",
              "    }\n",
              "    30% {\n",
              "      border-color: transparent;\n",
              "      border-left-color: var(--fill-color);\n",
              "      border-top-color: var(--fill-color);\n",
              "      border-right-color: var(--fill-color);\n",
              "    }\n",
              "    40% {\n",
              "      border-color: transparent;\n",
              "      border-right-color: var(--fill-color);\n",
              "      border-top-color: var(--fill-color);\n",
              "    }\n",
              "    60% {\n",
              "      border-color: transparent;\n",
              "      border-right-color: var(--fill-color);\n",
              "    }\n",
              "    80% {\n",
              "      border-color: transparent;\n",
              "      border-right-color: var(--fill-color);\n",
              "      border-bottom-color: var(--fill-color);\n",
              "    }\n",
              "    90% {\n",
              "      border-color: transparent;\n",
              "      border-bottom-color: var(--fill-color);\n",
              "    }\n",
              "  }\n",
              "</style>\n",
              "\n",
              "  <script>\n",
              "    async function quickchart(key) {\n",
              "      const quickchartButtonEl =\n",
              "        document.querySelector('#' + key + ' button');\n",
              "      quickchartButtonEl.disabled = true;  // To prevent multiple clicks.\n",
              "      quickchartButtonEl.classList.add('colab-df-spinner');\n",
              "      try {\n",
              "        const charts = await google.colab.kernel.invokeFunction(\n",
              "            'suggestCharts', [key], {});\n",
              "      } catch (error) {\n",
              "        console.error('Error during call to suggestCharts:', error);\n",
              "      }\n",
              "      quickchartButtonEl.classList.remove('colab-df-spinner');\n",
              "      quickchartButtonEl.classList.add('colab-df-quickchart-complete');\n",
              "    }\n",
              "    (() => {\n",
              "      let quickchartButtonEl =\n",
              "        document.querySelector('#df-3a26ea8b-9020-49e3-ba8e-d7563607301f button');\n",
              "      quickchartButtonEl.style.display =\n",
              "        google.colab.kernel.accessAllowed ? 'block' : 'none';\n",
              "    })();\n",
              "  </script>\n",
              "</div>\n",
              "    </div>\n",
              "  </div>\n"
            ]
          },
          "metadata": {},
          "execution_count": 181
        }
      ]
    },
    {
      "cell_type": "code",
      "source": [
        "df['Crash Date/Time'] = pd.to_datetime(df['Crash Date/Time'])"
      ],
      "metadata": {
        "id": "8AljAzxD8YUX"
      },
      "execution_count": 243,
      "outputs": []
    },
    {
      "cell_type": "code",
      "source": [
        "df['Weekday?'] = df['Crash Date/Time'].dt.day_name().apply(lambda x: 'weekend' if x in ['Saturday', 'Sunday'] else 'weekday')"
      ],
      "metadata": {
        "id": "yuXdflpi_BDY"
      },
      "execution_count": 244,
      "outputs": []
    },
    {
      "cell_type": "code",
      "source": [
        "df['Crash Time'] = df['Crash Date/Time'].dt.time"
      ],
      "metadata": {
        "id": "6hzMs_Hc-6pm"
      },
      "execution_count": 245,
      "outputs": []
    },
    {
      "cell_type": "code",
      "source": [
        "df['Crash Date'] = df['Crash Date/Time'].dt.date"
      ],
      "metadata": {
        "id": "iV-cZS8b-xAL"
      },
      "execution_count": 246,
      "outputs": []
    },
    {
      "cell_type": "code",
      "source": [
        "df.head(2)\n"
      ],
      "metadata": {
        "colab": {
          "base_uri": "https://localhost:8080/",
          "height": 288
        },
        "id": "tkGfDgYJ9WzC",
        "outputId": "d4721ae2-a266-47ae-8f29-638d01498739"
      },
      "execution_count": 247,
      "outputs": [
        {
          "output_type": "execute_result",
          "data": {
            "text/plain": [
              "  Report Number Local Case Number               Agency Name  \\\n",
              "0   MCP3040003N         190026050  Montgomery County Police   \n",
              "1   MCP1307000K         190024786  Montgomery County Police   \n",
              "\n",
              "        ACRS Report Type     Crash Date/Time Route Type Road Name  \\\n",
              "0  Property Damage Crash 2019-05-31 15:00:00        NaN       NaN   \n",
              "1  Property Damage Crash 2019-05-24 17:00:00        NaN       NaN   \n",
              "\n",
              "  Cross-Street Type Cross-Street Name Collision Type Weather  \\\n",
              "0               NaN               NaN          OTHER   CLEAR   \n",
              "1               NaN               NaN            NaN   CLEAR   \n",
              "\n",
              "  Surface Condition     Light Traffic Control Driver Substance Abuse  \\\n",
              "0               NaN  DAYLIGHT             NaN                UNKNOWN   \n",
              "1               NaN  DAYLIGHT             NaN                    NaN   \n",
              "\n",
              "                              Person ID Driver At Fault     Injury Severity  \\\n",
              "0  DE2A24CD-7919-4F8D-BABF-5B75CE12D21E             Yes  NO APPARENT INJURY   \n",
              "1  6208FA7B-5DC4-4B54-AD60-0C06DFE2AE81             Yes  NO APPARENT INJURY   \n",
              "\n",
              "  Driver Distracted By Drivers License State  \\\n",
              "0              UNKNOWN                   NaN   \n",
              "1       NOT DISTRACTED                    XX   \n",
              "\n",
              "                             Vehicle ID Vehicle Damage Extent  \\\n",
              "0  165AD539-A8C8-4004-AF73-B7DCAAA8B3CC           SUPERFICIAL   \n",
              "1  10239493-D667-42F9-A3D2-820FE184CB6C            FUNCTIONAL   \n",
              "\n",
              "  Vehicle First Impact Location Vehicle Second Impact Location  \\\n",
              "0                    ONE OCLOCK                     ONE OCLOCK   \n",
              "1                    ONE OCLOCK                     ONE OCLOCK   \n",
              "\n",
              "  Vehicle Body Type Vehicle Movement Vehicle Continuing Dir Vehicle Going Dir  \\\n",
              "0     PASSENGER CAR          PARKING                  North             North   \n",
              "1     PASSENGER CAR          PARKING                Unknown           Unknown   \n",
              "\n",
              "   Speed Limit Driverless Vehicle Parked Vehicle  Vehicle Year Vehicle Make  \\\n",
              "0           15                 No             No          2004        HONDA   \n",
              "1            0                 No             No             0          UNK   \n",
              "\n",
              "  Vehicle Model Equipment Problems   Latitude  Longitude  \\\n",
              "0            TK            UNKNOWN  39.150044 -77.063089   \n",
              "1           UNK                NaN  39.199047 -77.250743   \n",
              "\n",
              "                      Location Weekday? Crash Time  Crash Date  \n",
              "0  (39.15004368, -77.06308884)  weekday   15:00:00  2019-05-31  \n",
              "1  (39.19904667, -77.25074333)  weekday   17:00:00  2019-05-24  "
            ],
            "text/html": [
              "\n",
              "  <div id=\"df-b1b48aa9-55d5-410d-ba1f-d9cf7fbe74c9\" class=\"colab-df-container\">\n",
              "    <div>\n",
              "<style scoped>\n",
              "    .dataframe tbody tr th:only-of-type {\n",
              "        vertical-align: middle;\n",
              "    }\n",
              "\n",
              "    .dataframe tbody tr th {\n",
              "        vertical-align: top;\n",
              "    }\n",
              "\n",
              "    .dataframe thead th {\n",
              "        text-align: right;\n",
              "    }\n",
              "</style>\n",
              "<table border=\"1\" class=\"dataframe\">\n",
              "  <thead>\n",
              "    <tr style=\"text-align: right;\">\n",
              "      <th></th>\n",
              "      <th>Report Number</th>\n",
              "      <th>Local Case Number</th>\n",
              "      <th>Agency Name</th>\n",
              "      <th>ACRS Report Type</th>\n",
              "      <th>Crash Date/Time</th>\n",
              "      <th>Route Type</th>\n",
              "      <th>Road Name</th>\n",
              "      <th>Cross-Street Type</th>\n",
              "      <th>Cross-Street Name</th>\n",
              "      <th>Collision Type</th>\n",
              "      <th>Weather</th>\n",
              "      <th>Surface Condition</th>\n",
              "      <th>Light</th>\n",
              "      <th>Traffic Control</th>\n",
              "      <th>Driver Substance Abuse</th>\n",
              "      <th>Person ID</th>\n",
              "      <th>Driver At Fault</th>\n",
              "      <th>Injury Severity</th>\n",
              "      <th>Driver Distracted By</th>\n",
              "      <th>Drivers License State</th>\n",
              "      <th>Vehicle ID</th>\n",
              "      <th>Vehicle Damage Extent</th>\n",
              "      <th>Vehicle First Impact Location</th>\n",
              "      <th>Vehicle Second Impact Location</th>\n",
              "      <th>Vehicle Body Type</th>\n",
              "      <th>Vehicle Movement</th>\n",
              "      <th>Vehicle Continuing Dir</th>\n",
              "      <th>Vehicle Going Dir</th>\n",
              "      <th>Speed Limit</th>\n",
              "      <th>Driverless Vehicle</th>\n",
              "      <th>Parked Vehicle</th>\n",
              "      <th>Vehicle Year</th>\n",
              "      <th>Vehicle Make</th>\n",
              "      <th>Vehicle Model</th>\n",
              "      <th>Equipment Problems</th>\n",
              "      <th>Latitude</th>\n",
              "      <th>Longitude</th>\n",
              "      <th>Location</th>\n",
              "      <th>Weekday?</th>\n",
              "      <th>Crash Time</th>\n",
              "      <th>Crash Date</th>\n",
              "    </tr>\n",
              "  </thead>\n",
              "  <tbody>\n",
              "    <tr>\n",
              "      <th>0</th>\n",
              "      <td>MCP3040003N</td>\n",
              "      <td>190026050</td>\n",
              "      <td>Montgomery County Police</td>\n",
              "      <td>Property Damage Crash</td>\n",
              "      <td>2019-05-31 15:00:00</td>\n",
              "      <td>NaN</td>\n",
              "      <td>NaN</td>\n",
              "      <td>NaN</td>\n",
              "      <td>NaN</td>\n",
              "      <td>OTHER</td>\n",
              "      <td>CLEAR</td>\n",
              "      <td>NaN</td>\n",
              "      <td>DAYLIGHT</td>\n",
              "      <td>NaN</td>\n",
              "      <td>UNKNOWN</td>\n",
              "      <td>DE2A24CD-7919-4F8D-BABF-5B75CE12D21E</td>\n",
              "      <td>Yes</td>\n",
              "      <td>NO APPARENT INJURY</td>\n",
              "      <td>UNKNOWN</td>\n",
              "      <td>NaN</td>\n",
              "      <td>165AD539-A8C8-4004-AF73-B7DCAAA8B3CC</td>\n",
              "      <td>SUPERFICIAL</td>\n",
              "      <td>ONE OCLOCK</td>\n",
              "      <td>ONE OCLOCK</td>\n",
              "      <td>PASSENGER CAR</td>\n",
              "      <td>PARKING</td>\n",
              "      <td>North</td>\n",
              "      <td>North</td>\n",
              "      <td>15</td>\n",
              "      <td>No</td>\n",
              "      <td>No</td>\n",
              "      <td>2004</td>\n",
              "      <td>HONDA</td>\n",
              "      <td>TK</td>\n",
              "      <td>UNKNOWN</td>\n",
              "      <td>39.150044</td>\n",
              "      <td>-77.063089</td>\n",
              "      <td>(39.15004368, -77.06308884)</td>\n",
              "      <td>weekday</td>\n",
              "      <td>15:00:00</td>\n",
              "      <td>2019-05-31</td>\n",
              "    </tr>\n",
              "    <tr>\n",
              "      <th>1</th>\n",
              "      <td>MCP1307000K</td>\n",
              "      <td>190024786</td>\n",
              "      <td>Montgomery County Police</td>\n",
              "      <td>Property Damage Crash</td>\n",
              "      <td>2019-05-24 17:00:00</td>\n",
              "      <td>NaN</td>\n",
              "      <td>NaN</td>\n",
              "      <td>NaN</td>\n",
              "      <td>NaN</td>\n",
              "      <td>NaN</td>\n",
              "      <td>CLEAR</td>\n",
              "      <td>NaN</td>\n",
              "      <td>DAYLIGHT</td>\n",
              "      <td>NaN</td>\n",
              "      <td>NaN</td>\n",
              "      <td>6208FA7B-5DC4-4B54-AD60-0C06DFE2AE81</td>\n",
              "      <td>Yes</td>\n",
              "      <td>NO APPARENT INJURY</td>\n",
              "      <td>NOT DISTRACTED</td>\n",
              "      <td>XX</td>\n",
              "      <td>10239493-D667-42F9-A3D2-820FE184CB6C</td>\n",
              "      <td>FUNCTIONAL</td>\n",
              "      <td>ONE OCLOCK</td>\n",
              "      <td>ONE OCLOCK</td>\n",
              "      <td>PASSENGER CAR</td>\n",
              "      <td>PARKING</td>\n",
              "      <td>Unknown</td>\n",
              "      <td>Unknown</td>\n",
              "      <td>0</td>\n",
              "      <td>No</td>\n",
              "      <td>No</td>\n",
              "      <td>0</td>\n",
              "      <td>UNK</td>\n",
              "      <td>UNK</td>\n",
              "      <td>NaN</td>\n",
              "      <td>39.199047</td>\n",
              "      <td>-77.250743</td>\n",
              "      <td>(39.19904667, -77.25074333)</td>\n",
              "      <td>weekday</td>\n",
              "      <td>17:00:00</td>\n",
              "      <td>2019-05-24</td>\n",
              "    </tr>\n",
              "  </tbody>\n",
              "</table>\n",
              "</div>\n",
              "    <div class=\"colab-df-buttons\">\n",
              "\n",
              "  <div class=\"colab-df-container\">\n",
              "    <button class=\"colab-df-convert\" onclick=\"convertToInteractive('df-b1b48aa9-55d5-410d-ba1f-d9cf7fbe74c9')\"\n",
              "            title=\"Convert this dataframe to an interactive table.\"\n",
              "            style=\"display:none;\">\n",
              "\n",
              "  <svg xmlns=\"http://www.w3.org/2000/svg\" height=\"24px\" viewBox=\"0 -960 960 960\">\n",
              "    <path d=\"M120-120v-720h720v720H120Zm60-500h600v-160H180v160Zm220 220h160v-160H400v160Zm0 220h160v-160H400v160ZM180-400h160v-160H180v160Zm440 0h160v-160H620v160ZM180-180h160v-160H180v160Zm440 0h160v-160H620v160Z\"/>\n",
              "  </svg>\n",
              "    </button>\n",
              "\n",
              "  <style>\n",
              "    .colab-df-container {\n",
              "      display:flex;\n",
              "      gap: 12px;\n",
              "    }\n",
              "\n",
              "    .colab-df-convert {\n",
              "      background-color: #E8F0FE;\n",
              "      border: none;\n",
              "      border-radius: 50%;\n",
              "      cursor: pointer;\n",
              "      display: none;\n",
              "      fill: #1967D2;\n",
              "      height: 32px;\n",
              "      padding: 0 0 0 0;\n",
              "      width: 32px;\n",
              "    }\n",
              "\n",
              "    .colab-df-convert:hover {\n",
              "      background-color: #E2EBFA;\n",
              "      box-shadow: 0px 1px 2px rgba(60, 64, 67, 0.3), 0px 1px 3px 1px rgba(60, 64, 67, 0.15);\n",
              "      fill: #174EA6;\n",
              "    }\n",
              "\n",
              "    .colab-df-buttons div {\n",
              "      margin-bottom: 4px;\n",
              "    }\n",
              "\n",
              "    [theme=dark] .colab-df-convert {\n",
              "      background-color: #3B4455;\n",
              "      fill: #D2E3FC;\n",
              "    }\n",
              "\n",
              "    [theme=dark] .colab-df-convert:hover {\n",
              "      background-color: #434B5C;\n",
              "      box-shadow: 0px 1px 3px 1px rgba(0, 0, 0, 0.15);\n",
              "      filter: drop-shadow(0px 1px 2px rgba(0, 0, 0, 0.3));\n",
              "      fill: #FFFFFF;\n",
              "    }\n",
              "  </style>\n",
              "\n",
              "    <script>\n",
              "      const buttonEl =\n",
              "        document.querySelector('#df-b1b48aa9-55d5-410d-ba1f-d9cf7fbe74c9 button.colab-df-convert');\n",
              "      buttonEl.style.display =\n",
              "        google.colab.kernel.accessAllowed ? 'block' : 'none';\n",
              "\n",
              "      async function convertToInteractive(key) {\n",
              "        const element = document.querySelector('#df-b1b48aa9-55d5-410d-ba1f-d9cf7fbe74c9');\n",
              "        const dataTable =\n",
              "          await google.colab.kernel.invokeFunction('convertToInteractive',\n",
              "                                                    [key], {});\n",
              "        if (!dataTable) return;\n",
              "\n",
              "        const docLinkHtml = 'Like what you see? Visit the ' +\n",
              "          '<a target=\"_blank\" href=https://colab.research.google.com/notebooks/data_table.ipynb>data table notebook</a>'\n",
              "          + ' to learn more about interactive tables.';\n",
              "        element.innerHTML = '';\n",
              "        dataTable['output_type'] = 'display_data';\n",
              "        await google.colab.output.renderOutput(dataTable, element);\n",
              "        const docLink = document.createElement('div');\n",
              "        docLink.innerHTML = docLinkHtml;\n",
              "        element.appendChild(docLink);\n",
              "      }\n",
              "    </script>\n",
              "  </div>\n",
              "\n",
              "\n",
              "<div id=\"df-be744027-2fe5-4f81-9f63-c20f56c9bd1e\">\n",
              "  <button class=\"colab-df-quickchart\" onclick=\"quickchart('df-be744027-2fe5-4f81-9f63-c20f56c9bd1e')\"\n",
              "            title=\"Suggest charts.\"\n",
              "            style=\"display:none;\">\n",
              "\n",
              "<svg xmlns=\"http://www.w3.org/2000/svg\" height=\"24px\"viewBox=\"0 0 24 24\"\n",
              "     width=\"24px\">\n",
              "    <g>\n",
              "        <path d=\"M19 3H5c-1.1 0-2 .9-2 2v14c0 1.1.9 2 2 2h14c1.1 0 2-.9 2-2V5c0-1.1-.9-2-2-2zM9 17H7v-7h2v7zm4 0h-2V7h2v10zm4 0h-2v-4h2v4z\"/>\n",
              "    </g>\n",
              "</svg>\n",
              "  </button>\n",
              "\n",
              "<style>\n",
              "  .colab-df-quickchart {\n",
              "      --bg-color: #E8F0FE;\n",
              "      --fill-color: #1967D2;\n",
              "      --hover-bg-color: #E2EBFA;\n",
              "      --hover-fill-color: #174EA6;\n",
              "      --disabled-fill-color: #AAA;\n",
              "      --disabled-bg-color: #DDD;\n",
              "  }\n",
              "\n",
              "  [theme=dark] .colab-df-quickchart {\n",
              "      --bg-color: #3B4455;\n",
              "      --fill-color: #D2E3FC;\n",
              "      --hover-bg-color: #434B5C;\n",
              "      --hover-fill-color: #FFFFFF;\n",
              "      --disabled-bg-color: #3B4455;\n",
              "      --disabled-fill-color: #666;\n",
              "  }\n",
              "\n",
              "  .colab-df-quickchart {\n",
              "    background-color: var(--bg-color);\n",
              "    border: none;\n",
              "    border-radius: 50%;\n",
              "    cursor: pointer;\n",
              "    display: none;\n",
              "    fill: var(--fill-color);\n",
              "    height: 32px;\n",
              "    padding: 0;\n",
              "    width: 32px;\n",
              "  }\n",
              "\n",
              "  .colab-df-quickchart:hover {\n",
              "    background-color: var(--hover-bg-color);\n",
              "    box-shadow: 0 1px 2px rgba(60, 64, 67, 0.3), 0 1px 3px 1px rgba(60, 64, 67, 0.15);\n",
              "    fill: var(--button-hover-fill-color);\n",
              "  }\n",
              "\n",
              "  .colab-df-quickchart-complete:disabled,\n",
              "  .colab-df-quickchart-complete:disabled:hover {\n",
              "    background-color: var(--disabled-bg-color);\n",
              "    fill: var(--disabled-fill-color);\n",
              "    box-shadow: none;\n",
              "  }\n",
              "\n",
              "  .colab-df-spinner {\n",
              "    border: 2px solid var(--fill-color);\n",
              "    border-color: transparent;\n",
              "    border-bottom-color: var(--fill-color);\n",
              "    animation:\n",
              "      spin 1s steps(1) infinite;\n",
              "  }\n",
              "\n",
              "  @keyframes spin {\n",
              "    0% {\n",
              "      border-color: transparent;\n",
              "      border-bottom-color: var(--fill-color);\n",
              "      border-left-color: var(--fill-color);\n",
              "    }\n",
              "    20% {\n",
              "      border-color: transparent;\n",
              "      border-left-color: var(--fill-color);\n",
              "      border-top-color: var(--fill-color);\n",
              "    }\n",
              "    30% {\n",
              "      border-color: transparent;\n",
              "      border-left-color: var(--fill-color);\n",
              "      border-top-color: var(--fill-color);\n",
              "      border-right-color: var(--fill-color);\n",
              "    }\n",
              "    40% {\n",
              "      border-color: transparent;\n",
              "      border-right-color: var(--fill-color);\n",
              "      border-top-color: var(--fill-color);\n",
              "    }\n",
              "    60% {\n",
              "      border-color: transparent;\n",
              "      border-right-color: var(--fill-color);\n",
              "    }\n",
              "    80% {\n",
              "      border-color: transparent;\n",
              "      border-right-color: var(--fill-color);\n",
              "      border-bottom-color: var(--fill-color);\n",
              "    }\n",
              "    90% {\n",
              "      border-color: transparent;\n",
              "      border-bottom-color: var(--fill-color);\n",
              "    }\n",
              "  }\n",
              "</style>\n",
              "\n",
              "  <script>\n",
              "    async function quickchart(key) {\n",
              "      const quickchartButtonEl =\n",
              "        document.querySelector('#' + key + ' button');\n",
              "      quickchartButtonEl.disabled = true;  // To prevent multiple clicks.\n",
              "      quickchartButtonEl.classList.add('colab-df-spinner');\n",
              "      try {\n",
              "        const charts = await google.colab.kernel.invokeFunction(\n",
              "            'suggestCharts', [key], {});\n",
              "      } catch (error) {\n",
              "        console.error('Error during call to suggestCharts:', error);\n",
              "      }\n",
              "      quickchartButtonEl.classList.remove('colab-df-spinner');\n",
              "      quickchartButtonEl.classList.add('colab-df-quickchart-complete');\n",
              "    }\n",
              "    (() => {\n",
              "      let quickchartButtonEl =\n",
              "        document.querySelector('#df-be744027-2fe5-4f81-9f63-c20f56c9bd1e button');\n",
              "      quickchartButtonEl.style.display =\n",
              "        google.colab.kernel.accessAllowed ? 'block' : 'none';\n",
              "    })();\n",
              "  </script>\n",
              "</div>\n",
              "    </div>\n",
              "  </div>\n"
            ]
          },
          "metadata": {},
          "execution_count": 247
        }
      ]
    },
    {
      "cell_type": "code",
      "source": [
        "df.drop('Crash Date/Time', axis=1, inplace=True)"
      ],
      "metadata": {
        "id": "bNsRxvo09bzy"
      },
      "execution_count": 248,
      "outputs": []
    },
    {
      "cell_type": "code",
      "source": [
        "df.info()"
      ],
      "metadata": {
        "colab": {
          "base_uri": "https://localhost:8080/"
        },
        "id": "jUNXn-vvBi5S",
        "outputId": "0229ad86-55b2-4a5f-d138-c82449273993"
      },
      "execution_count": 188,
      "outputs": [
        {
          "output_type": "stream",
          "name": "stdout",
          "text": [
            "<class 'pandas.core.frame.DataFrame'>\n",
            "Int64Index: 161260 entries, 0 to 166536\n",
            "Data columns (total 40 columns):\n",
            " #   Column                          Non-Null Count   Dtype  \n",
            "---  ------                          --------------   -----  \n",
            " 0   Report Number                   161260 non-null  object \n",
            " 1   Local Case Number               161260 non-null  object \n",
            " 2   Agency Name                     161260 non-null  object \n",
            " 3   ACRS Report Type                161260 non-null  object \n",
            " 4   Route Type                      146016 non-null  object \n",
            " 5   Road Name                       146916 non-null  object \n",
            " 6   Cross-Street Type               145986 non-null  object \n",
            " 7   Cross-Street Name               146906 non-null  object \n",
            " 8   Collision Type                  160859 non-null  object \n",
            " 9   Weather                         148755 non-null  object \n",
            " 10  Surface Condition               142995 non-null  object \n",
            " 11  Light                           159923 non-null  object \n",
            " 12  Traffic Control                 137232 non-null  object \n",
            " 13  Driver Substance Abuse          131863 non-null  object \n",
            " 14  Person ID                       161260 non-null  object \n",
            " 15  Driver At Fault                 161260 non-null  object \n",
            " 16  Injury Severity                 161260 non-null  object \n",
            " 17  Driver Distracted By            161260 non-null  object \n",
            " 18  Drivers License State           152320 non-null  object \n",
            " 19  Vehicle ID                      161260 non-null  object \n",
            " 20  Vehicle Damage Extent           160995 non-null  object \n",
            " 21  Vehicle First Impact Location   161116 non-null  object \n",
            " 22  Vehicle Second Impact Location  161019 non-null  object \n",
            " 23  Vehicle Body Type               159058 non-null  object \n",
            " 24  Vehicle Movement                160909 non-null  object \n",
            " 25  Vehicle Continuing Dir          158711 non-null  object \n",
            " 26  Vehicle Going Dir               158711 non-null  object \n",
            " 27  Speed Limit                     161260 non-null  int64  \n",
            " 28  Driverless Vehicle              161260 non-null  object \n",
            " 29  Parked Vehicle                  161260 non-null  object \n",
            " 30  Vehicle Year                    161260 non-null  int64  \n",
            " 31  Vehicle Make                    161239 non-null  object \n",
            " 32  Vehicle Model                   161197 non-null  object \n",
            " 33  Equipment Problems              128980 non-null  object \n",
            " 34  Latitude                        161260 non-null  float64\n",
            " 35  Longitude                       161260 non-null  float64\n",
            " 36  Location                        161260 non-null  object \n",
            " 37  Weekday?                        161260 non-null  object \n",
            " 38  Crash Time                      161260 non-null  object \n",
            " 39  Crash Date                      161260 non-null  object \n",
            "dtypes: float64(2), int64(2), object(36)\n",
            "memory usage: 50.4+ MB\n"
          ]
        }
      ]
    },
    {
      "cell_type": "code",
      "source": [
        "df.groupby('Collision Type').size() #Collision Type has 0.25 % Missing Value"
      ],
      "metadata": {
        "colab": {
          "base_uri": "https://localhost:8080/"
        },
        "id": "9FE4IwDlAL9D",
        "outputId": "31cc5d7d-7e77-443c-ded4-5625a45a8200"
      },
      "execution_count": 249,
      "outputs": [
        {
          "output_type": "execute_result",
          "data": {
            "text/plain": [
              "Collision Type\n",
              "ANGLE MEETS LEFT HEAD ON          683\n",
              "ANGLE MEETS LEFT TURN            1932\n",
              "ANGLE MEETS RIGHT TURN           1154\n",
              "HEAD ON                          3592\n",
              "HEAD ON LEFT TURN               12373\n",
              "OPPOSITE DIR BOTH LEFT TURN       306\n",
              "OPPOSITE DIRECTION SIDESWIPE     2770\n",
              "OTHER                           16157\n",
              "SAME DIR BOTH LEFT TURN           690\n",
              "SAME DIR REAR END               53937\n",
              "SAME DIR REND LEFT TURN           711\n",
              "SAME DIR REND RIGHT TURN          708\n",
              "SAME DIRECTION LEFT TURN         3563\n",
              "SAME DIRECTION RIGHT TURN        3654\n",
              "SAME DIRECTION SIDESWIPE        15562\n",
              "SINGLE VEHICLE                  13746\n",
              "STRAIGHT MOVEMENT ANGLE         28632\n",
              "UNKNOWN                           689\n",
              "dtype: int64"
            ]
          },
          "metadata": {},
          "execution_count": 249
        }
      ]
    },
    {
      "cell_type": "code",
      "source": [
        "df['Collision Type'].isnull().sum()"
      ],
      "metadata": {
        "colab": {
          "base_uri": "https://localhost:8080/"
        },
        "id": "i69vEsFgdvAu",
        "outputId": "52123f8a-4331-4deb-908b-43bde4f0f766"
      },
      "execution_count": 270,
      "outputs": [
        {
          "output_type": "execute_result",
          "data": {
            "text/plain": [
              "401"
            ]
          },
          "metadata": {},
          "execution_count": 270
        }
      ]
    },
    {
      "cell_type": "code",
      "source": [
        "df['Collision Type'].fillna('UNKNOWN', inplace=True)"
      ],
      "metadata": {
        "id": "CWv9y0WAd1T6"
      },
      "execution_count": 271,
      "outputs": []
    },
    {
      "cell_type": "code",
      "source": [
        "df.groupby('Injury Severity').size() #Has 0 missing value"
      ],
      "metadata": {
        "colab": {
          "base_uri": "https://localhost:8080/"
        },
        "id": "kTYTk0RFApJq",
        "outputId": "50481c4d-3562-48e6-815d-85414a523da4"
      },
      "execution_count": 250,
      "outputs": [
        {
          "output_type": "execute_result",
          "data": {
            "text/plain": [
              "Injury Severity\n",
              "FATAL INJURY                   150\n",
              "NO APPARENT INJURY          131459\n",
              "POSSIBLE INJURY              16818\n",
              "SUSPECTED MINOR INJURY       11471\n",
              "SUSPECTED SERIOUS INJURY      1362\n",
              "dtype: int64"
            ]
          },
          "metadata": {},
          "execution_count": 250
        }
      ]
    },
    {
      "cell_type": "code",
      "source": [
        "df.groupby('Driver Distracted By').size()"
      ],
      "metadata": {
        "colab": {
          "base_uri": "https://localhost:8080/"
        },
        "id": "H3x-S63qCPIt",
        "outputId": "24bd6c2d-824a-4303-8a62-f81867f72925"
      },
      "execution_count": 251,
      "outputs": [
        {
          "output_type": "execute_result",
          "data": {
            "text/plain": [
              "Driver Distracted By\n",
              "ADJUSTING AUDIO AND OR CLIMATE CONTROLS                 127\n",
              "BY MOVING OBJECT IN VEHICLE                             202\n",
              "BY OTHER OCCUPANTS                                      388\n",
              "DIALING CELLULAR PHONE                                   44\n",
              "DISTRACTED BY OUTSIDE PERSON OBJECT OR EVENT            892\n",
              "EATING OR DRINKING                                      192\n",
              "INATTENTIVE OR LOST IN THOUGHT                         4070\n",
              "LOOKED BUT DID NOT SEE                                19150\n",
              "NO DRIVER PRESENT                                       256\n",
              "NOT DISTRACTED                                       101395\n",
              "OTHER CELLULAR PHONE RELATED                            351\n",
              "OTHER DISTRACTION                                      3044\n",
              "OTHER ELECTRONIC DEVICE (NAVIGATIONAL PALM PILOT)       316\n",
              "SMOKING RELATED                                          25\n",
              "TALKING OR LISTENING TO CELLULAR PHONE                  260\n",
              "TEXTING FROM A CELLULAR PHONE                            64\n",
              "UNKNOWN                                               30336\n",
              "USING DEVICE OBJECT BROUGHT INTO VEHICLE                 59\n",
              "USING OTHER DEVICE CONTROLS INTEGRAL TO VEHICLE          89\n",
              "dtype: int64"
            ]
          },
          "metadata": {},
          "execution_count": 251
        }
      ]
    },
    {
      "cell_type": "code",
      "source": [
        "def regroup_distracted_by(value):\n",
        "    phone_related = [\"DIALING CELLULAR PHONE\", \"OTHER CELLULAR PHONE RELATED\",\n",
        "                     \"TALKING OR LISTENING TO CELLULAR PHONE\", \"TEXTING FROM A CELLULAR PHONE\"]\n",
        "\n",
        "    in_vehicle_distractions = [\"ADJUSTING AUDIO AND OR CLIMATE CONTROLS\", \"BY MOVING OBJECT IN VEHICLE\",\n",
        "                               \"BY OTHER OCCUPANTS\", \"EATING OR DRINKING\", \"OTHER ELECTRONIC DEVICE (NAVIGATIONAL PALM PILOT)\",\n",
        "                               \"SMOKING RELATED\", \"USING DEVICE OBJECT BROUGHT INTO VEHICLE\",\n",
        "                               \"USING OTHER DEVICE CONTROLS INTEGRAL TO VEHICLE\"]\n",
        "\n",
        "    external_distractions = [\"DISTRACTED BY OUTSIDE PERSON OBJECT OR EVENT\", \"LOOKED BUT DID NOT SEE\"]\n",
        "\n",
        "    mental_distractions = [\"INATTENTIVE OR LOST IN THOUGHT\"]\n",
        "\n",
        "    if value in phone_related:\n",
        "        return \"Phone Distractions\"\n",
        "    elif value in in_vehicle_distractions:\n",
        "        return \"In-vehicle Distractions\"\n",
        "    elif value in external_distractions:\n",
        "        return \"External Distractions\"\n",
        "    elif value in mental_distractions:\n",
        "        return \"Mental Distractions\"\n",
        "    elif value == \"NOT DISTRACTED\":\n",
        "        return \"NOT DISTRACTED\"\n",
        "    elif value == \"NO DRIVER PRESENT\":\n",
        "        return \"NO DRIVER PRESENT\"\n",
        "    else:\n",
        "        return \"Others\"\n",
        "\n",
        "df['Driver Distracted Group'] = df['Driver Distracted By'].apply(regroup_distracted_by)\n"
      ],
      "metadata": {
        "id": "T5Z5PYn1HUAy"
      },
      "execution_count": 252,
      "outputs": []
    },
    {
      "cell_type": "code",
      "source": [
        "df.groupby('Driver Distracted Group').size()"
      ],
      "metadata": {
        "colab": {
          "base_uri": "https://localhost:8080/"
        },
        "id": "PAMyUBNuHxvR",
        "outputId": "0c099a9a-fd81-4b0b-ce67-ef9742505f2f"
      },
      "execution_count": 253,
      "outputs": [
        {
          "output_type": "execute_result",
          "data": {
            "text/plain": [
              "Driver Distracted Group\n",
              "External Distractions       20042\n",
              "In-vehicle Distractions      1398\n",
              "Mental Distractions          4070\n",
              "NO DRIVER PRESENT             256\n",
              "NOT DISTRACTED             101395\n",
              "Others                      33380\n",
              "Phone Distractions            719\n",
              "dtype: int64"
            ]
          },
          "metadata": {},
          "execution_count": 253
        }
      ]
    },
    {
      "cell_type": "code",
      "source": [
        "df.groupby('Route Type').size() # Route Type has 9.45% Missing Value"
      ],
      "metadata": {
        "colab": {
          "base_uri": "https://localhost:8080/"
        },
        "id": "G6aquJ3DDQlX",
        "outputId": "9491160b-1e5c-4bd9-9e0f-aa73870f0860"
      },
      "execution_count": 254,
      "outputs": [
        {
          "output_type": "execute_result",
          "data": {
            "text/plain": [
              "Route Type\n",
              "County                  51851\n",
              "Government                578\n",
              "Interstate (State)       3055\n",
              "Maryland (State)        73082\n",
              "Municipality             8644\n",
              "Other Public Roadway     1049\n",
              "Ramp                      545\n",
              "Service Road               39\n",
              "US (State)               7153\n",
              "Unknown                    20\n",
              "dtype: int64"
            ]
          },
          "metadata": {},
          "execution_count": 254
        }
      ]
    },
    {
      "cell_type": "code",
      "source": [
        " df.groupby('Driver Substance Abuse').size()"
      ],
      "metadata": {
        "colab": {
          "base_uri": "https://localhost:8080/"
        },
        "id": "hu1zq1NdDizP",
        "outputId": "452d4d1d-e1b7-40c1-9164-f985a39b5949"
      },
      "execution_count": 255,
      "outputs": [
        {
          "output_type": "execute_result",
          "data": {
            "text/plain": [
              "Driver Substance Abuse\n",
              "ALCOHOL CONTRIBUTED             1384\n",
              "ALCOHOL PRESENT                 3925\n",
              "COMBINATION CONTRIBUTED           45\n",
              "COMBINED SUBSTANCE PRESENT        87\n",
              "ILLEGAL DRUG CONTRIBUTED          96\n",
              "ILLEGAL DRUG PRESENT             249\n",
              "MEDICATION CONTRIBUTED            62\n",
              "MEDICATION PRESENT               112\n",
              "NONE DETECTED                 114957\n",
              "OTHER                             57\n",
              "UNKNOWN                        10889\n",
              "dtype: int64"
            ]
          },
          "metadata": {},
          "execution_count": 255
        }
      ]
    },
    {
      "cell_type": "code",
      "source": [
        "def regroup_substance_abuse(value):\n",
        "    alcohol_related = [\"ALCOHOL CONTRIBUTED\", \"ALCOHOL PRESENT\"]\n",
        "\n",
        "    illigal_drug_related = [\"ILLEGAL DRUG CONTRIBUTED\", \"ILLEGAL DRUG PRESENT\"]\n",
        "\n",
        "    medical_drugs  =  [\"MEDICATION CONTRIBUTED\", \"MEDICATION PRESENT\"]\n",
        "\n",
        "    combined_substance = [\"COMBINATION CONTRIBUTED\", \"COMBINED SUBSTANCE PRESENT\"]\n",
        "\n",
        "    if value in alcohol_related:\n",
        "        return \"Alcohol\"\n",
        "    elif value in illigal_drug_related:\n",
        "        return \"Drugs\"\n",
        "    elif value in medical_drugs:\n",
        "        return \"Medication\"\n",
        "    elif value in combined_substance:\n",
        "        return \"Combined Substance\"\n",
        "    elif value == \"NONE DETECTED\":\n",
        "        return \"None Detected\"\n",
        "    elif value == \"OTHER\":\n",
        "        return \"Other\"\n",
        "    elif value == \"UNKNOWN\":\n",
        "      return \"Unknown\"\n",
        "df['Driver Substance Abuse'] = df['Driver Substance Abuse'].apply(regroup_substance_abuse)\n"
      ],
      "metadata": {
        "id": "4kJZMpCAJO2I"
      },
      "execution_count": 257,
      "outputs": []
    },
    {
      "cell_type": "code",
      "source": [
        "df.groupby('Driver Substance Abuse').size()"
      ],
      "metadata": {
        "colab": {
          "base_uri": "https://localhost:8080/"
        },
        "id": "tUDBjYgVJavq",
        "outputId": "1d5ea303-fdc5-4996-c511-46a004adf2a4"
      },
      "execution_count": 258,
      "outputs": [
        {
          "output_type": "execute_result",
          "data": {
            "text/plain": [
              "Driver Substance Abuse\n",
              "Alcohol                 5309\n",
              "Combined Substance       132\n",
              "Drugs                    345\n",
              "Medication               174\n",
              "None Detected         114957\n",
              "Other                     57\n",
              "Unknown                10889\n",
              "dtype: int64"
            ]
          },
          "metadata": {},
          "execution_count": 258
        }
      ]
    },
    {
      "cell_type": "code",
      "source": [
        "df['Driver Substance Abuse'].isnull().sum()"
      ],
      "metadata": {
        "colab": {
          "base_uri": "https://localhost:8080/"
        },
        "id": "ZTjdZxHpMmqe",
        "outputId": "09e07a59-07f3-4f18-9f54-1f553a07ac6e"
      },
      "execution_count": 259,
      "outputs": [
        {
          "output_type": "execute_result",
          "data": {
            "text/plain": [
              "29397"
            ]
          },
          "metadata": {},
          "execution_count": 259
        }
      ]
    },
    {
      "cell_type": "code",
      "source": [
        "df['Driver Substance Abuse'].fillna('Unknown', inplace=True)"
      ],
      "metadata": {
        "id": "47LqhtszM1AU"
      },
      "execution_count": 260,
      "outputs": []
    },
    {
      "cell_type": "code",
      "source": [
        "df.groupby('Equipment Problems').size()"
      ],
      "metadata": {
        "colab": {
          "base_uri": "https://localhost:8080/"
        },
        "id": "GcgYyTXaK-Dn",
        "outputId": "0dccc530-d621-4aa3-b4f7-48c32552a37e"
      },
      "execution_count": 261,
      "outputs": [
        {
          "output_type": "execute_result",
          "data": {
            "text/plain": [
              "Equipment Problems\n",
              "AIR BAG FAILED            164\n",
              "BELT(S) MISUSED            31\n",
              "BELTS/ANCHORS BROKE        11\n",
              "FACING WRONG WAY            5\n",
              "NO MISUSE              115743\n",
              "NOT STREPPED RIGHT          3\n",
              "OTHER                     108\n",
              "SIZE/TYPE IMPROPER          2\n",
              "STRAP/TETHER LOOSE          8\n",
              "UNKNOWN                 12905\n",
              "dtype: int64"
            ]
          },
          "metadata": {},
          "execution_count": 261
        }
      ]
    },
    {
      "cell_type": "code",
      "source": [
        "df['Equipment Problems'].isnull().sum()"
      ],
      "metadata": {
        "colab": {
          "base_uri": "https://localhost:8080/"
        },
        "id": "HkQsgsXOLMvr",
        "outputId": "bc77d4e0-1d11-482d-c019-6ba99d919ecd"
      },
      "execution_count": 262,
      "outputs": [
        {
          "output_type": "execute_result",
          "data": {
            "text/plain": [
              "32280"
            ]
          },
          "metadata": {},
          "execution_count": 262
        }
      ]
    },
    {
      "cell_type": "code",
      "source": [
        "df['Equipment Problems'].fillna('UNKNOWN', inplace=True)"
      ],
      "metadata": {
        "id": "GSStG5WWLt5j"
      },
      "execution_count": 263,
      "outputs": []
    },
    {
      "cell_type": "code",
      "source": [
        "df.groupby('Driver At Fault').size()"
      ],
      "metadata": {
        "colab": {
          "base_uri": "https://localhost:8080/"
        },
        "id": "ZIZNW2k4daZD",
        "outputId": "9aeab378-f66b-4e5f-c4c4-30d459d5f2f0"
      },
      "execution_count": 267,
      "outputs": [
        {
          "output_type": "execute_result",
          "data": {
            "text/plain": [
              "Driver At Fault\n",
              "No         71101\n",
              "Unknown     4088\n",
              "Yes        86071\n",
              "dtype: int64"
            ]
          },
          "metadata": {},
          "execution_count": 267
        }
      ]
    },
    {
      "cell_type": "code",
      "source": [
        "df['Driver At Fault'].isnull().sum()"
      ],
      "metadata": {
        "colab": {
          "base_uri": "https://localhost:8080/"
        },
        "id": "OjNLMFb4dgcy",
        "outputId": "4a63ce99-43d3-42df-b1cb-2f9c2e106649"
      },
      "execution_count": 268,
      "outputs": [
        {
          "output_type": "execute_result",
          "data": {
            "text/plain": [
              "0"
            ]
          },
          "metadata": {},
          "execution_count": 268
        }
      ]
    },
    {
      "cell_type": "code",
      "source": [
        "df.head(2)"
      ],
      "metadata": {
        "colab": {
          "base_uri": "https://localhost:8080/",
          "height": 288
        },
        "id": "ksklJXpNMiGz",
        "outputId": "66cee6d8-def6-4090-e324-e6726f0c7415"
      },
      "execution_count": 266,
      "outputs": [
        {
          "output_type": "execute_result",
          "data": {
            "text/plain": [
              "  Report Number Local Case Number               Agency Name  \\\n",
              "0   MCP3040003N         190026050  Montgomery County Police   \n",
              "1   MCP1307000K         190024786  Montgomery County Police   \n",
              "\n",
              "        ACRS Report Type Route Type Road Name Cross-Street Type  \\\n",
              "0  Property Damage Crash        NaN       NaN               NaN   \n",
              "1  Property Damage Crash        NaN       NaN               NaN   \n",
              "\n",
              "  Cross-Street Name Collision Type Weather Surface Condition     Light  \\\n",
              "0               NaN          OTHER   CLEAR               NaN  DAYLIGHT   \n",
              "1               NaN            NaN   CLEAR               NaN  DAYLIGHT   \n",
              "\n",
              "  Traffic Control Driver Substance Abuse  \\\n",
              "0             NaN                Unknown   \n",
              "1             NaN                Unknown   \n",
              "\n",
              "                              Person ID Driver At Fault     Injury Severity  \\\n",
              "0  DE2A24CD-7919-4F8D-BABF-5B75CE12D21E             Yes  NO APPARENT INJURY   \n",
              "1  6208FA7B-5DC4-4B54-AD60-0C06DFE2AE81             Yes  NO APPARENT INJURY   \n",
              "\n",
              "  Driver Distracted By Drivers License State  \\\n",
              "0              UNKNOWN                   NaN   \n",
              "1       NOT DISTRACTED                    XX   \n",
              "\n",
              "                             Vehicle ID Vehicle Damage Extent  \\\n",
              "0  165AD539-A8C8-4004-AF73-B7DCAAA8B3CC           SUPERFICIAL   \n",
              "1  10239493-D667-42F9-A3D2-820FE184CB6C            FUNCTIONAL   \n",
              "\n",
              "  Vehicle First Impact Location Vehicle Second Impact Location  \\\n",
              "0                    ONE OCLOCK                     ONE OCLOCK   \n",
              "1                    ONE OCLOCK                     ONE OCLOCK   \n",
              "\n",
              "  Vehicle Body Type Vehicle Movement Vehicle Continuing Dir Vehicle Going Dir  \\\n",
              "0     PASSENGER CAR          PARKING                  North             North   \n",
              "1     PASSENGER CAR          PARKING                Unknown           Unknown   \n",
              "\n",
              "   Speed Limit Driverless Vehicle Parked Vehicle  Vehicle Year Vehicle Make  \\\n",
              "0           15                 No             No          2004        HONDA   \n",
              "1            0                 No             No             0          UNK   \n",
              "\n",
              "  Vehicle Model Equipment Problems   Latitude  Longitude  \\\n",
              "0            TK            UNKNOWN  39.150044 -77.063089   \n",
              "1           UNK            UNKNOWN  39.199047 -77.250743   \n",
              "\n",
              "                      Location Weekday? Crash Time  Crash Date  \\\n",
              "0  (39.15004368, -77.06308884)  weekday   15:00:00  2019-05-31   \n",
              "1  (39.19904667, -77.25074333)  weekday   17:00:00  2019-05-24   \n",
              "\n",
              "  Driver Distracted Group  \n",
              "0                  Others  \n",
              "1          NOT DISTRACTED  "
            ],
            "text/html": [
              "\n",
              "  <div id=\"df-31bd485c-161b-412b-b0b5-882351576373\" class=\"colab-df-container\">\n",
              "    <div>\n",
              "<style scoped>\n",
              "    .dataframe tbody tr th:only-of-type {\n",
              "        vertical-align: middle;\n",
              "    }\n",
              "\n",
              "    .dataframe tbody tr th {\n",
              "        vertical-align: top;\n",
              "    }\n",
              "\n",
              "    .dataframe thead th {\n",
              "        text-align: right;\n",
              "    }\n",
              "</style>\n",
              "<table border=\"1\" class=\"dataframe\">\n",
              "  <thead>\n",
              "    <tr style=\"text-align: right;\">\n",
              "      <th></th>\n",
              "      <th>Report Number</th>\n",
              "      <th>Local Case Number</th>\n",
              "      <th>Agency Name</th>\n",
              "      <th>ACRS Report Type</th>\n",
              "      <th>Route Type</th>\n",
              "      <th>Road Name</th>\n",
              "      <th>Cross-Street Type</th>\n",
              "      <th>Cross-Street Name</th>\n",
              "      <th>Collision Type</th>\n",
              "      <th>Weather</th>\n",
              "      <th>Surface Condition</th>\n",
              "      <th>Light</th>\n",
              "      <th>Traffic Control</th>\n",
              "      <th>Driver Substance Abuse</th>\n",
              "      <th>Person ID</th>\n",
              "      <th>Driver At Fault</th>\n",
              "      <th>Injury Severity</th>\n",
              "      <th>Driver Distracted By</th>\n",
              "      <th>Drivers License State</th>\n",
              "      <th>Vehicle ID</th>\n",
              "      <th>Vehicle Damage Extent</th>\n",
              "      <th>Vehicle First Impact Location</th>\n",
              "      <th>Vehicle Second Impact Location</th>\n",
              "      <th>Vehicle Body Type</th>\n",
              "      <th>Vehicle Movement</th>\n",
              "      <th>Vehicle Continuing Dir</th>\n",
              "      <th>Vehicle Going Dir</th>\n",
              "      <th>Speed Limit</th>\n",
              "      <th>Driverless Vehicle</th>\n",
              "      <th>Parked Vehicle</th>\n",
              "      <th>Vehicle Year</th>\n",
              "      <th>Vehicle Make</th>\n",
              "      <th>Vehicle Model</th>\n",
              "      <th>Equipment Problems</th>\n",
              "      <th>Latitude</th>\n",
              "      <th>Longitude</th>\n",
              "      <th>Location</th>\n",
              "      <th>Weekday?</th>\n",
              "      <th>Crash Time</th>\n",
              "      <th>Crash Date</th>\n",
              "      <th>Driver Distracted Group</th>\n",
              "    </tr>\n",
              "  </thead>\n",
              "  <tbody>\n",
              "    <tr>\n",
              "      <th>0</th>\n",
              "      <td>MCP3040003N</td>\n",
              "      <td>190026050</td>\n",
              "      <td>Montgomery County Police</td>\n",
              "      <td>Property Damage Crash</td>\n",
              "      <td>NaN</td>\n",
              "      <td>NaN</td>\n",
              "      <td>NaN</td>\n",
              "      <td>NaN</td>\n",
              "      <td>OTHER</td>\n",
              "      <td>CLEAR</td>\n",
              "      <td>NaN</td>\n",
              "      <td>DAYLIGHT</td>\n",
              "      <td>NaN</td>\n",
              "      <td>Unknown</td>\n",
              "      <td>DE2A24CD-7919-4F8D-BABF-5B75CE12D21E</td>\n",
              "      <td>Yes</td>\n",
              "      <td>NO APPARENT INJURY</td>\n",
              "      <td>UNKNOWN</td>\n",
              "      <td>NaN</td>\n",
              "      <td>165AD539-A8C8-4004-AF73-B7DCAAA8B3CC</td>\n",
              "      <td>SUPERFICIAL</td>\n",
              "      <td>ONE OCLOCK</td>\n",
              "      <td>ONE OCLOCK</td>\n",
              "      <td>PASSENGER CAR</td>\n",
              "      <td>PARKING</td>\n",
              "      <td>North</td>\n",
              "      <td>North</td>\n",
              "      <td>15</td>\n",
              "      <td>No</td>\n",
              "      <td>No</td>\n",
              "      <td>2004</td>\n",
              "      <td>HONDA</td>\n",
              "      <td>TK</td>\n",
              "      <td>UNKNOWN</td>\n",
              "      <td>39.150044</td>\n",
              "      <td>-77.063089</td>\n",
              "      <td>(39.15004368, -77.06308884)</td>\n",
              "      <td>weekday</td>\n",
              "      <td>15:00:00</td>\n",
              "      <td>2019-05-31</td>\n",
              "      <td>Others</td>\n",
              "    </tr>\n",
              "    <tr>\n",
              "      <th>1</th>\n",
              "      <td>MCP1307000K</td>\n",
              "      <td>190024786</td>\n",
              "      <td>Montgomery County Police</td>\n",
              "      <td>Property Damage Crash</td>\n",
              "      <td>NaN</td>\n",
              "      <td>NaN</td>\n",
              "      <td>NaN</td>\n",
              "      <td>NaN</td>\n",
              "      <td>NaN</td>\n",
              "      <td>CLEAR</td>\n",
              "      <td>NaN</td>\n",
              "      <td>DAYLIGHT</td>\n",
              "      <td>NaN</td>\n",
              "      <td>Unknown</td>\n",
              "      <td>6208FA7B-5DC4-4B54-AD60-0C06DFE2AE81</td>\n",
              "      <td>Yes</td>\n",
              "      <td>NO APPARENT INJURY</td>\n",
              "      <td>NOT DISTRACTED</td>\n",
              "      <td>XX</td>\n",
              "      <td>10239493-D667-42F9-A3D2-820FE184CB6C</td>\n",
              "      <td>FUNCTIONAL</td>\n",
              "      <td>ONE OCLOCK</td>\n",
              "      <td>ONE OCLOCK</td>\n",
              "      <td>PASSENGER CAR</td>\n",
              "      <td>PARKING</td>\n",
              "      <td>Unknown</td>\n",
              "      <td>Unknown</td>\n",
              "      <td>0</td>\n",
              "      <td>No</td>\n",
              "      <td>No</td>\n",
              "      <td>0</td>\n",
              "      <td>UNK</td>\n",
              "      <td>UNK</td>\n",
              "      <td>UNKNOWN</td>\n",
              "      <td>39.199047</td>\n",
              "      <td>-77.250743</td>\n",
              "      <td>(39.19904667, -77.25074333)</td>\n",
              "      <td>weekday</td>\n",
              "      <td>17:00:00</td>\n",
              "      <td>2019-05-24</td>\n",
              "      <td>NOT DISTRACTED</td>\n",
              "    </tr>\n",
              "  </tbody>\n",
              "</table>\n",
              "</div>\n",
              "    <div class=\"colab-df-buttons\">\n",
              "\n",
              "  <div class=\"colab-df-container\">\n",
              "    <button class=\"colab-df-convert\" onclick=\"convertToInteractive('df-31bd485c-161b-412b-b0b5-882351576373')\"\n",
              "            title=\"Convert this dataframe to an interactive table.\"\n",
              "            style=\"display:none;\">\n",
              "\n",
              "  <svg xmlns=\"http://www.w3.org/2000/svg\" height=\"24px\" viewBox=\"0 -960 960 960\">\n",
              "    <path d=\"M120-120v-720h720v720H120Zm60-500h600v-160H180v160Zm220 220h160v-160H400v160Zm0 220h160v-160H400v160ZM180-400h160v-160H180v160Zm440 0h160v-160H620v160ZM180-180h160v-160H180v160Zm440 0h160v-160H620v160Z\"/>\n",
              "  </svg>\n",
              "    </button>\n",
              "\n",
              "  <style>\n",
              "    .colab-df-container {\n",
              "      display:flex;\n",
              "      gap: 12px;\n",
              "    }\n",
              "\n",
              "    .colab-df-convert {\n",
              "      background-color: #E8F0FE;\n",
              "      border: none;\n",
              "      border-radius: 50%;\n",
              "      cursor: pointer;\n",
              "      display: none;\n",
              "      fill: #1967D2;\n",
              "      height: 32px;\n",
              "      padding: 0 0 0 0;\n",
              "      width: 32px;\n",
              "    }\n",
              "\n",
              "    .colab-df-convert:hover {\n",
              "      background-color: #E2EBFA;\n",
              "      box-shadow: 0px 1px 2px rgba(60, 64, 67, 0.3), 0px 1px 3px 1px rgba(60, 64, 67, 0.15);\n",
              "      fill: #174EA6;\n",
              "    }\n",
              "\n",
              "    .colab-df-buttons div {\n",
              "      margin-bottom: 4px;\n",
              "    }\n",
              "\n",
              "    [theme=dark] .colab-df-convert {\n",
              "      background-color: #3B4455;\n",
              "      fill: #D2E3FC;\n",
              "    }\n",
              "\n",
              "    [theme=dark] .colab-df-convert:hover {\n",
              "      background-color: #434B5C;\n",
              "      box-shadow: 0px 1px 3px 1px rgba(0, 0, 0, 0.15);\n",
              "      filter: drop-shadow(0px 1px 2px rgba(0, 0, 0, 0.3));\n",
              "      fill: #FFFFFF;\n",
              "    }\n",
              "  </style>\n",
              "\n",
              "    <script>\n",
              "      const buttonEl =\n",
              "        document.querySelector('#df-31bd485c-161b-412b-b0b5-882351576373 button.colab-df-convert');\n",
              "      buttonEl.style.display =\n",
              "        google.colab.kernel.accessAllowed ? 'block' : 'none';\n",
              "\n",
              "      async function convertToInteractive(key) {\n",
              "        const element = document.querySelector('#df-31bd485c-161b-412b-b0b5-882351576373');\n",
              "        const dataTable =\n",
              "          await google.colab.kernel.invokeFunction('convertToInteractive',\n",
              "                                                    [key], {});\n",
              "        if (!dataTable) return;\n",
              "\n",
              "        const docLinkHtml = 'Like what you see? Visit the ' +\n",
              "          '<a target=\"_blank\" href=https://colab.research.google.com/notebooks/data_table.ipynb>data table notebook</a>'\n",
              "          + ' to learn more about interactive tables.';\n",
              "        element.innerHTML = '';\n",
              "        dataTable['output_type'] = 'display_data';\n",
              "        await google.colab.output.renderOutput(dataTable, element);\n",
              "        const docLink = document.createElement('div');\n",
              "        docLink.innerHTML = docLinkHtml;\n",
              "        element.appendChild(docLink);\n",
              "      }\n",
              "    </script>\n",
              "  </div>\n",
              "\n",
              "\n",
              "<div id=\"df-f11aac5d-0526-45f3-a9f4-9991690b11c4\">\n",
              "  <button class=\"colab-df-quickchart\" onclick=\"quickchart('df-f11aac5d-0526-45f3-a9f4-9991690b11c4')\"\n",
              "            title=\"Suggest charts.\"\n",
              "            style=\"display:none;\">\n",
              "\n",
              "<svg xmlns=\"http://www.w3.org/2000/svg\" height=\"24px\"viewBox=\"0 0 24 24\"\n",
              "     width=\"24px\">\n",
              "    <g>\n",
              "        <path d=\"M19 3H5c-1.1 0-2 .9-2 2v14c0 1.1.9 2 2 2h14c1.1 0 2-.9 2-2V5c0-1.1-.9-2-2-2zM9 17H7v-7h2v7zm4 0h-2V7h2v10zm4 0h-2v-4h2v4z\"/>\n",
              "    </g>\n",
              "</svg>\n",
              "  </button>\n",
              "\n",
              "<style>\n",
              "  .colab-df-quickchart {\n",
              "      --bg-color: #E8F0FE;\n",
              "      --fill-color: #1967D2;\n",
              "      --hover-bg-color: #E2EBFA;\n",
              "      --hover-fill-color: #174EA6;\n",
              "      --disabled-fill-color: #AAA;\n",
              "      --disabled-bg-color: #DDD;\n",
              "  }\n",
              "\n",
              "  [theme=dark] .colab-df-quickchart {\n",
              "      --bg-color: #3B4455;\n",
              "      --fill-color: #D2E3FC;\n",
              "      --hover-bg-color: #434B5C;\n",
              "      --hover-fill-color: #FFFFFF;\n",
              "      --disabled-bg-color: #3B4455;\n",
              "      --disabled-fill-color: #666;\n",
              "  }\n",
              "\n",
              "  .colab-df-quickchart {\n",
              "    background-color: var(--bg-color);\n",
              "    border: none;\n",
              "    border-radius: 50%;\n",
              "    cursor: pointer;\n",
              "    display: none;\n",
              "    fill: var(--fill-color);\n",
              "    height: 32px;\n",
              "    padding: 0;\n",
              "    width: 32px;\n",
              "  }\n",
              "\n",
              "  .colab-df-quickchart:hover {\n",
              "    background-color: var(--hover-bg-color);\n",
              "    box-shadow: 0 1px 2px rgba(60, 64, 67, 0.3), 0 1px 3px 1px rgba(60, 64, 67, 0.15);\n",
              "    fill: var(--button-hover-fill-color);\n",
              "  }\n",
              "\n",
              "  .colab-df-quickchart-complete:disabled,\n",
              "  .colab-df-quickchart-complete:disabled:hover {\n",
              "    background-color: var(--disabled-bg-color);\n",
              "    fill: var(--disabled-fill-color);\n",
              "    box-shadow: none;\n",
              "  }\n",
              "\n",
              "  .colab-df-spinner {\n",
              "    border: 2px solid var(--fill-color);\n",
              "    border-color: transparent;\n",
              "    border-bottom-color: var(--fill-color);\n",
              "    animation:\n",
              "      spin 1s steps(1) infinite;\n",
              "  }\n",
              "\n",
              "  @keyframes spin {\n",
              "    0% {\n",
              "      border-color: transparent;\n",
              "      border-bottom-color: var(--fill-color);\n",
              "      border-left-color: var(--fill-color);\n",
              "    }\n",
              "    20% {\n",
              "      border-color: transparent;\n",
              "      border-left-color: var(--fill-color);\n",
              "      border-top-color: var(--fill-color);\n",
              "    }\n",
              "    30% {\n",
              "      border-color: transparent;\n",
              "      border-left-color: var(--fill-color);\n",
              "      border-top-color: var(--fill-color);\n",
              "      border-right-color: var(--fill-color);\n",
              "    }\n",
              "    40% {\n",
              "      border-color: transparent;\n",
              "      border-right-color: var(--fill-color);\n",
              "      border-top-color: var(--fill-color);\n",
              "    }\n",
              "    60% {\n",
              "      border-color: transparent;\n",
              "      border-right-color: var(--fill-color);\n",
              "    }\n",
              "    80% {\n",
              "      border-color: transparent;\n",
              "      border-right-color: var(--fill-color);\n",
              "      border-bottom-color: var(--fill-color);\n",
              "    }\n",
              "    90% {\n",
              "      border-color: transparent;\n",
              "      border-bottom-color: var(--fill-color);\n",
              "    }\n",
              "  }\n",
              "</style>\n",
              "\n",
              "  <script>\n",
              "    async function quickchart(key) {\n",
              "      const quickchartButtonEl =\n",
              "        document.querySelector('#' + key + ' button');\n",
              "      quickchartButtonEl.disabled = true;  // To prevent multiple clicks.\n",
              "      quickchartButtonEl.classList.add('colab-df-spinner');\n",
              "      try {\n",
              "        const charts = await google.colab.kernel.invokeFunction(\n",
              "            'suggestCharts', [key], {});\n",
              "      } catch (error) {\n",
              "        console.error('Error during call to suggestCharts:', error);\n",
              "      }\n",
              "      quickchartButtonEl.classList.remove('colab-df-spinner');\n",
              "      quickchartButtonEl.classList.add('colab-df-quickchart-complete');\n",
              "    }\n",
              "    (() => {\n",
              "      let quickchartButtonEl =\n",
              "        document.querySelector('#df-f11aac5d-0526-45f3-a9f4-9991690b11c4 button');\n",
              "      quickchartButtonEl.style.display =\n",
              "        google.colab.kernel.accessAllowed ? 'block' : 'none';\n",
              "    })();\n",
              "  </script>\n",
              "</div>\n",
              "    </div>\n",
              "  </div>\n"
            ]
          },
          "metadata": {},
          "execution_count": 266
        }
      ]
    },
    {
      "cell_type": "markdown",
      "source": [
        "### Geographical data"
      ],
      "metadata": {
        "id": "vEzqGgSk5Qn4"
      }
    },
    {
      "cell_type": "code",
      "source": [],
      "metadata": {
        "id": "58qGgx6R2cL9"
      },
      "execution_count": null,
      "outputs": []
    },
    {
      "cell_type": "code",
      "source": [],
      "metadata": {
        "id": "RhKMYpOSzNJv"
      },
      "execution_count": null,
      "outputs": []
    }
  ]
}